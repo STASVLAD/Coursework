{
 "metadata": {
  "language_info": {
   "codemirror_mode": {
    "name": "ipython",
    "version": 3
   },
   "file_extension": ".py",
   "mimetype": "text/x-python",
   "name": "python",
   "nbconvert_exporter": "python",
   "pygments_lexer": "ipython3",
   "version": "3.8.5"
  },
  "orig_nbformat": 2,
  "kernelspec": {
   "name": "python385jvsc74a57bd0767d51c1340bd893661ea55ea3124f6de3c7a262a8b4abca0554b478b1e2ff90",
   "display_name": "Python 3.8.5 64-bit ('usr')"
  },
  "metadata": {
   "interpreter": {
    "hash": "767d51c1340bd893661ea55ea3124f6de3c7a262a8b4abca0554b478b1e2ff90"
   }
  }
 },
 "nbformat": 4,
 "nbformat_minor": 2,
 "cells": [
  {
   "cell_type": "code",
   "execution_count": 1,
   "metadata": {},
   "outputs": [],
   "source": [
    "import numpy as np\n",
    "import pandas as pd"
   ]
  },
  {
   "cell_type": "code",
   "execution_count": 2,
   "metadata": {},
   "outputs": [],
   "source": [
    "with np.load('/media/stasvlad/storage/data/recipes.npz', allow_pickle=True) as data:\n",
    "    ingredients = data['ingredients']\n",
    "    recipes = data['recipes']"
   ]
  },
  {
   "cell_type": "code",
   "execution_count": 13,
   "metadata": {},
   "outputs": [
    {
     "output_type": "execute_result",
     "data": {
      "text/plain": [
       "1067556"
      ]
     },
     "metadata": {},
     "execution_count": 13
    }
   ],
   "source": [
    "len(recipes)"
   ]
  },
  {
   "cell_type": "code",
   "execution_count": 3,
   "metadata": {},
   "outputs": [
    {
     "output_type": "execute_result",
     "data": {
      "text/plain": [
       "                                                   0\n",
       "0  [233, 2754, 42, 120, 560, 345, 150, 2081, 12, 21]\n",
       "1  [198, 249, 2, 194, 1884, 791, 965, 423, 53, 48...\n",
       "2  [328, 263, 62, 46, 445, 55, 1196, 82, 664, 3, ...\n",
       "3                                        [988, 1307]\n",
       "4  [14, 1117, 998, 1010, 9, 30, 18, 29, 214, 1752..."
      ],
      "text/html": "<div>\n<style scoped>\n    .dataframe tbody tr th:only-of-type {\n        vertical-align: middle;\n    }\n\n    .dataframe tbody tr th {\n        vertical-align: top;\n    }\n\n    .dataframe thead th {\n        text-align: right;\n    }\n</style>\n<table border=\"1\" class=\"dataframe\">\n  <thead>\n    <tr style=\"text-align: right;\">\n      <th></th>\n      <th>0</th>\n    </tr>\n  </thead>\n  <tbody>\n    <tr>\n      <th>0</th>\n      <td>[233, 2754, 42, 120, 560, 345, 150, 2081, 12, 21]</td>\n    </tr>\n    <tr>\n      <th>1</th>\n      <td>[198, 249, 2, 194, 1884, 791, 965, 423, 53, 48...</td>\n    </tr>\n    <tr>\n      <th>2</th>\n      <td>[328, 263, 62, 46, 445, 55, 1196, 82, 664, 3, ...</td>\n    </tr>\n    <tr>\n      <th>3</th>\n      <td>[988, 1307]</td>\n    </tr>\n    <tr>\n      <th>4</th>\n      <td>[14, 1117, 998, 1010, 9, 30, 18, 29, 214, 1752...</td>\n    </tr>\n  </tbody>\n</table>\n</div>"
     },
     "metadata": {},
     "execution_count": 3
    }
   ],
   "source": [
    "recipes_df = pd.DataFrame(recipes)\n",
    "recipes_df.head()"
   ]
  },
  {
   "cell_type": "code",
   "execution_count": 4,
   "metadata": {},
   "outputs": [],
   "source": [
    "ingredients_list = ingredients.tolist()\n",
    "ingredients_map = {ingredient:ingredients_list.index(ingredient) for ingredient in ingredients_list}"
   ]
  },
  {
   "cell_type": "code",
   "execution_count": 5,
   "metadata": {},
   "outputs": [
    {
     "output_type": "execute_result",
     "data": {
      "text/plain": [
       "[15, 69, 13, 980, 54, 178, 8, 495]"
      ]
     },
     "metadata": {},
     "execution_count": 5
    }
   ],
   "source": [
    "shopping_list = ['milk', 'bread', 'eggs', 'pancake', 'sour cream', 'noodles', 'water', 'cucumbers']\n",
    "shopping_list_ids = [ingredients_map[product] for product in shopping_list]\n",
    "shopping_list_ids"
   ]
  },
  {
   "cell_type": "code",
   "execution_count": 6,
   "metadata": {},
   "outputs": [],
   "source": [
    "def metric(row, shop_list):\n",
    "    recipe = row.values[0].tolist()\n",
    "    recipe_set = set(recipe)\n",
    "    intersection_set = recipe_set.intersection(set(shop_list))\n",
    "    intersection_size = len(intersection_set)\n",
    "    recipe_size = len(recipe)\n",
    "    return intersection_size / recipe_size"
   ]
  },
  {
   "cell_type": "code",
   "execution_count": 7,
   "metadata": {},
   "outputs": [
    {
     "output_type": "stream",
     "name": "stdout",
     "text": [
      "CPU times: user 11.7 s, sys: 50.4 ms, total: 11.7 s\nWall time: 11.7 s\n"
     ]
    }
   ],
   "source": [
    "%%time\n",
    "recipes_df['metric'] = recipes_df.apply(metric, args=(shopping_list_ids,), axis=1)"
   ]
  },
  {
   "cell_type": "code",
   "execution_count": 8,
   "metadata": {},
   "outputs": [],
   "source": [
    "def metric(recipe, shop_list):\n",
    "    recipe_set = set(recipe)\n",
    "    intersection_set = recipe_set.intersection(set(shop_list))\n",
    "    intersection_size = len(intersection_set)\n",
    "    recipe_size = len(recipe)\n",
    "    return intersection_size / recipe_size"
   ]
  },
  {
   "cell_type": "code",
   "execution_count": 32,
   "metadata": {},
   "outputs": [],
   "source": [
    "def metric(recipe, shop_list):\n",
    "    recipe_set = {1,2,3,4,5,6,7,8,9}\n",
    "    intersection_set = recipe_set.intersection({1,2,3})\n",
    "    intersection_size = len(intersection_set)\n",
    "    recipe_size = len(recipe)\n",
    "    return intersection_size / recipe_size"
   ]
  },
  {
   "cell_type": "code",
   "execution_count": 33,
   "metadata": {},
   "outputs": [],
   "source": [
    "vfunc = np.vectorize(metric, excluded=['shop_list'])"
   ]
  },
  {
   "cell_type": "code",
   "execution_count": 34,
   "metadata": {},
   "outputs": [
    {
     "output_type": "stream",
     "name": "stdout",
     "text": [
      "CPU times: user 2.35 s, sys: 11.9 ms, total: 2.36 s\nWall time: 2.36 s\n"
     ]
    }
   ],
   "source": [
    "%%time\n",
    "metric = vfunc(recipe=recipes, shop_list=shopping_list_ids)"
   ]
  },
  {
   "cell_type": "code",
   "execution_count": 12,
   "metadata": {},
   "outputs": [
    {
     "output_type": "execute_result",
     "data": {
      "text/plain": [
       "1067556"
      ]
     },
     "metadata": {},
     "execution_count": 12
    }
   ],
   "source": [
    "len(metric)"
   ]
  },
  {
   "cell_type": "code",
   "execution_count": 20,
   "metadata": {},
   "outputs": [
    {
     "output_type": "execute_result",
     "data": {
      "text/plain": [
       "array([], dtype=object)"
      ]
     },
     "metadata": {},
     "execution_count": 20
    }
   ],
   "source": [
    "t = np.in1d(recipes, shopping_list_ids, assume_unique=True)\n",
    "recipes[t]"
   ]
  },
  {
   "cell_type": "code",
   "execution_count": null,
   "metadata": {},
   "outputs": [],
   "source": [
    "np.array([item in b for item in a])"
   ]
  },
  {
   "source": [
    "# TODO\n",
    "# numpy array of sets"
   ],
   "cell_type": "code",
   "metadata": {},
   "execution_count": null,
   "outputs": []
  },
  {
   "cell_type": "code",
   "execution_count": null,
   "metadata": {},
   "outputs": [],
   "source": []
  }
 ]
}