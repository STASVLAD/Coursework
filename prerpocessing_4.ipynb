{
 "metadata": {
  "language_info": {
   "codemirror_mode": {
    "name": "ipython",
    "version": 3
   },
   "file_extension": ".py",
   "mimetype": "text/x-python",
   "name": "python",
   "nbconvert_exporter": "python",
   "pygments_lexer": "ipython3",
   "version": "3.8.5"
  },
  "orig_nbformat": 2,
  "kernelspec": {
   "name": "python385jvsc74a57bd0767d51c1340bd893661ea55ea3124f6de3c7a262a8b4abca0554b478b1e2ff90",
   "display_name": "Python 3.8.5 64-bit ('usr')"
  },
  "metadata": {
   "interpreter": {
    "hash": "767d51c1340bd893661ea55ea3124f6de3c7a262a8b4abca0554b478b1e2ff90"
   }
  }
 },
 "nbformat": 4,
 "nbformat_minor": 2,
 "cells": [
  {
   "cell_type": "code",
   "execution_count": 1,
   "metadata": {},
   "outputs": [],
   "source": [
    "import numpy as np\n",
    "import pandas as pd\n",
    "from functools import reduce"
   ]
  },
  {
   "cell_type": "code",
   "execution_count": 2,
   "metadata": {},
   "outputs": [],
   "source": [
    "with np.load('/media/stasvlad/storage/data/recipes.npz', allow_pickle=True) as data:\n",
    "    ingredients = data['ingredients']\n",
    "    recipes = data['recipes']"
   ]
  },
  {
   "cell_type": "code",
   "execution_count": 3,
   "metadata": {},
   "outputs": [
    {
     "output_type": "execute_result",
     "data": {
      "text/plain": [
       "1067556"
      ]
     },
     "metadata": {},
     "execution_count": 3
    }
   ],
   "source": [
    "len(recipes)"
   ]
  },
  {
   "cell_type": "code",
   "execution_count": 4,
   "metadata": {},
   "outputs": [
    {
     "output_type": "execute_result",
     "data": {
      "text/plain": [
       "                                                   0\n",
       "0  [233, 2754, 42, 120, 560, 345, 150, 2081, 12, 21]\n",
       "1  [198, 249, 2, 194, 1884, 791, 965, 423, 53, 48...\n",
       "2  [328, 263, 62, 46, 445, 55, 1196, 82, 664, 3, ...\n",
       "3                                        [988, 1307]\n",
       "4  [14, 1117, 998, 1010, 9, 30, 18, 29, 214, 1752..."
      ],
      "text/html": "<div>\n<style scoped>\n    .dataframe tbody tr th:only-of-type {\n        vertical-align: middle;\n    }\n\n    .dataframe tbody tr th {\n        vertical-align: top;\n    }\n\n    .dataframe thead th {\n        text-align: right;\n    }\n</style>\n<table border=\"1\" class=\"dataframe\">\n  <thead>\n    <tr style=\"text-align: right;\">\n      <th></th>\n      <th>0</th>\n    </tr>\n  </thead>\n  <tbody>\n    <tr>\n      <th>0</th>\n      <td>[233, 2754, 42, 120, 560, 345, 150, 2081, 12, 21]</td>\n    </tr>\n    <tr>\n      <th>1</th>\n      <td>[198, 249, 2, 194, 1884, 791, 965, 423, 53, 48...</td>\n    </tr>\n    <tr>\n      <th>2</th>\n      <td>[328, 263, 62, 46, 445, 55, 1196, 82, 664, 3, ...</td>\n    </tr>\n    <tr>\n      <th>3</th>\n      <td>[988, 1307]</td>\n    </tr>\n    <tr>\n      <th>4</th>\n      <td>[14, 1117, 998, 1010, 9, 30, 18, 29, 214, 1752...</td>\n    </tr>\n  </tbody>\n</table>\n</div>"
     },
     "metadata": {},
     "execution_count": 4
    }
   ],
   "source": [
    "recipes_df = pd.DataFrame(recipes)\n",
    "recipes_df.head()"
   ]
  },
  {
   "cell_type": "code",
   "execution_count": 5,
   "metadata": {},
   "outputs": [],
   "source": [
    "ingredients_list = ingredients.tolist()\n",
    "ingredients_map = {ingredient:ingredients_list.index(ingredient) for ingredient in ingredients_list}"
   ]
  },
  {
   "cell_type": "code",
   "execution_count": 7,
   "metadata": {},
   "outputs": [
    {
     "output_type": "execute_result",
     "data": {
      "text/plain": [
       "                                                   0\n",
       "0  [233, 2754, 42, 120, 560, 345, 150, 2081, 12, 21]\n",
       "1  [198, 249, 2, 194, 1884, 791, 965, 423, 53, 48...\n",
       "2  [328, 263, 62, 46, 445, 55, 1196, 82, 664, 3, ...\n",
       "3                                        [988, 1307]\n",
       "4  [14, 1117, 998, 1010, 9, 30, 18, 29, 214, 1752..."
      ],
      "text/html": "<div>\n<style scoped>\n    .dataframe tbody tr th:only-of-type {\n        vertical-align: middle;\n    }\n\n    .dataframe tbody tr th {\n        vertical-align: top;\n    }\n\n    .dataframe thead th {\n        text-align: right;\n    }\n</style>\n<table border=\"1\" class=\"dataframe\">\n  <thead>\n    <tr style=\"text-align: right;\">\n      <th></th>\n      <th>0</th>\n    </tr>\n  </thead>\n  <tbody>\n    <tr>\n      <th>0</th>\n      <td>[233, 2754, 42, 120, 560, 345, 150, 2081, 12, 21]</td>\n    </tr>\n    <tr>\n      <th>1</th>\n      <td>[198, 249, 2, 194, 1884, 791, 965, 423, 53, 48...</td>\n    </tr>\n    <tr>\n      <th>2</th>\n      <td>[328, 263, 62, 46, 445, 55, 1196, 82, 664, 3, ...</td>\n    </tr>\n    <tr>\n      <th>3</th>\n      <td>[988, 1307]</td>\n    </tr>\n    <tr>\n      <th>4</th>\n      <td>[14, 1117, 998, 1010, 9, 30, 18, 29, 214, 1752...</td>\n    </tr>\n  </tbody>\n</table>\n</div>"
     },
     "metadata": {},
     "execution_count": 7
    }
   ],
   "source": [
    "df_test = pd.DataFrame(recipes)\n",
    "df_test.head()"
   ]
  },
  {
   "cell_type": "code",
   "execution_count": 8,
   "metadata": {},
   "outputs": [],
   "source": [
    "df_test = pd.DataFrame(df_test.apply(lambda x: set(x.values[0].tolist()), axis=1))"
   ]
  },
  {
   "cell_type": "code",
   "execution_count": 9,
   "metadata": {},
   "outputs": [
    {
     "output_type": "execute_result",
     "data": {
      "text/plain": [
       "                                                   0\n",
       "0  {2081, 2754, 233, 42, 12, 560, 21, 150, 120, 345}\n",
       "1  {2, 194, 965, 198, 423, 1031, 8, 362, 48, 94, ...\n",
       "2  {128, 1, 0, 3, 6, 263, 7, 262, 10, 8, 140, 141...\n",
       "3                                        {1307, 988}\n",
       "4  {1, 132, 1477, 998, 196, 9, 14, 113, 1010, 18,..."
      ],
      "text/html": "<div>\n<style scoped>\n    .dataframe tbody tr th:only-of-type {\n        vertical-align: middle;\n    }\n\n    .dataframe tbody tr th {\n        vertical-align: top;\n    }\n\n    .dataframe thead th {\n        text-align: right;\n    }\n</style>\n<table border=\"1\" class=\"dataframe\">\n  <thead>\n    <tr style=\"text-align: right;\">\n      <th></th>\n      <th>0</th>\n    </tr>\n  </thead>\n  <tbody>\n    <tr>\n      <th>0</th>\n      <td>{2081, 2754, 233, 42, 12, 560, 21, 150, 120, 345}</td>\n    </tr>\n    <tr>\n      <th>1</th>\n      <td>{2, 194, 965, 198, 423, 1031, 8, 362, 48, 94, ...</td>\n    </tr>\n    <tr>\n      <th>2</th>\n      <td>{128, 1, 0, 3, 6, 263, 7, 262, 10, 8, 140, 141...</td>\n    </tr>\n    <tr>\n      <th>3</th>\n      <td>{1307, 988}</td>\n    </tr>\n    <tr>\n      <th>4</th>\n      <td>{1, 132, 1477, 998, 196, 9, 14, 113, 1010, 18,...</td>\n    </tr>\n  </tbody>\n</table>\n</div>"
     },
     "metadata": {},
     "execution_count": 9
    }
   ],
   "source": [
    "df_test.head()"
   ]
  },
  {
   "cell_type": "code",
   "execution_count": 10,
   "metadata": {},
   "outputs": [],
   "source": [
    "def metric(recipe, shop_list):\n",
    "    intersection_set = recipe.intersection(shop_list)\n",
    "    intersection_size = len(intersection_set)\n",
    "    recipe_size = len(recipe)\n",
    "    if intersection_size != recipe_size:\n",
    "        return intersection_size / recipe_size\n",
    "    else:\n",
    "        return -1"
   ]
  },
  {
   "cell_type": "code",
   "execution_count": 19,
   "metadata": {},
   "outputs": [
    {
     "output_type": "execute_result",
     "data": {
      "text/plain": [
       "{13, 69}"
      ]
     },
     "metadata": {},
     "execution_count": 19
    }
   ],
   "source": [
    "shopping_list = ['bread', 'eggs']\n",
    "shopping_list_ids = [ingredients_map[product] for product in shopping_list]\n",
    "shopping_list_set = set(shopping_list_ids)\n",
    "shopping_list_set"
   ]
  },
  {
   "cell_type": "code",
   "execution_count": 20,
   "metadata": {},
   "outputs": [
    {
     "output_type": "stream",
     "name": "stdout",
     "text": [
      "CPU times: user 1.25 s, sys: 15 ms, total: 1.26 s\nWall time: 1.29 s\n"
     ]
    },
    {
     "output_type": "execute_result",
     "data": {
      "text/plain": [
       "                    0    metric recommend\n",
       "328992  {120, 13, 69}  0.666667     {120}\n",
       "362247  {13, 69, 130}  0.666667     {130}\n",
       "676583   {13, 69, 85}  0.666667      {85}\n",
       "397741    {2, 13, 69}  0.666667       {2}\n",
       "978362  {13, 69, 766}  0.666667     {766}\n",
       "406665   {13, 69, 15}  0.666667      {15}\n",
       "82190   {741, 13, 69}  0.666667     {741}\n",
       "307863   {13, 69, 71}  0.666667      {71}\n",
       "300411     {1683, 13}  0.500000    {1683}\n",
       "920933      {285, 13}  0.500000     {285}"
      ],
      "text/html": "<div>\n<style scoped>\n    .dataframe tbody tr th:only-of-type {\n        vertical-align: middle;\n    }\n\n    .dataframe tbody tr th {\n        vertical-align: top;\n    }\n\n    .dataframe thead th {\n        text-align: right;\n    }\n</style>\n<table border=\"1\" class=\"dataframe\">\n  <thead>\n    <tr style=\"text-align: right;\">\n      <th></th>\n      <th>0</th>\n      <th>metric</th>\n      <th>recommend</th>\n    </tr>\n  </thead>\n  <tbody>\n    <tr>\n      <th>328992</th>\n      <td>{120, 13, 69}</td>\n      <td>0.666667</td>\n      <td>{120}</td>\n    </tr>\n    <tr>\n      <th>362247</th>\n      <td>{13, 69, 130}</td>\n      <td>0.666667</td>\n      <td>{130}</td>\n    </tr>\n    <tr>\n      <th>676583</th>\n      <td>{13, 69, 85}</td>\n      <td>0.666667</td>\n      <td>{85}</td>\n    </tr>\n    <tr>\n      <th>397741</th>\n      <td>{2, 13, 69}</td>\n      <td>0.666667</td>\n      <td>{2}</td>\n    </tr>\n    <tr>\n      <th>978362</th>\n      <td>{13, 69, 766}</td>\n      <td>0.666667</td>\n      <td>{766}</td>\n    </tr>\n    <tr>\n      <th>406665</th>\n      <td>{13, 69, 15}</td>\n      <td>0.666667</td>\n      <td>{15}</td>\n    </tr>\n    <tr>\n      <th>82190</th>\n      <td>{741, 13, 69}</td>\n      <td>0.666667</td>\n      <td>{741}</td>\n    </tr>\n    <tr>\n      <th>307863</th>\n      <td>{13, 69, 71}</td>\n      <td>0.666667</td>\n      <td>{71}</td>\n    </tr>\n    <tr>\n      <th>300411</th>\n      <td>{1683, 13}</td>\n      <td>0.500000</td>\n      <td>{1683}</td>\n    </tr>\n    <tr>\n      <th>920933</th>\n      <td>{285, 13}</td>\n      <td>0.500000</td>\n      <td>{285}</td>\n    </tr>\n  </tbody>\n</table>\n</div>"
     },
     "metadata": {},
     "execution_count": 20
    }
   ],
   "source": [
    "%%time\n",
    "df_test['metric'] = df_test[0].apply(metric, args=(shopping_list_set,))\n",
    "df_best = df_test.sort_values(by='metric', ascending=False).head(10)\n",
    "df_best['recommend'] = df_best[0] - shopping_list_set\n",
    "df_best"
   ]
  },
  {
   "cell_type": "code",
   "execution_count": 21,
   "metadata": {},
   "outputs": [
    {
     "output_type": "stream",
     "name": "stdout",
     "text": [
      "CPU times: user 273 µs, sys: 18 µs, total: 291 µs\nWall time: 299 µs\n"
     ]
    },
    {
     "output_type": "execute_result",
     "data": {
      "text/plain": [
       "[130, 2, 741, 71, 15, 1683, 85, 120, 285, 766]"
      ]
     },
     "metadata": {},
     "execution_count": 21
    }
   ],
   "source": [
    "%%time\n",
    "best = list(reduce(set().union, df_best['recommend'].values))\n",
    "best"
   ]
  },
  {
   "cell_type": "code",
   "execution_count": 22,
   "metadata": {},
   "outputs": [
    {
     "output_type": "execute_result",
     "data": {
      "text/plain": [
       "array(['temperature', 'butter', 'large eggs', 'oil', 'milk', 'eggnog',\n",
       "       'bacon', 'mozzarella', 'salsa', 'wheat bread'], dtype='<U39')"
      ]
     },
     "metadata": {},
     "execution_count": 22
    }
   ],
   "source": [
    "ingredients[best]"
   ]
  },
  {
   "cell_type": "code",
   "execution_count": null,
   "metadata": {},
   "outputs": [],
   "source": []
  }
 ]
}