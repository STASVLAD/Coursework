{
 "metadata": {
  "language_info": {
   "codemirror_mode": {
    "name": "ipython",
    "version": 3
   },
   "file_extension": ".py",
   "mimetype": "text/x-python",
   "name": "python",
   "nbconvert_exporter": "python",
   "pygments_lexer": "ipython3",
   "version": "3.8.5"
  },
  "orig_nbformat": 4,
  "kernelspec": {
   "name": "python3",
   "display_name": "Python 3.8.5 64-bit"
  },
  "interpreter": {
   "hash": "31f2aee4e71d21fbe5cf8b01ff0e069b9275f58929596ceb00d14d90e3e16cd6"
  }
 },
 "nbformat": 4,
 "nbformat_minor": 2,
 "cells": [
  {
   "cell_type": "code",
   "execution_count": 1,
   "metadata": {},
   "outputs": [],
   "source": [
    "import json\n",
    "import pandas as pd"
   ]
  },
  {
   "cell_type": "code",
   "execution_count": 3,
   "metadata": {},
   "outputs": [],
   "source": [
    "data = json.load(open(\"../old_data/recipes.json\", \"rt\", encoding=\"utf8\"))"
   ]
  },
  {
   "cell_type": "code",
   "execution_count": 4,
   "metadata": {},
   "outputs": [],
   "source": [
    "df = pd.DataFrame.from_dict(data, orient=\"index\")"
   ]
  },
  {
   "cell_type": "code",
   "execution_count": 5,
   "metadata": {},
   "outputs": [
    {
     "output_type": "execute_result",
     "data": {
      "text/plain": [
       "                                                                             title  \\\n",
       "/recepty/zakuski/ogurci-v-ostrom-marinade-16230           Огурцы в остром маринаде   \n",
       "/recepty/zakuski/solenie-limoni-29601                               Соленые лимоны   \n",
       "/recepty/sousy-marinady/marinovannyy-chesnok-so...  Маринованный чеснок со свеклой   \n",
       "/recepty/zagotovki/marinovannye-opyata-94048                    Маринованные опята   \n",
       "/recepty/zakuski/marinovannyy-arbuz-38167                       Маринованный арбуз   \n",
       "\n",
       "                                                                                              img_src  \\\n",
       "/recepty/zakuski/ogurci-v-ostrom-marinade-16230     https://eda.ru/img/eda/c285x285i/s2.eda.ru/Sta...   \n",
       "/recepty/zakuski/solenie-limoni-29601               https://eda.ru/img/eda/c285x285i/s1.eda.ru/Sta...   \n",
       "/recepty/sousy-marinady/marinovannyy-chesnok-so...  https://eda.ru/img/eda/c285x285i/s1.eda.ru/Sta...   \n",
       "/recepty/zagotovki/marinovannye-opyata-94048        https://eda.ru/img/eda/c285x285i/s2.eda.ru/Sta...   \n",
       "/recepty/zakuski/marinovannyy-arbuz-38167           https://eda.ru/img/eda/c285x285i/s1.eda.ru/Sta...   \n",
       "\n",
       "                                                                                          ingredients  \\\n",
       "/recepty/zakuski/ogurci-v-ostrom-marinade-16230     [{'id': 13955, 'name': 'Рисовый уксус', 'amoun...   \n",
       "/recepty/zakuski/solenie-limoni-29601               [{'id': 13427, 'name': 'Лимон', 'amount': '1 к...   \n",
       "/recepty/sousy-marinady/marinovannyy-chesnok-so...  [{'id': 13430, 'name': 'Чеснок', 'amount': '4 ...   \n",
       "/recepty/zagotovki/marinovannye-opyata-94048        [{'id': 14584, 'name': 'Опята', 'amount': '1 к...   \n",
       "/recepty/zakuski/marinovannyy-arbuz-38167           [{'id': 13421, 'name': 'Соль', 'amount': '100 ...   \n",
       "\n",
       "                                                    booked  likes  dislikes  \\\n",
       "/recepty/zakuski/ogurci-v-ostrom-marinade-16230       2552    120        19   \n",
       "/recepty/zakuski/solenie-limoni-29601                  929     38         8   \n",
       "/recepty/sousy-marinady/marinovannyy-chesnok-so...     109      5         0   \n",
       "/recepty/zagotovki/marinovannye-opyata-94048            88      1         1   \n",
       "/recepty/zakuski/marinovannyy-arbuz-38167               39      1         0   \n",
       "\n",
       "                                                   time_to_cook   portions  \\\n",
       "/recepty/zakuski/ogurci-v-ostrom-marinade-16230         5 минут   6 порций   \n",
       "/recepty/zakuski/solenie-limoni-29601                  10 минут  12 порций   \n",
       "/recepty/sousy-marinady/marinovannyy-chesnok-so...     20 минут  10 порций   \n",
       "/recepty/zagotovki/marinovannye-opyata-94048           40 минут  10 порций   \n",
       "/recepty/zakuski/marinovannyy-arbuz-38167              15 минут   6 порций   \n",
       "\n",
       "                                                                 category  id  \n",
       "/recepty/zakuski/ogurci-v-ostrom-marinade-16230     Соленья и консервация   0  \n",
       "/recepty/zakuski/solenie-limoni-29601               Соленья и консервация   1  \n",
       "/recepty/sousy-marinady/marinovannyy-chesnok-so...  Соленья и консервация   2  \n",
       "/recepty/zagotovki/marinovannye-opyata-94048        Соленья и консервация   3  \n",
       "/recepty/zakuski/marinovannyy-arbuz-38167           Соленья и консервация   4  "
      ],
      "text/html": "<div>\n<style scoped>\n    .dataframe tbody tr th:only-of-type {\n        vertical-align: middle;\n    }\n\n    .dataframe tbody tr th {\n        vertical-align: top;\n    }\n\n    .dataframe thead th {\n        text-align: right;\n    }\n</style>\n<table border=\"1\" class=\"dataframe\">\n  <thead>\n    <tr style=\"text-align: right;\">\n      <th></th>\n      <th>title</th>\n      <th>img_src</th>\n      <th>ingredients</th>\n      <th>booked</th>\n      <th>likes</th>\n      <th>dislikes</th>\n      <th>time_to_cook</th>\n      <th>portions</th>\n      <th>category</th>\n      <th>id</th>\n    </tr>\n  </thead>\n  <tbody>\n    <tr>\n      <th>/recepty/zakuski/ogurci-v-ostrom-marinade-16230</th>\n      <td>Огурцы в остром маринаде</td>\n      <td>https://eda.ru/img/eda/c285x285i/s2.eda.ru/Sta...</td>\n      <td>[{'id': 13955, 'name': 'Рисовый уксус', 'amoun...</td>\n      <td>2552</td>\n      <td>120</td>\n      <td>19</td>\n      <td>5 минут</td>\n      <td>6 порций</td>\n      <td>Соленья и консервация</td>\n      <td>0</td>\n    </tr>\n    <tr>\n      <th>/recepty/zakuski/solenie-limoni-29601</th>\n      <td>Соленые лимоны</td>\n      <td>https://eda.ru/img/eda/c285x285i/s1.eda.ru/Sta...</td>\n      <td>[{'id': 13427, 'name': 'Лимон', 'amount': '1 к...</td>\n      <td>929</td>\n      <td>38</td>\n      <td>8</td>\n      <td>10 минут</td>\n      <td>12 порций</td>\n      <td>Соленья и консервация</td>\n      <td>1</td>\n    </tr>\n    <tr>\n      <th>/recepty/sousy-marinady/marinovannyy-chesnok-so-svekloy-137101</th>\n      <td>Маринованный чеснок со свеклой</td>\n      <td>https://eda.ru/img/eda/c285x285i/s1.eda.ru/Sta...</td>\n      <td>[{'id': 13430, 'name': 'Чеснок', 'amount': '4 ...</td>\n      <td>109</td>\n      <td>5</td>\n      <td>0</td>\n      <td>20 минут</td>\n      <td>10 порций</td>\n      <td>Соленья и консервация</td>\n      <td>2</td>\n    </tr>\n    <tr>\n      <th>/recepty/zagotovki/marinovannye-opyata-94048</th>\n      <td>Маринованные опята</td>\n      <td>https://eda.ru/img/eda/c285x285i/s2.eda.ru/Sta...</td>\n      <td>[{'id': 14584, 'name': 'Опята', 'amount': '1 к...</td>\n      <td>88</td>\n      <td>1</td>\n      <td>1</td>\n      <td>40 минут</td>\n      <td>10 порций</td>\n      <td>Соленья и консервация</td>\n      <td>3</td>\n    </tr>\n    <tr>\n      <th>/recepty/zakuski/marinovannyy-arbuz-38167</th>\n      <td>Маринованный арбуз</td>\n      <td>https://eda.ru/img/eda/c285x285i/s1.eda.ru/Sta...</td>\n      <td>[{'id': 13421, 'name': 'Соль', 'amount': '100 ...</td>\n      <td>39</td>\n      <td>1</td>\n      <td>0</td>\n      <td>15 минут</td>\n      <td>6 порций</td>\n      <td>Соленья и консервация</td>\n      <td>4</td>\n    </tr>\n  </tbody>\n</table>\n</div>"
     },
     "metadata": {},
     "execution_count": 5
    }
   ],
   "source": [
    "df.head()"
   ]
  },
  {
   "cell_type": "code",
   "execution_count": 6,
   "metadata": {},
   "outputs": [],
   "source": [
    "df = df.drop(columns = ['time_to_cook', 'booked', 'likes', 'dislikes'])"
   ]
  },
  {
   "cell_type": "code",
   "execution_count": 7,
   "metadata": {},
   "outputs": [],
   "source": [
    "df = df.drop(columns = ['img_src'])"
   ]
  },
  {
   "cell_type": "code",
   "execution_count": 8,
   "metadata": {},
   "outputs": [],
   "source": [
    "df = df.drop(columns = ['portions'])"
   ]
  },
  {
   "cell_type": "code",
   "execution_count": 9,
   "metadata": {},
   "outputs": [
    {
     "output_type": "execute_result",
     "data": {
      "text/plain": [
       "                                                                             title  \\\n",
       "/recepty/zakuski/ogurci-v-ostrom-marinade-16230           Огурцы в остром маринаде   \n",
       "/recepty/zakuski/solenie-limoni-29601                               Соленые лимоны   \n",
       "/recepty/sousy-marinady/marinovannyy-chesnok-so...  Маринованный чеснок со свеклой   \n",
       "/recepty/zagotovki/marinovannye-opyata-94048                    Маринованные опята   \n",
       "/recepty/zakuski/marinovannyy-arbuz-38167                       Маринованный арбуз   \n",
       "\n",
       "                                                                                          ingredients  \\\n",
       "/recepty/zakuski/ogurci-v-ostrom-marinade-16230     [{'id': 13955, 'name': 'Рисовый уксус', 'amoun...   \n",
       "/recepty/zakuski/solenie-limoni-29601               [{'id': 13427, 'name': 'Лимон', 'amount': '1 к...   \n",
       "/recepty/sousy-marinady/marinovannyy-chesnok-so...  [{'id': 13430, 'name': 'Чеснок', 'amount': '4 ...   \n",
       "/recepty/zagotovki/marinovannye-opyata-94048        [{'id': 14584, 'name': 'Опята', 'amount': '1 к...   \n",
       "/recepty/zakuski/marinovannyy-arbuz-38167           [{'id': 13421, 'name': 'Соль', 'amount': '100 ...   \n",
       "\n",
       "                                                                 category  id  \n",
       "/recepty/zakuski/ogurci-v-ostrom-marinade-16230     Соленья и консервация   0  \n",
       "/recepty/zakuski/solenie-limoni-29601               Соленья и консервация   1  \n",
       "/recepty/sousy-marinady/marinovannyy-chesnok-so...  Соленья и консервация   2  \n",
       "/recepty/zagotovki/marinovannye-opyata-94048        Соленья и консервация   3  \n",
       "/recepty/zakuski/marinovannyy-arbuz-38167           Соленья и консервация   4  "
      ],
      "text/html": "<div>\n<style scoped>\n    .dataframe tbody tr th:only-of-type {\n        vertical-align: middle;\n    }\n\n    .dataframe tbody tr th {\n        vertical-align: top;\n    }\n\n    .dataframe thead th {\n        text-align: right;\n    }\n</style>\n<table border=\"1\" class=\"dataframe\">\n  <thead>\n    <tr style=\"text-align: right;\">\n      <th></th>\n      <th>title</th>\n      <th>ingredients</th>\n      <th>category</th>\n      <th>id</th>\n    </tr>\n  </thead>\n  <tbody>\n    <tr>\n      <th>/recepty/zakuski/ogurci-v-ostrom-marinade-16230</th>\n      <td>Огурцы в остром маринаде</td>\n      <td>[{'id': 13955, 'name': 'Рисовый уксус', 'amoun...</td>\n      <td>Соленья и консервация</td>\n      <td>0</td>\n    </tr>\n    <tr>\n      <th>/recepty/zakuski/solenie-limoni-29601</th>\n      <td>Соленые лимоны</td>\n      <td>[{'id': 13427, 'name': 'Лимон', 'amount': '1 к...</td>\n      <td>Соленья и консервация</td>\n      <td>1</td>\n    </tr>\n    <tr>\n      <th>/recepty/sousy-marinady/marinovannyy-chesnok-so-svekloy-137101</th>\n      <td>Маринованный чеснок со свеклой</td>\n      <td>[{'id': 13430, 'name': 'Чеснок', 'amount': '4 ...</td>\n      <td>Соленья и консервация</td>\n      <td>2</td>\n    </tr>\n    <tr>\n      <th>/recepty/zagotovki/marinovannye-opyata-94048</th>\n      <td>Маринованные опята</td>\n      <td>[{'id': 14584, 'name': 'Опята', 'amount': '1 к...</td>\n      <td>Соленья и консервация</td>\n      <td>3</td>\n    </tr>\n    <tr>\n      <th>/recepty/zakuski/marinovannyy-arbuz-38167</th>\n      <td>Маринованный арбуз</td>\n      <td>[{'id': 13421, 'name': 'Соль', 'amount': '100 ...</td>\n      <td>Соленья и консервация</td>\n      <td>4</td>\n    </tr>\n  </tbody>\n</table>\n</div>"
     },
     "metadata": {},
     "execution_count": 9
    }
   ],
   "source": [
    "df.head()"
   ]
  },
  {
   "cell_type": "code",
   "execution_count": 10,
   "metadata": {},
   "outputs": [
    {
     "output_type": "execute_result",
     "data": {
      "text/plain": [
       "array(['Огурцы в остром маринаде', 'Соленые лимоны',\n",
       "       'Маринованный чеснок со свеклой', ...,\n",
       "       'Шоколадно-лимонные пирожные', 'Крубнично-йогуртовые пирожные',\n",
       "       'Ванильные пирожные в глазури'], dtype=object)"
      ]
     },
     "metadata": {},
     "execution_count": 10
    }
   ],
   "source": [
    "df['title'].str.split().str.join(' ').values"
   ]
  },
  {
   "cell_type": "code",
   "execution_count": 11,
   "metadata": {},
   "outputs": [],
   "source": [
    "df['title'] = df['title'].str.split().str.join(' ').values"
   ]
  },
  {
   "cell_type": "code",
   "execution_count": 12,
   "metadata": {},
   "outputs": [],
   "source": [
    "df['category'] = df['category'].str.split().str.join(' ').values"
   ]
  },
  {
   "cell_type": "code",
   "execution_count": 13,
   "metadata": {},
   "outputs": [],
   "source": [
    "df.drop(df[df.category == 'Пирожное'].index, inplace=True)"
   ]
  },
  {
   "cell_type": "code",
   "execution_count": 14,
   "metadata": {},
   "outputs": [],
   "source": [
    "df.drop(columns = ['id'], inplace=True)"
   ]
  },
  {
   "cell_type": "code",
   "execution_count": 15,
   "metadata": {},
   "outputs": [
    {
     "output_type": "execute_result",
     "data": {
      "text/plain": [
       "                                                                             title  \\\n",
       "/recepty/zakuski/ogurci-v-ostrom-marinade-16230           Огурцы в остром маринаде   \n",
       "/recepty/zakuski/solenie-limoni-29601                               Соленые лимоны   \n",
       "/recepty/sousy-marinady/marinovannyy-chesnok-so...  Маринованный чеснок со свеклой   \n",
       "/recepty/zagotovki/marinovannye-opyata-94048                    Маринованные опята   \n",
       "/recepty/zakuski/marinovannyy-arbuz-38167                       Маринованный арбуз   \n",
       "\n",
       "                                                                                          ingredients  \\\n",
       "/recepty/zakuski/ogurci-v-ostrom-marinade-16230     [{'id': 13955, 'name': 'Рисовый уксус', 'amoun...   \n",
       "/recepty/zakuski/solenie-limoni-29601               [{'id': 13427, 'name': 'Лимон', 'amount': '1 к...   \n",
       "/recepty/sousy-marinady/marinovannyy-chesnok-so...  [{'id': 13430, 'name': 'Чеснок', 'amount': '4 ...   \n",
       "/recepty/zagotovki/marinovannye-opyata-94048        [{'id': 14584, 'name': 'Опята', 'amount': '1 к...   \n",
       "/recepty/zakuski/marinovannyy-arbuz-38167           [{'id': 13421, 'name': 'Соль', 'amount': '100 ...   \n",
       "\n",
       "                                                                 category  \n",
       "/recepty/zakuski/ogurci-v-ostrom-marinade-16230     Соленья и консервация  \n",
       "/recepty/zakuski/solenie-limoni-29601               Соленья и консервация  \n",
       "/recepty/sousy-marinady/marinovannyy-chesnok-so...  Соленья и консервация  \n",
       "/recepty/zagotovki/marinovannye-opyata-94048        Соленья и консервация  \n",
       "/recepty/zakuski/marinovannyy-arbuz-38167           Соленья и консервация  "
      ],
      "text/html": "<div>\n<style scoped>\n    .dataframe tbody tr th:only-of-type {\n        vertical-align: middle;\n    }\n\n    .dataframe tbody tr th {\n        vertical-align: top;\n    }\n\n    .dataframe thead th {\n        text-align: right;\n    }\n</style>\n<table border=\"1\" class=\"dataframe\">\n  <thead>\n    <tr style=\"text-align: right;\">\n      <th></th>\n      <th>title</th>\n      <th>ingredients</th>\n      <th>category</th>\n    </tr>\n  </thead>\n  <tbody>\n    <tr>\n      <th>/recepty/zakuski/ogurci-v-ostrom-marinade-16230</th>\n      <td>Огурцы в остром маринаде</td>\n      <td>[{'id': 13955, 'name': 'Рисовый уксус', 'amoun...</td>\n      <td>Соленья и консервация</td>\n    </tr>\n    <tr>\n      <th>/recepty/zakuski/solenie-limoni-29601</th>\n      <td>Соленые лимоны</td>\n      <td>[{'id': 13427, 'name': 'Лимон', 'amount': '1 к...</td>\n      <td>Соленья и консервация</td>\n    </tr>\n    <tr>\n      <th>/recepty/sousy-marinady/marinovannyy-chesnok-so-svekloy-137101</th>\n      <td>Маринованный чеснок со свеклой</td>\n      <td>[{'id': 13430, 'name': 'Чеснок', 'amount': '4 ...</td>\n      <td>Соленья и консервация</td>\n    </tr>\n    <tr>\n      <th>/recepty/zagotovki/marinovannye-opyata-94048</th>\n      <td>Маринованные опята</td>\n      <td>[{'id': 14584, 'name': 'Опята', 'amount': '1 к...</td>\n      <td>Соленья и консервация</td>\n    </tr>\n    <tr>\n      <th>/recepty/zakuski/marinovannyy-arbuz-38167</th>\n      <td>Маринованный арбуз</td>\n      <td>[{'id': 13421, 'name': 'Соль', 'amount': '100 ...</td>\n      <td>Соленья и консервация</td>\n    </tr>\n  </tbody>\n</table>\n</div>"
     },
     "metadata": {},
     "execution_count": 15
    }
   ],
   "source": [
    "df.head()"
   ]
  },
  {
   "cell_type": "code",
   "execution_count": 16,
   "metadata": {},
   "outputs": [],
   "source": [
    "data = json.load(open(\"../old_data/recipes_2.json\", \"rt\", encoding=\"utf8\"))\n",
    "df_2 = pd.DataFrame.from_dict(data, orient=\"index\")\n",
    "df_2 = df_2.drop(columns = ['portions'])\n",
    "df_2['title'] = df_2['title'].str.split().str.join(' ').values"
   ]
  },
  {
   "cell_type": "code",
   "execution_count": 17,
   "metadata": {},
   "outputs": [],
   "source": [
    "df_2['category'] = df_2['category'].str.split().str.join(' ').values"
   ]
  },
  {
   "cell_type": "code",
   "execution_count": 18,
   "metadata": {},
   "outputs": [],
   "source": [
    "df_2.drop(columns = ['id'], inplace=True)"
   ]
  },
  {
   "cell_type": "code",
   "execution_count": 19,
   "metadata": {},
   "outputs": [
    {
     "output_type": "execute_result",
     "data": {
      "text/plain": [
       "                                                                                     title  \\\n",
       "/recepty/vypechka-deserty/belgijskie-pirozhnie-...                    Бельгийские пирожные   \n",
       "/recepty/vypechka-deserty/pirozhnie-vupi-31195                               Пирожные вупи   \n",
       "/recepty/vypechka-deserty/shokoladnie-pirozhnie...                     Шоколадные пирожные   \n",
       "/recepty/vypechka-deserty/shokoladno-mindalnie-...  Шоколадно-миндальные пирожные макароны   \n",
       "/recepty/vypechka-deserty/jablochno-finikovoe-p...              Яблочно-финиковое пирожное   \n",
       "\n",
       "                                                                                          ingredients  \\\n",
       "/recepty/vypechka-deserty/belgijskie-pirozhnie-...  [{'id': 14797, 'name': 'Темный шоколад', 'amou...   \n",
       "/recepty/vypechka-deserty/pirozhnie-vupi-31195      [{'id': 13458, 'name': 'Пшеничная мука', 'amou...   \n",
       "/recepty/vypechka-deserty/shokoladnie-pirozhnie...  [{'id': 13412, 'name': 'Сливочное масло', 'amo...   \n",
       "/recepty/vypechka-deserty/shokoladno-mindalnie-...  [{'id': 14798, 'name': 'Миндальная пудра', 'am...   \n",
       "/recepty/vypechka-deserty/jablochno-finikovoe-p...  [{'id': 13490, 'name': 'Финики', 'amount': '30...   \n",
       "\n",
       "                                                    category  \n",
       "/recepty/vypechka-deserty/belgijskie-pirozhnie-...  Пирожное  \n",
       "/recepty/vypechka-deserty/pirozhnie-vupi-31195      Пирожное  \n",
       "/recepty/vypechka-deserty/shokoladnie-pirozhnie...  Пирожное  \n",
       "/recepty/vypechka-deserty/shokoladno-mindalnie-...  Пирожное  \n",
       "/recepty/vypechka-deserty/jablochno-finikovoe-p...  Пирожное  "
      ],
      "text/html": "<div>\n<style scoped>\n    .dataframe tbody tr th:only-of-type {\n        vertical-align: middle;\n    }\n\n    .dataframe tbody tr th {\n        vertical-align: top;\n    }\n\n    .dataframe thead th {\n        text-align: right;\n    }\n</style>\n<table border=\"1\" class=\"dataframe\">\n  <thead>\n    <tr style=\"text-align: right;\">\n      <th></th>\n      <th>title</th>\n      <th>ingredients</th>\n      <th>category</th>\n    </tr>\n  </thead>\n  <tbody>\n    <tr>\n      <th>/recepty/vypechka-deserty/belgijskie-pirozhnie-20682</th>\n      <td>Бельгийские пирожные</td>\n      <td>[{'id': 14797, 'name': 'Темный шоколад', 'amou...</td>\n      <td>Пирожное</td>\n    </tr>\n    <tr>\n      <th>/recepty/vypechka-deserty/pirozhnie-vupi-31195</th>\n      <td>Пирожные вупи</td>\n      <td>[{'id': 13458, 'name': 'Пшеничная мука', 'amou...</td>\n      <td>Пирожное</td>\n    </tr>\n    <tr>\n      <th>/recepty/vypechka-deserty/shokoladnie-pirozhnie-19866</th>\n      <td>Шоколадные пирожные</td>\n      <td>[{'id': 13412, 'name': 'Сливочное масло', 'amo...</td>\n      <td>Пирожное</td>\n    </tr>\n    <tr>\n      <th>/recepty/vypechka-deserty/shokoladno-mindalnie-pirozhnie-makaroni-19158</th>\n      <td>Шоколадно-миндальные пирожные макароны</td>\n      <td>[{'id': 14798, 'name': 'Миндальная пудра', 'am...</td>\n      <td>Пирожное</td>\n    </tr>\n    <tr>\n      <th>/recepty/vypechka-deserty/jablochno-finikovoe-pirozhnoe-19303</th>\n      <td>Яблочно-финиковое пирожное</td>\n      <td>[{'id': 13490, 'name': 'Финики', 'amount': '30...</td>\n      <td>Пирожное</td>\n    </tr>\n  </tbody>\n</table>\n</div>"
     },
     "metadata": {},
     "execution_count": 19
    }
   ],
   "source": [
    "df_2.head()"
   ]
  },
  {
   "cell_type": "code",
   "execution_count": 20,
   "metadata": {},
   "outputs": [],
   "source": [
    "df_new = pd.concat([df, df_2])"
   ]
  },
  {
   "cell_type": "code",
   "execution_count": 21,
   "metadata": {},
   "outputs": [
    {
     "output_type": "execute_result",
     "data": {
      "text/plain": [
       "                                                                             title  \\\n",
       "/recepty/zakuski/ogurci-v-ostrom-marinade-16230           Огурцы в остром маринаде   \n",
       "/recepty/zakuski/solenie-limoni-29601                               Соленые лимоны   \n",
       "/recepty/sousy-marinady/marinovannyy-chesnok-so...  Маринованный чеснок со свеклой   \n",
       "/recepty/zagotovki/marinovannye-opyata-94048                    Маринованные опята   \n",
       "/recepty/zakuski/marinovannyy-arbuz-38167                       Маринованный арбуз   \n",
       "\n",
       "                                                                                          ingredients  \\\n",
       "/recepty/zakuski/ogurci-v-ostrom-marinade-16230     [{'id': 13955, 'name': 'Рисовый уксус', 'amoun...   \n",
       "/recepty/zakuski/solenie-limoni-29601               [{'id': 13427, 'name': 'Лимон', 'amount': '1 к...   \n",
       "/recepty/sousy-marinady/marinovannyy-chesnok-so...  [{'id': 13430, 'name': 'Чеснок', 'amount': '4 ...   \n",
       "/recepty/zagotovki/marinovannye-opyata-94048        [{'id': 14584, 'name': 'Опята', 'amount': '1 к...   \n",
       "/recepty/zakuski/marinovannyy-arbuz-38167           [{'id': 13421, 'name': 'Соль', 'amount': '100 ...   \n",
       "\n",
       "                                                                 category  \n",
       "/recepty/zakuski/ogurci-v-ostrom-marinade-16230     Соленья и консервация  \n",
       "/recepty/zakuski/solenie-limoni-29601               Соленья и консервация  \n",
       "/recepty/sousy-marinady/marinovannyy-chesnok-so...  Соленья и консервация  \n",
       "/recepty/zagotovki/marinovannye-opyata-94048        Соленья и консервация  \n",
       "/recepty/zakuski/marinovannyy-arbuz-38167           Соленья и консервация  "
      ],
      "text/html": "<div>\n<style scoped>\n    .dataframe tbody tr th:only-of-type {\n        vertical-align: middle;\n    }\n\n    .dataframe tbody tr th {\n        vertical-align: top;\n    }\n\n    .dataframe thead th {\n        text-align: right;\n    }\n</style>\n<table border=\"1\" class=\"dataframe\">\n  <thead>\n    <tr style=\"text-align: right;\">\n      <th></th>\n      <th>title</th>\n      <th>ingredients</th>\n      <th>category</th>\n    </tr>\n  </thead>\n  <tbody>\n    <tr>\n      <th>/recepty/zakuski/ogurci-v-ostrom-marinade-16230</th>\n      <td>Огурцы в остром маринаде</td>\n      <td>[{'id': 13955, 'name': 'Рисовый уксус', 'amoun...</td>\n      <td>Соленья и консервация</td>\n    </tr>\n    <tr>\n      <th>/recepty/zakuski/solenie-limoni-29601</th>\n      <td>Соленые лимоны</td>\n      <td>[{'id': 13427, 'name': 'Лимон', 'amount': '1 к...</td>\n      <td>Соленья и консервация</td>\n    </tr>\n    <tr>\n      <th>/recepty/sousy-marinady/marinovannyy-chesnok-so-svekloy-137101</th>\n      <td>Маринованный чеснок со свеклой</td>\n      <td>[{'id': 13430, 'name': 'Чеснок', 'amount': '4 ...</td>\n      <td>Соленья и консервация</td>\n    </tr>\n    <tr>\n      <th>/recepty/zagotovki/marinovannye-opyata-94048</th>\n      <td>Маринованные опята</td>\n      <td>[{'id': 14584, 'name': 'Опята', 'amount': '1 к...</td>\n      <td>Соленья и консервация</td>\n    </tr>\n    <tr>\n      <th>/recepty/zakuski/marinovannyy-arbuz-38167</th>\n      <td>Маринованный арбуз</td>\n      <td>[{'id': 13421, 'name': 'Соль', 'amount': '100 ...</td>\n      <td>Соленья и консервация</td>\n    </tr>\n  </tbody>\n</table>\n</div>"
     },
     "metadata": {},
     "execution_count": 21
    }
   ],
   "source": [
    "df_new.head()"
   ]
  },
  {
   "cell_type": "code",
   "execution_count": 34,
   "metadata": {},
   "outputs": [],
   "source": [
    "df_new = df_new[~df_new.index.duplicated(keep='first')]"
   ]
  },
  {
   "cell_type": "code",
   "execution_count": 35,
   "metadata": {},
   "outputs": [],
   "source": [
    "df_new.to_json('recipes.json')"
   ]
  },
  {
   "cell_type": "code",
   "execution_count": 36,
   "metadata": {},
   "outputs": [],
   "source": [
    "df_new.to_csv('recipes.csv')"
   ]
  },
  {
   "cell_type": "code",
   "execution_count": null,
   "metadata": {},
   "outputs": [],
   "source": [
    "df = pd.read_csv('../data/recipes.csv', index_col=0)"
   ]
  },
  {
   "cell_type": "code",
   "execution_count": 36,
   "metadata": {},
   "outputs": [],
   "source": [
    "df = pd.read_csv('../data/recipes.csv', index_col=0)"
   ]
  },
  {
   "cell_type": "code",
   "execution_count": 37,
   "metadata": {},
   "outputs": [
    {
     "output_type": "execute_result",
     "data": {
      "text/plain": [
       "                                                                             title  \\\n",
       "/recepty/zakuski/ogurci-v-ostrom-marinade-16230           Огурцы в остром маринаде   \n",
       "/recepty/zakuski/solenie-limoni-29601                               Соленые лимоны   \n",
       "/recepty/sousy-marinady/marinovannyy-chesnok-so...  Маринованный чеснок со свеклой   \n",
       "/recepty/zagotovki/marinovannye-opyata-94048                    Маринованные опята   \n",
       "/recepty/zakuski/marinovannyy-arbuz-38167                       Маринованный арбуз   \n",
       "...                                                                            ...   \n",
       "/recepty/sousy-marinady/tkemali-iz-krasnoy-smor...    Ткемали из красной смородины   \n",
       "/recepty/sousy-marinady/sous-tkemali-17107                            Соус ткемали   \n",
       "/recepty/sousy-marinady/sous-tkemali--14845                        Соус «Ткемали».   \n",
       "/recepty/sousy-marinady/tkemali-iz-vengerki-45772              Ткемали из венгерки   \n",
       "/recepty/sousy-marinady/tkemali-zelenij-28613                      Ткемали зеленый   \n",
       "\n",
       "                                                                                          ingredients  \\\n",
       "/recepty/zakuski/ogurci-v-ostrom-marinade-16230     [{'id': 13955, 'name': 'Рисовый уксус', 'amoun...   \n",
       "/recepty/zakuski/solenie-limoni-29601               [{'id': 13427, 'name': 'Лимон', 'amount': '1 к...   \n",
       "/recepty/sousy-marinady/marinovannyy-chesnok-so...  [{'id': 13430, 'name': 'Чеснок', 'amount': '4 ...   \n",
       "/recepty/zagotovki/marinovannye-opyata-94048        [{'id': 14584, 'name': 'Опята', 'amount': '1 к...   \n",
       "/recepty/zakuski/marinovannyy-arbuz-38167           [{'id': 13421, 'name': 'Соль', 'amount': '100 ...   \n",
       "...                                                                                               ...   \n",
       "/recepty/sousy-marinady/tkemali-iz-krasnoy-smor...  [{'id': 14674, 'name': 'Красная смородина', 'a...   \n",
       "/recepty/sousy-marinady/sous-tkemali-17107          [{'id': 13430, 'name': 'Чеснок', 'amount': '1 ...   \n",
       "/recepty/sousy-marinady/sous-tkemali--14845         [{'id': 13762, 'name': 'Сливы', 'amount': '500...   \n",
       "/recepty/sousy-marinady/tkemali-iz-vengerki-45772   [{'id': 13762, 'name': 'Сливы', 'amount': '1 к...   \n",
       "/recepty/sousy-marinady/tkemali-zelenij-28613       [{'id': 13630, 'name': 'Кинза', 'amount': '2 п...   \n",
       "\n",
       "                                                                 category  \n",
       "/recepty/zakuski/ogurci-v-ostrom-marinade-16230     Соленья и консервация  \n",
       "/recepty/zakuski/solenie-limoni-29601               Соленья и консервация  \n",
       "/recepty/sousy-marinady/marinovannyy-chesnok-so...  Соленья и консервация  \n",
       "/recepty/zagotovki/marinovannye-opyata-94048        Соленья и консервация  \n",
       "/recepty/zakuski/marinovannyy-arbuz-38167           Соленья и консервация  \n",
       "...                                                                   ...  \n",
       "/recepty/sousy-marinady/tkemali-iz-krasnoy-smor...                Ткемали  \n",
       "/recepty/sousy-marinady/sous-tkemali-17107                        Ткемали  \n",
       "/recepty/sousy-marinady/sous-tkemali--14845                       Ткемали  \n",
       "/recepty/sousy-marinady/tkemali-iz-vengerki-45772                 Ткемали  \n",
       "/recepty/sousy-marinady/tkemali-zelenij-28613                     Ткемали  \n",
       "\n",
       "[31273 rows x 3 columns]"
      ],
      "text/html": "<div>\n<style scoped>\n    .dataframe tbody tr th:only-of-type {\n        vertical-align: middle;\n    }\n\n    .dataframe tbody tr th {\n        vertical-align: top;\n    }\n\n    .dataframe thead th {\n        text-align: right;\n    }\n</style>\n<table border=\"1\" class=\"dataframe\">\n  <thead>\n    <tr style=\"text-align: right;\">\n      <th></th>\n      <th>title</th>\n      <th>ingredients</th>\n      <th>category</th>\n    </tr>\n  </thead>\n  <tbody>\n    <tr>\n      <th>/recepty/zakuski/ogurci-v-ostrom-marinade-16230</th>\n      <td>Огурцы в остром маринаде</td>\n      <td>[{'id': 13955, 'name': 'Рисовый уксус', 'amoun...</td>\n      <td>Соленья и консервация</td>\n    </tr>\n    <tr>\n      <th>/recepty/zakuski/solenie-limoni-29601</th>\n      <td>Соленые лимоны</td>\n      <td>[{'id': 13427, 'name': 'Лимон', 'amount': '1 к...</td>\n      <td>Соленья и консервация</td>\n    </tr>\n    <tr>\n      <th>/recepty/sousy-marinady/marinovannyy-chesnok-so-svekloy-137101</th>\n      <td>Маринованный чеснок со свеклой</td>\n      <td>[{'id': 13430, 'name': 'Чеснок', 'amount': '4 ...</td>\n      <td>Соленья и консервация</td>\n    </tr>\n    <tr>\n      <th>/recepty/zagotovki/marinovannye-opyata-94048</th>\n      <td>Маринованные опята</td>\n      <td>[{'id': 14584, 'name': 'Опята', 'amount': '1 к...</td>\n      <td>Соленья и консервация</td>\n    </tr>\n    <tr>\n      <th>/recepty/zakuski/marinovannyy-arbuz-38167</th>\n      <td>Маринованный арбуз</td>\n      <td>[{'id': 13421, 'name': 'Соль', 'amount': '100 ...</td>\n      <td>Соленья и консервация</td>\n    </tr>\n    <tr>\n      <th>...</th>\n      <td>...</td>\n      <td>...</td>\n      <td>...</td>\n    </tr>\n    <tr>\n      <th>/recepty/sousy-marinady/tkemali-iz-krasnoy-smorodiny-80062</th>\n      <td>Ткемали из красной смородины</td>\n      <td>[{'id': 14674, 'name': 'Красная смородина', 'a...</td>\n      <td>Ткемали</td>\n    </tr>\n    <tr>\n      <th>/recepty/sousy-marinady/sous-tkemali-17107</th>\n      <td>Соус ткемали</td>\n      <td>[{'id': 13430, 'name': 'Чеснок', 'amount': '1 ...</td>\n      <td>Ткемали</td>\n    </tr>\n    <tr>\n      <th>/recepty/sousy-marinady/sous-tkemali--14845</th>\n      <td>Соус «Ткемали».</td>\n      <td>[{'id': 13762, 'name': 'Сливы', 'amount': '500...</td>\n      <td>Ткемали</td>\n    </tr>\n    <tr>\n      <th>/recepty/sousy-marinady/tkemali-iz-vengerki-45772</th>\n      <td>Ткемали из венгерки</td>\n      <td>[{'id': 13762, 'name': 'Сливы', 'amount': '1 к...</td>\n      <td>Ткемали</td>\n    </tr>\n    <tr>\n      <th>/recepty/sousy-marinady/tkemali-zelenij-28613</th>\n      <td>Ткемали зеленый</td>\n      <td>[{'id': 13630, 'name': 'Кинза', 'amount': '2 п...</td>\n      <td>Ткемали</td>\n    </tr>\n  </tbody>\n</table>\n<p>31273 rows × 3 columns</p>\n</div>"
     },
     "metadata": {},
     "execution_count": 37
    }
   ],
   "source": [
    "df"
   ]
  },
  {
   "cell_type": "code",
   "execution_count": 38,
   "metadata": {},
   "outputs": [
    {
     "output_type": "execute_result",
     "data": {
      "text/plain": [
       "                                                    title  ingredients  \\\n",
       "/recepty/zakuski/ogurci-v-ostrom-marinade-16230      True        False   \n",
       "/recepty/zakuski/solenie-limoni-29601                True        False   \n",
       "/recepty/sousy-marinady/marinovannyy-chesnok-so...   True        False   \n",
       "/recepty/zagotovki/marinovannye-opyata-94048         True        False   \n",
       "/recepty/zakuski/marinovannyy-arbuz-38167            True        False   \n",
       "...                                                   ...          ...   \n",
       "/recepty/sousy-marinady/tkemali-iz-krasnoy-smor...   True        False   \n",
       "/recepty/sousy-marinady/sous-tkemali-17107           True        False   \n",
       "/recepty/sousy-marinady/sous-tkemali--14845          True        False   \n",
       "/recepty/sousy-marinady/tkemali-iz-vengerki-45772    True        False   \n",
       "/recepty/sousy-marinady/tkemali-zelenij-28613        True        False   \n",
       "\n",
       "                                                    category  \n",
       "/recepty/zakuski/ogurci-v-ostrom-marinade-16230         True  \n",
       "/recepty/zakuski/solenie-limoni-29601                   True  \n",
       "/recepty/sousy-marinady/marinovannyy-chesnok-so...      True  \n",
       "/recepty/zagotovki/marinovannye-opyata-94048            True  \n",
       "/recepty/zakuski/marinovannyy-arbuz-38167               True  \n",
       "...                                                      ...  \n",
       "/recepty/sousy-marinady/tkemali-iz-krasnoy-smor...      True  \n",
       "/recepty/sousy-marinady/sous-tkemali-17107              True  \n",
       "/recepty/sousy-marinady/sous-tkemali--14845             True  \n",
       "/recepty/sousy-marinady/tkemali-iz-vengerki-45772       True  \n",
       "/recepty/sousy-marinady/tkemali-zelenij-28613           True  \n",
       "\n",
       "[31273 rows x 3 columns]"
      ],
      "text/html": "<div>\n<style scoped>\n    .dataframe tbody tr th:only-of-type {\n        vertical-align: middle;\n    }\n\n    .dataframe tbody tr th {\n        vertical-align: top;\n    }\n\n    .dataframe thead th {\n        text-align: right;\n    }\n</style>\n<table border=\"1\" class=\"dataframe\">\n  <thead>\n    <tr style=\"text-align: right;\">\n      <th></th>\n      <th>title</th>\n      <th>ingredients</th>\n      <th>category</th>\n    </tr>\n  </thead>\n  <tbody>\n    <tr>\n      <th>/recepty/zakuski/ogurci-v-ostrom-marinade-16230</th>\n      <td>True</td>\n      <td>False</td>\n      <td>True</td>\n    </tr>\n    <tr>\n      <th>/recepty/zakuski/solenie-limoni-29601</th>\n      <td>True</td>\n      <td>False</td>\n      <td>True</td>\n    </tr>\n    <tr>\n      <th>/recepty/sousy-marinady/marinovannyy-chesnok-so-svekloy-137101</th>\n      <td>True</td>\n      <td>False</td>\n      <td>True</td>\n    </tr>\n    <tr>\n      <th>/recepty/zagotovki/marinovannye-opyata-94048</th>\n      <td>True</td>\n      <td>False</td>\n      <td>True</td>\n    </tr>\n    <tr>\n      <th>/recepty/zakuski/marinovannyy-arbuz-38167</th>\n      <td>True</td>\n      <td>False</td>\n      <td>True</td>\n    </tr>\n    <tr>\n      <th>...</th>\n      <td>...</td>\n      <td>...</td>\n      <td>...</td>\n    </tr>\n    <tr>\n      <th>/recepty/sousy-marinady/tkemali-iz-krasnoy-smorodiny-80062</th>\n      <td>True</td>\n      <td>False</td>\n      <td>True</td>\n    </tr>\n    <tr>\n      <th>/recepty/sousy-marinady/sous-tkemali-17107</th>\n      <td>True</td>\n      <td>False</td>\n      <td>True</td>\n    </tr>\n    <tr>\n      <th>/recepty/sousy-marinady/sous-tkemali--14845</th>\n      <td>True</td>\n      <td>False</td>\n      <td>True</td>\n    </tr>\n    <tr>\n      <th>/recepty/sousy-marinady/tkemali-iz-vengerki-45772</th>\n      <td>True</td>\n      <td>False</td>\n      <td>True</td>\n    </tr>\n    <tr>\n      <th>/recepty/sousy-marinady/tkemali-zelenij-28613</th>\n      <td>True</td>\n      <td>False</td>\n      <td>True</td>\n    </tr>\n  </tbody>\n</table>\n<p>31273 rows × 3 columns</p>\n</div>"
     },
     "metadata": {},
     "execution_count": 38
    }
   ],
   "source": [
    "df == df_new"
   ]
  }
 ]
}