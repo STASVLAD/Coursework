{
 "metadata": {
  "language_info": {
   "codemirror_mode": {
    "name": "ipython",
    "version": 3
   },
   "file_extension": ".py",
   "mimetype": "text/x-python",
   "name": "python",
   "nbconvert_exporter": "python",
   "pygments_lexer": "ipython3",
   "version": "3.8.5"
  },
  "orig_nbformat": 4,
  "kernelspec": {
   "name": "python3",
   "display_name": "Python 3.8.5 64-bit"
  },
  "interpreter": {
   "hash": "31f2aee4e71d21fbe5cf8b01ff0e069b9275f58929596ceb00d14d90e3e16cd6"
  }
 },
 "nbformat": 4,
 "nbformat_minor": 2,
 "cells": [
  {
   "cell_type": "code",
   "execution_count": 1,
   "metadata": {},
   "outputs": [],
   "source": [
    "import json\n",
    "import pandas as pd"
   ]
  },
  {
   "cell_type": "code",
   "execution_count": 2,
   "metadata": {},
   "outputs": [],
   "source": [
    "df = pd.read_json('../old/old_data/recipes_orig.json')"
   ]
  },
  {
   "cell_type": "code",
   "execution_count": 3,
   "metadata": {},
   "outputs": [
    {
     "output_type": "execute_result",
     "data": {
      "text/plain": [
       "                                                                             title  \\\n",
       "/recepty/zakuski/ogurci-v-ostrom-marinade-16230           Огурцы в остром маринаде   \n",
       "/recepty/zakuski/solenie-limoni-29601                               Соленые лимоны   \n",
       "/recepty/sousy-marinady/marinovannyy-chesnok-so...  Маринованный чеснок со свеклой   \n",
       "/recepty/zagotovki/marinovannye-opyata-94048                    Маринованные опята   \n",
       "/recepty/zakuski/marinovannyy-arbuz-38167                       Маринованный арбуз   \n",
       "...                                                                            ...   \n",
       "/recepty/sousy-marinady/tkemali-iz-krasnoy-smor...    Ткемали из красной смородины   \n",
       "/recepty/sousy-marinady/sous-tkemali-17107                            Соус ткемали   \n",
       "/recepty/sousy-marinady/sous-tkemali--14845                        Соус «Ткемали».   \n",
       "/recepty/sousy-marinady/tkemali-iz-vengerki-45772              Ткемали из венгерки   \n",
       "/recepty/sousy-marinady/tkemali-zelenij-28613                      Ткемали зеленый   \n",
       "\n",
       "                                                                                          ingredients  \\\n",
       "/recepty/zakuski/ogurci-v-ostrom-marinade-16230     [{'id': 13955, 'name': 'Рисовый уксус', 'amoun...   \n",
       "/recepty/zakuski/solenie-limoni-29601               [{'id': 13427, 'name': 'Лимон', 'amount': '1 к...   \n",
       "/recepty/sousy-marinady/marinovannyy-chesnok-so...  [{'id': 13430, 'name': 'Чеснок', 'amount': '4 ...   \n",
       "/recepty/zagotovki/marinovannye-opyata-94048        [{'id': 14584, 'name': 'Опята', 'amount': '1 к...   \n",
       "/recepty/zakuski/marinovannyy-arbuz-38167           [{'id': 13421, 'name': 'Соль', 'amount': '100 ...   \n",
       "...                                                                                               ...   \n",
       "/recepty/sousy-marinady/tkemali-iz-krasnoy-smor...  [{'id': 14674, 'name': 'Красная смородина', 'a...   \n",
       "/recepty/sousy-marinady/sous-tkemali-17107          [{'id': 13430, 'name': 'Чеснок', 'amount': '1 ...   \n",
       "/recepty/sousy-marinady/sous-tkemali--14845         [{'id': 13762, 'name': 'Сливы', 'amount': '500...   \n",
       "/recepty/sousy-marinady/tkemali-iz-vengerki-45772   [{'id': 13762, 'name': 'Сливы', 'amount': '1 к...   \n",
       "/recepty/sousy-marinady/tkemali-zelenij-28613       [{'id': 13630, 'name': 'Кинза', 'amount': '2 п...   \n",
       "\n",
       "                                                                 category  \n",
       "/recepty/zakuski/ogurci-v-ostrom-marinade-16230     Соленья и консервация  \n",
       "/recepty/zakuski/solenie-limoni-29601               Соленья и консервация  \n",
       "/recepty/sousy-marinady/marinovannyy-chesnok-so...  Соленья и консервация  \n",
       "/recepty/zagotovki/marinovannye-opyata-94048        Соленья и консервация  \n",
       "/recepty/zakuski/marinovannyy-arbuz-38167           Соленья и консервация  \n",
       "...                                                                   ...  \n",
       "/recepty/sousy-marinady/tkemali-iz-krasnoy-smor...                Ткемали  \n",
       "/recepty/sousy-marinady/sous-tkemali-17107                        Ткемали  \n",
       "/recepty/sousy-marinady/sous-tkemali--14845                       Ткемали  \n",
       "/recepty/sousy-marinady/tkemali-iz-vengerki-45772                 Ткемали  \n",
       "/recepty/sousy-marinady/tkemali-zelenij-28613                     Ткемали  \n",
       "\n",
       "[30771 rows x 3 columns]"
      ],
      "text/html": "<div>\n<style scoped>\n    .dataframe tbody tr th:only-of-type {\n        vertical-align: middle;\n    }\n\n    .dataframe tbody tr th {\n        vertical-align: top;\n    }\n\n    .dataframe thead th {\n        text-align: right;\n    }\n</style>\n<table border=\"1\" class=\"dataframe\">\n  <thead>\n    <tr style=\"text-align: right;\">\n      <th></th>\n      <th>title</th>\n      <th>ingredients</th>\n      <th>category</th>\n    </tr>\n  </thead>\n  <tbody>\n    <tr>\n      <th>/recepty/zakuski/ogurci-v-ostrom-marinade-16230</th>\n      <td>Огурцы в остром маринаде</td>\n      <td>[{'id': 13955, 'name': 'Рисовый уксус', 'amoun...</td>\n      <td>Соленья и консервация</td>\n    </tr>\n    <tr>\n      <th>/recepty/zakuski/solenie-limoni-29601</th>\n      <td>Соленые лимоны</td>\n      <td>[{'id': 13427, 'name': 'Лимон', 'amount': '1 к...</td>\n      <td>Соленья и консервация</td>\n    </tr>\n    <tr>\n      <th>/recepty/sousy-marinady/marinovannyy-chesnok-so-svekloy-137101</th>\n      <td>Маринованный чеснок со свеклой</td>\n      <td>[{'id': 13430, 'name': 'Чеснок', 'amount': '4 ...</td>\n      <td>Соленья и консервация</td>\n    </tr>\n    <tr>\n      <th>/recepty/zagotovki/marinovannye-opyata-94048</th>\n      <td>Маринованные опята</td>\n      <td>[{'id': 14584, 'name': 'Опята', 'amount': '1 к...</td>\n      <td>Соленья и консервация</td>\n    </tr>\n    <tr>\n      <th>/recepty/zakuski/marinovannyy-arbuz-38167</th>\n      <td>Маринованный арбуз</td>\n      <td>[{'id': 13421, 'name': 'Соль', 'amount': '100 ...</td>\n      <td>Соленья и консервация</td>\n    </tr>\n    <tr>\n      <th>...</th>\n      <td>...</td>\n      <td>...</td>\n      <td>...</td>\n    </tr>\n    <tr>\n      <th>/recepty/sousy-marinady/tkemali-iz-krasnoy-smorodiny-80062</th>\n      <td>Ткемали из красной смородины</td>\n      <td>[{'id': 14674, 'name': 'Красная смородина', 'a...</td>\n      <td>Ткемали</td>\n    </tr>\n    <tr>\n      <th>/recepty/sousy-marinady/sous-tkemali-17107</th>\n      <td>Соус ткемали</td>\n      <td>[{'id': 13430, 'name': 'Чеснок', 'amount': '1 ...</td>\n      <td>Ткемали</td>\n    </tr>\n    <tr>\n      <th>/recepty/sousy-marinady/sous-tkemali--14845</th>\n      <td>Соус «Ткемали».</td>\n      <td>[{'id': 13762, 'name': 'Сливы', 'amount': '500...</td>\n      <td>Ткемали</td>\n    </tr>\n    <tr>\n      <th>/recepty/sousy-marinady/tkemali-iz-vengerki-45772</th>\n      <td>Ткемали из венгерки</td>\n      <td>[{'id': 13762, 'name': 'Сливы', 'amount': '1 к...</td>\n      <td>Ткемали</td>\n    </tr>\n    <tr>\n      <th>/recepty/sousy-marinady/tkemali-zelenij-28613</th>\n      <td>Ткемали зеленый</td>\n      <td>[{'id': 13630, 'name': 'Кинза', 'amount': '2 п...</td>\n      <td>Ткемали</td>\n    </tr>\n  </tbody>\n</table>\n<p>30771 rows × 3 columns</p>\n</div>"
     },
     "metadata": {},
     "execution_count": 3
    }
   ],
   "source": [
    "df"
   ]
  },
  {
   "cell_type": "code",
   "execution_count": 4,
   "metadata": {},
   "outputs": [],
   "source": [
    "ingredients_new = []\n",
    "ingredient_lists = df.ingredients.values\n",
    "for ingredient_list in ingredient_lists:\n",
    "    temp = []\n",
    "    for ingredient in ingredient_list:\n",
    "        temp.append(ingredient['name'])\n",
    "    ingredients_new.append(temp)"
   ]
  },
  {
   "cell_type": "code",
   "execution_count": 5,
   "metadata": {},
   "outputs": [],
   "source": [
    "df.ingredients = ingredients_new"
   ]
  },
  {
   "cell_type": "code",
   "execution_count": 6,
   "metadata": {},
   "outputs": [
    {
     "output_type": "execute_result",
     "data": {
      "text/plain": [
       "                                                                             title  \\\n",
       "/recepty/zakuski/ogurci-v-ostrom-marinade-16230           Огурцы в остром маринаде   \n",
       "/recepty/zakuski/solenie-limoni-29601                               Соленые лимоны   \n",
       "/recepty/sousy-marinady/marinovannyy-chesnok-so...  Маринованный чеснок со свеклой   \n",
       "/recepty/zagotovki/marinovannye-opyata-94048                    Маринованные опята   \n",
       "/recepty/zakuski/marinovannyy-arbuz-38167                       Маринованный арбуз   \n",
       "...                                                                            ...   \n",
       "/recepty/sousy-marinady/tkemali-iz-krasnoy-smor...    Ткемали из красной смородины   \n",
       "/recepty/sousy-marinady/sous-tkemali-17107                            Соус ткемали   \n",
       "/recepty/sousy-marinady/sous-tkemali--14845                        Соус «Ткемали».   \n",
       "/recepty/sousy-marinady/tkemali-iz-vengerki-45772              Ткемали из венгерки   \n",
       "/recepty/sousy-marinady/tkemali-zelenij-28613                      Ткемали зеленый   \n",
       "\n",
       "                                                                                          ingredients  \\\n",
       "/recepty/zakuski/ogurci-v-ostrom-marinade-16230     [Рисовый уксус, Огурцы, Кунжутное масло, Соевы...   \n",
       "/recepty/zakuski/solenie-limoni-29601               [Лимон, Черный перец горошком, Лавровый лист, ...   \n",
       "/recepty/sousy-marinady/marinovannyy-chesnok-so...  [Чеснок, Вода, Уксус 9%-ный, Соль, Черный пере...   \n",
       "/recepty/zagotovki/marinovannye-opyata-94048        [Опята, Уксус, Соль, Лавровый лист, Сахар, Чер...   \n",
       "/recepty/zakuski/marinovannyy-arbuz-38167           [Соль, Арбуз, Стебель сельдерея, Чеснок, Укроп...   \n",
       "...                                                                                               ...   \n",
       "/recepty/sousy-marinady/tkemali-iz-krasnoy-smor...  [Красная смородина, Кинза, Семена кориандра, Т...   \n",
       "/recepty/sousy-marinady/sous-tkemali-17107          [Чеснок, Сливы ткемали, Кинза, Укроп, Красный ...   \n",
       "/recepty/sousy-marinady/sous-tkemali--14845         [Сливы, Чеснок, Соль, Молотый черный перец, Ки...   \n",
       "/recepty/sousy-marinady/tkemali-iz-vengerki-45772   [Сливы, Хмели-сунели, Уцхо-сунели, Чеснок, Сем...   \n",
       "/recepty/sousy-marinady/tkemali-zelenij-28613       [Кинза, Зеленая алыча, Укроп, Мята, Зеленый ст...   \n",
       "\n",
       "                                                                 category  \n",
       "/recepty/zakuski/ogurci-v-ostrom-marinade-16230     Соленья и консервация  \n",
       "/recepty/zakuski/solenie-limoni-29601               Соленья и консервация  \n",
       "/recepty/sousy-marinady/marinovannyy-chesnok-so...  Соленья и консервация  \n",
       "/recepty/zagotovki/marinovannye-opyata-94048        Соленья и консервация  \n",
       "/recepty/zakuski/marinovannyy-arbuz-38167           Соленья и консервация  \n",
       "...                                                                   ...  \n",
       "/recepty/sousy-marinady/tkemali-iz-krasnoy-smor...                Ткемали  \n",
       "/recepty/sousy-marinady/sous-tkemali-17107                        Ткемали  \n",
       "/recepty/sousy-marinady/sous-tkemali--14845                       Ткемали  \n",
       "/recepty/sousy-marinady/tkemali-iz-vengerki-45772                 Ткемали  \n",
       "/recepty/sousy-marinady/tkemali-zelenij-28613                     Ткемали  \n",
       "\n",
       "[30771 rows x 3 columns]"
      ],
      "text/html": "<div>\n<style scoped>\n    .dataframe tbody tr th:only-of-type {\n        vertical-align: middle;\n    }\n\n    .dataframe tbody tr th {\n        vertical-align: top;\n    }\n\n    .dataframe thead th {\n        text-align: right;\n    }\n</style>\n<table border=\"1\" class=\"dataframe\">\n  <thead>\n    <tr style=\"text-align: right;\">\n      <th></th>\n      <th>title</th>\n      <th>ingredients</th>\n      <th>category</th>\n    </tr>\n  </thead>\n  <tbody>\n    <tr>\n      <th>/recepty/zakuski/ogurci-v-ostrom-marinade-16230</th>\n      <td>Огурцы в остром маринаде</td>\n      <td>[Рисовый уксус, Огурцы, Кунжутное масло, Соевы...</td>\n      <td>Соленья и консервация</td>\n    </tr>\n    <tr>\n      <th>/recepty/zakuski/solenie-limoni-29601</th>\n      <td>Соленые лимоны</td>\n      <td>[Лимон, Черный перец горошком, Лавровый лист, ...</td>\n      <td>Соленья и консервация</td>\n    </tr>\n    <tr>\n      <th>/recepty/sousy-marinady/marinovannyy-chesnok-so-svekloy-137101</th>\n      <td>Маринованный чеснок со свеклой</td>\n      <td>[Чеснок, Вода, Уксус 9%-ный, Соль, Черный пере...</td>\n      <td>Соленья и консервация</td>\n    </tr>\n    <tr>\n      <th>/recepty/zagotovki/marinovannye-opyata-94048</th>\n      <td>Маринованные опята</td>\n      <td>[Опята, Уксус, Соль, Лавровый лист, Сахар, Чер...</td>\n      <td>Соленья и консервация</td>\n    </tr>\n    <tr>\n      <th>/recepty/zakuski/marinovannyy-arbuz-38167</th>\n      <td>Маринованный арбуз</td>\n      <td>[Соль, Арбуз, Стебель сельдерея, Чеснок, Укроп...</td>\n      <td>Соленья и консервация</td>\n    </tr>\n    <tr>\n      <th>...</th>\n      <td>...</td>\n      <td>...</td>\n      <td>...</td>\n    </tr>\n    <tr>\n      <th>/recepty/sousy-marinady/tkemali-iz-krasnoy-smorodiny-80062</th>\n      <td>Ткемали из красной смородины</td>\n      <td>[Красная смородина, Кинза, Семена кориандра, Т...</td>\n      <td>Ткемали</td>\n    </tr>\n    <tr>\n      <th>/recepty/sousy-marinady/sous-tkemali-17107</th>\n      <td>Соус ткемали</td>\n      <td>[Чеснок, Сливы ткемали, Кинза, Укроп, Красный ...</td>\n      <td>Ткемали</td>\n    </tr>\n    <tr>\n      <th>/recepty/sousy-marinady/sous-tkemali--14845</th>\n      <td>Соус «Ткемали».</td>\n      <td>[Сливы, Чеснок, Соль, Молотый черный перец, Ки...</td>\n      <td>Ткемали</td>\n    </tr>\n    <tr>\n      <th>/recepty/sousy-marinady/tkemali-iz-vengerki-45772</th>\n      <td>Ткемали из венгерки</td>\n      <td>[Сливы, Хмели-сунели, Уцхо-сунели, Чеснок, Сем...</td>\n      <td>Ткемали</td>\n    </tr>\n    <tr>\n      <th>/recepty/sousy-marinady/tkemali-zelenij-28613</th>\n      <td>Ткемали зеленый</td>\n      <td>[Кинза, Зеленая алыча, Укроп, Мята, Зеленый ст...</td>\n      <td>Ткемали</td>\n    </tr>\n  </tbody>\n</table>\n<p>30771 rows × 3 columns</p>\n</div>"
     },
     "metadata": {},
     "execution_count": 6
    }
   ],
   "source": [
    "df"
   ]
  },
  {
   "cell_type": "code",
   "execution_count": 7,
   "metadata": {},
   "outputs": [],
   "source": [
    "cat_low = df['category'].apply(lambda x: x.lower()).values\n",
    "title_low = df['title'].apply(lambda x: x.lower()).values"
   ]
  },
  {
   "cell_type": "code",
   "execution_count": 8,
   "metadata": {},
   "outputs": [],
   "source": [
    "df['category'] = cat_low\n",
    "df['title'] = title_low"
   ]
  },
  {
   "cell_type": "code",
   "execution_count": 9,
   "metadata": {},
   "outputs": [
    {
     "output_type": "execute_result",
     "data": {
      "text/plain": [
       "                                                                             title  \\\n",
       "/recepty/zakuski/ogurci-v-ostrom-marinade-16230           огурцы в остром маринаде   \n",
       "/recepty/zakuski/solenie-limoni-29601                               соленые лимоны   \n",
       "/recepty/sousy-marinady/marinovannyy-chesnok-so...  маринованный чеснок со свеклой   \n",
       "/recepty/zagotovki/marinovannye-opyata-94048                    маринованные опята   \n",
       "/recepty/zakuski/marinovannyy-arbuz-38167                       маринованный арбуз   \n",
       "...                                                                            ...   \n",
       "/recepty/sousy-marinady/tkemali-iz-krasnoy-smor...    ткемали из красной смородины   \n",
       "/recepty/sousy-marinady/sous-tkemali-17107                            соус ткемали   \n",
       "/recepty/sousy-marinady/sous-tkemali--14845                        соус «ткемали».   \n",
       "/recepty/sousy-marinady/tkemali-iz-vengerki-45772              ткемали из венгерки   \n",
       "/recepty/sousy-marinady/tkemali-zelenij-28613                      ткемали зеленый   \n",
       "\n",
       "                                                                                          ingredients  \\\n",
       "/recepty/zakuski/ogurci-v-ostrom-marinade-16230     [Рисовый уксус, Огурцы, Кунжутное масло, Соевы...   \n",
       "/recepty/zakuski/solenie-limoni-29601               [Лимон, Черный перец горошком, Лавровый лист, ...   \n",
       "/recepty/sousy-marinady/marinovannyy-chesnok-so...  [Чеснок, Вода, Уксус 9%-ный, Соль, Черный пере...   \n",
       "/recepty/zagotovki/marinovannye-opyata-94048        [Опята, Уксус, Соль, Лавровый лист, Сахар, Чер...   \n",
       "/recepty/zakuski/marinovannyy-arbuz-38167           [Соль, Арбуз, Стебель сельдерея, Чеснок, Укроп...   \n",
       "...                                                                                               ...   \n",
       "/recepty/sousy-marinady/tkemali-iz-krasnoy-smor...  [Красная смородина, Кинза, Семена кориандра, Т...   \n",
       "/recepty/sousy-marinady/sous-tkemali-17107          [Чеснок, Сливы ткемали, Кинза, Укроп, Красный ...   \n",
       "/recepty/sousy-marinady/sous-tkemali--14845         [Сливы, Чеснок, Соль, Молотый черный перец, Ки...   \n",
       "/recepty/sousy-marinady/tkemali-iz-vengerki-45772   [Сливы, Хмели-сунели, Уцхо-сунели, Чеснок, Сем...   \n",
       "/recepty/sousy-marinady/tkemali-zelenij-28613       [Кинза, Зеленая алыча, Укроп, Мята, Зеленый ст...   \n",
       "\n",
       "                                                                 category  \n",
       "/recepty/zakuski/ogurci-v-ostrom-marinade-16230     соленья и консервация  \n",
       "/recepty/zakuski/solenie-limoni-29601               соленья и консервация  \n",
       "/recepty/sousy-marinady/marinovannyy-chesnok-so...  соленья и консервация  \n",
       "/recepty/zagotovki/marinovannye-opyata-94048        соленья и консервация  \n",
       "/recepty/zakuski/marinovannyy-arbuz-38167           соленья и консервация  \n",
       "...                                                                   ...  \n",
       "/recepty/sousy-marinady/tkemali-iz-krasnoy-smor...                ткемали  \n",
       "/recepty/sousy-marinady/sous-tkemali-17107                        ткемали  \n",
       "/recepty/sousy-marinady/sous-tkemali--14845                       ткемали  \n",
       "/recepty/sousy-marinady/tkemali-iz-vengerki-45772                 ткемали  \n",
       "/recepty/sousy-marinady/tkemali-zelenij-28613                     ткемали  \n",
       "\n",
       "[30771 rows x 3 columns]"
      ],
      "text/html": "<div>\n<style scoped>\n    .dataframe tbody tr th:only-of-type {\n        vertical-align: middle;\n    }\n\n    .dataframe tbody tr th {\n        vertical-align: top;\n    }\n\n    .dataframe thead th {\n        text-align: right;\n    }\n</style>\n<table border=\"1\" class=\"dataframe\">\n  <thead>\n    <tr style=\"text-align: right;\">\n      <th></th>\n      <th>title</th>\n      <th>ingredients</th>\n      <th>category</th>\n    </tr>\n  </thead>\n  <tbody>\n    <tr>\n      <th>/recepty/zakuski/ogurci-v-ostrom-marinade-16230</th>\n      <td>огурцы в остром маринаде</td>\n      <td>[Рисовый уксус, Огурцы, Кунжутное масло, Соевы...</td>\n      <td>соленья и консервация</td>\n    </tr>\n    <tr>\n      <th>/recepty/zakuski/solenie-limoni-29601</th>\n      <td>соленые лимоны</td>\n      <td>[Лимон, Черный перец горошком, Лавровый лист, ...</td>\n      <td>соленья и консервация</td>\n    </tr>\n    <tr>\n      <th>/recepty/sousy-marinady/marinovannyy-chesnok-so-svekloy-137101</th>\n      <td>маринованный чеснок со свеклой</td>\n      <td>[Чеснок, Вода, Уксус 9%-ный, Соль, Черный пере...</td>\n      <td>соленья и консервация</td>\n    </tr>\n    <tr>\n      <th>/recepty/zagotovki/marinovannye-opyata-94048</th>\n      <td>маринованные опята</td>\n      <td>[Опята, Уксус, Соль, Лавровый лист, Сахар, Чер...</td>\n      <td>соленья и консервация</td>\n    </tr>\n    <tr>\n      <th>/recepty/zakuski/marinovannyy-arbuz-38167</th>\n      <td>маринованный арбуз</td>\n      <td>[Соль, Арбуз, Стебель сельдерея, Чеснок, Укроп...</td>\n      <td>соленья и консервация</td>\n    </tr>\n    <tr>\n      <th>...</th>\n      <td>...</td>\n      <td>...</td>\n      <td>...</td>\n    </tr>\n    <tr>\n      <th>/recepty/sousy-marinady/tkemali-iz-krasnoy-smorodiny-80062</th>\n      <td>ткемали из красной смородины</td>\n      <td>[Красная смородина, Кинза, Семена кориандра, Т...</td>\n      <td>ткемали</td>\n    </tr>\n    <tr>\n      <th>/recepty/sousy-marinady/sous-tkemali-17107</th>\n      <td>соус ткемали</td>\n      <td>[Чеснок, Сливы ткемали, Кинза, Укроп, Красный ...</td>\n      <td>ткемали</td>\n    </tr>\n    <tr>\n      <th>/recepty/sousy-marinady/sous-tkemali--14845</th>\n      <td>соус «ткемали».</td>\n      <td>[Сливы, Чеснок, Соль, Молотый черный перец, Ки...</td>\n      <td>ткемали</td>\n    </tr>\n    <tr>\n      <th>/recepty/sousy-marinady/tkemali-iz-vengerki-45772</th>\n      <td>ткемали из венгерки</td>\n      <td>[Сливы, Хмели-сунели, Уцхо-сунели, Чеснок, Сем...</td>\n      <td>ткемали</td>\n    </tr>\n    <tr>\n      <th>/recepty/sousy-marinady/tkemali-zelenij-28613</th>\n      <td>ткемали зеленый</td>\n      <td>[Кинза, Зеленая алыча, Укроп, Мята, Зеленый ст...</td>\n      <td>ткемали</td>\n    </tr>\n  </tbody>\n</table>\n<p>30771 rows × 3 columns</p>\n</div>"
     },
     "metadata": {},
     "execution_count": 9
    }
   ],
   "source": [
    "df"
   ]
  },
  {
   "cell_type": "code",
   "execution_count": 10,
   "metadata": {},
   "outputs": [
    {
     "output_type": "execute_result",
     "data": {
      "text/plain": [
       "array([list(['рисовый уксус', 'огурцы', 'кунжутное масло', 'соевый соус', 'перец чили']),\n",
       "       list(['лимон', 'черный перец горошком', 'лавровый лист', 'соль', 'оливковое масло']),\n",
       "       list(['чеснок', 'вода', 'уксус 9%-ный', 'соль', 'черный перец горошком', 'душистый перец горошком', 'тмин', 'лавровый лист', 'свекла']),\n",
       "       ...,\n",
       "       list(['сливы', 'чеснок', 'соль', 'молотый черный перец', 'кинза']),\n",
       "       list(['сливы', 'хмели-сунели', 'уцхо-сунели', 'чеснок', 'семена кориандра', 'соль', 'сахар', 'каперсы', 'лимонный сок', 'молотый перец чили']),\n",
       "       list(['кинза', 'зеленая алыча', 'укроп', 'мята', 'зеленый стручковый перец', 'чеснок', 'семена кориандра', 'соль'])],\n",
       "      dtype=object)"
      ]
     },
     "metadata": {},
     "execution_count": 10
    }
   ],
   "source": [
    "ingrs_low = df['ingredients'].apply(lambda l: [x.lower() for x in l]).values\n",
    "ingrs_low"
   ]
  },
  {
   "cell_type": "code",
   "execution_count": 11,
   "metadata": {},
   "outputs": [],
   "source": [
    "df['ingredients'] = ingrs_low"
   ]
  },
  {
   "cell_type": "code",
   "execution_count": 12,
   "metadata": {},
   "outputs": [
    {
     "output_type": "execute_result",
     "data": {
      "text/plain": [
       "                                                                             title  \\\n",
       "/recepty/zakuski/ogurci-v-ostrom-marinade-16230           огурцы в остром маринаде   \n",
       "/recepty/zakuski/solenie-limoni-29601                               соленые лимоны   \n",
       "/recepty/sousy-marinady/marinovannyy-chesnok-so...  маринованный чеснок со свеклой   \n",
       "/recepty/zagotovki/marinovannye-opyata-94048                    маринованные опята   \n",
       "/recepty/zakuski/marinovannyy-arbuz-38167                       маринованный арбуз   \n",
       "...                                                                            ...   \n",
       "/recepty/sousy-marinady/tkemali-iz-krasnoy-smor...    ткемали из красной смородины   \n",
       "/recepty/sousy-marinady/sous-tkemali-17107                            соус ткемали   \n",
       "/recepty/sousy-marinady/sous-tkemali--14845                        соус «ткемали».   \n",
       "/recepty/sousy-marinady/tkemali-iz-vengerki-45772              ткемали из венгерки   \n",
       "/recepty/sousy-marinady/tkemali-zelenij-28613                      ткемали зеленый   \n",
       "\n",
       "                                                                                          ingredients  \\\n",
       "/recepty/zakuski/ogurci-v-ostrom-marinade-16230     [рисовый уксус, огурцы, кунжутное масло, соевы...   \n",
       "/recepty/zakuski/solenie-limoni-29601               [лимон, черный перец горошком, лавровый лист, ...   \n",
       "/recepty/sousy-marinady/marinovannyy-chesnok-so...  [чеснок, вода, уксус 9%-ный, соль, черный пере...   \n",
       "/recepty/zagotovki/marinovannye-opyata-94048        [опята, уксус, соль, лавровый лист, сахар, чер...   \n",
       "/recepty/zakuski/marinovannyy-arbuz-38167           [соль, арбуз, стебель сельдерея, чеснок, укроп...   \n",
       "...                                                                                               ...   \n",
       "/recepty/sousy-marinady/tkemali-iz-krasnoy-smor...  [красная смородина, кинза, семена кориандра, т...   \n",
       "/recepty/sousy-marinady/sous-tkemali-17107          [чеснок, сливы ткемали, кинза, укроп, красный ...   \n",
       "/recepty/sousy-marinady/sous-tkemali--14845         [сливы, чеснок, соль, молотый черный перец, ки...   \n",
       "/recepty/sousy-marinady/tkemali-iz-vengerki-45772   [сливы, хмели-сунели, уцхо-сунели, чеснок, сем...   \n",
       "/recepty/sousy-marinady/tkemali-zelenij-28613       [кинза, зеленая алыча, укроп, мята, зеленый ст...   \n",
       "\n",
       "                                                                 category  \n",
       "/recepty/zakuski/ogurci-v-ostrom-marinade-16230     соленья и консервация  \n",
       "/recepty/zakuski/solenie-limoni-29601               соленья и консервация  \n",
       "/recepty/sousy-marinady/marinovannyy-chesnok-so...  соленья и консервация  \n",
       "/recepty/zagotovki/marinovannye-opyata-94048        соленья и консервация  \n",
       "/recepty/zakuski/marinovannyy-arbuz-38167           соленья и консервация  \n",
       "...                                                                   ...  \n",
       "/recepty/sousy-marinady/tkemali-iz-krasnoy-smor...                ткемали  \n",
       "/recepty/sousy-marinady/sous-tkemali-17107                        ткемали  \n",
       "/recepty/sousy-marinady/sous-tkemali--14845                       ткемали  \n",
       "/recepty/sousy-marinady/tkemali-iz-vengerki-45772                 ткемали  \n",
       "/recepty/sousy-marinady/tkemali-zelenij-28613                     ткемали  \n",
       "\n",
       "[30771 rows x 3 columns]"
      ],
      "text/html": "<div>\n<style scoped>\n    .dataframe tbody tr th:only-of-type {\n        vertical-align: middle;\n    }\n\n    .dataframe tbody tr th {\n        vertical-align: top;\n    }\n\n    .dataframe thead th {\n        text-align: right;\n    }\n</style>\n<table border=\"1\" class=\"dataframe\">\n  <thead>\n    <tr style=\"text-align: right;\">\n      <th></th>\n      <th>title</th>\n      <th>ingredients</th>\n      <th>category</th>\n    </tr>\n  </thead>\n  <tbody>\n    <tr>\n      <th>/recepty/zakuski/ogurci-v-ostrom-marinade-16230</th>\n      <td>огурцы в остром маринаде</td>\n      <td>[рисовый уксус, огурцы, кунжутное масло, соевы...</td>\n      <td>соленья и консервация</td>\n    </tr>\n    <tr>\n      <th>/recepty/zakuski/solenie-limoni-29601</th>\n      <td>соленые лимоны</td>\n      <td>[лимон, черный перец горошком, лавровый лист, ...</td>\n      <td>соленья и консервация</td>\n    </tr>\n    <tr>\n      <th>/recepty/sousy-marinady/marinovannyy-chesnok-so-svekloy-137101</th>\n      <td>маринованный чеснок со свеклой</td>\n      <td>[чеснок, вода, уксус 9%-ный, соль, черный пере...</td>\n      <td>соленья и консервация</td>\n    </tr>\n    <tr>\n      <th>/recepty/zagotovki/marinovannye-opyata-94048</th>\n      <td>маринованные опята</td>\n      <td>[опята, уксус, соль, лавровый лист, сахар, чер...</td>\n      <td>соленья и консервация</td>\n    </tr>\n    <tr>\n      <th>/recepty/zakuski/marinovannyy-arbuz-38167</th>\n      <td>маринованный арбуз</td>\n      <td>[соль, арбуз, стебель сельдерея, чеснок, укроп...</td>\n      <td>соленья и консервация</td>\n    </tr>\n    <tr>\n      <th>...</th>\n      <td>...</td>\n      <td>...</td>\n      <td>...</td>\n    </tr>\n    <tr>\n      <th>/recepty/sousy-marinady/tkemali-iz-krasnoy-smorodiny-80062</th>\n      <td>ткемали из красной смородины</td>\n      <td>[красная смородина, кинза, семена кориандра, т...</td>\n      <td>ткемали</td>\n    </tr>\n    <tr>\n      <th>/recepty/sousy-marinady/sous-tkemali-17107</th>\n      <td>соус ткемали</td>\n      <td>[чеснок, сливы ткемали, кинза, укроп, красный ...</td>\n      <td>ткемали</td>\n    </tr>\n    <tr>\n      <th>/recepty/sousy-marinady/sous-tkemali--14845</th>\n      <td>соус «ткемали».</td>\n      <td>[сливы, чеснок, соль, молотый черный перец, ки...</td>\n      <td>ткемали</td>\n    </tr>\n    <tr>\n      <th>/recepty/sousy-marinady/tkemali-iz-vengerki-45772</th>\n      <td>ткемали из венгерки</td>\n      <td>[сливы, хмели-сунели, уцхо-сунели, чеснок, сем...</td>\n      <td>ткемали</td>\n    </tr>\n    <tr>\n      <th>/recepty/sousy-marinady/tkemali-zelenij-28613</th>\n      <td>ткемали зеленый</td>\n      <td>[кинза, зеленая алыча, укроп, мята, зеленый ст...</td>\n      <td>ткемали</td>\n    </tr>\n  </tbody>\n</table>\n<p>30771 rows × 3 columns</p>\n</div>"
     },
     "metadata": {},
     "execution_count": 12
    }
   ],
   "source": [
    "df"
   ]
  },
  {
   "cell_type": "code",
   "execution_count": 13,
   "metadata": {},
   "outputs": [],
   "source": [
    "df.to_csv('../data/recipes.csv')\n",
    "df.to_json('../data/recipes.json')\n",
    "df_sql = df.explode('ingredients')\n",
    "df_sql.to_csv('../data/recipes_sql.csv')"
   ]
  },
  {
   "cell_type": "code",
   "execution_count": 72,
   "metadata": {},
   "outputs": [],
   "source": []
  }
 ]
}