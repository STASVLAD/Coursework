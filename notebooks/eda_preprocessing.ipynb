{
 "metadata": {
  "language_info": {
   "codemirror_mode": {
    "name": "ipython",
    "version": 3
   },
   "file_extension": ".py",
   "mimetype": "text/x-python",
   "name": "python",
   "nbconvert_exporter": "python",
   "pygments_lexer": "ipython3",
   "version": "3.8.5"
  },
  "orig_nbformat": 4,
  "kernelspec": {
   "name": "python3",
   "display_name": "Python 3.8.5 64-bit"
  },
  "interpreter": {
   "hash": "31f2aee4e71d21fbe5cf8b01ff0e069b9275f58929596ceb00d14d90e3e16cd6"
  }
 },
 "nbformat": 4,
 "nbformat_minor": 2,
 "cells": [
  {
   "cell_type": "code",
   "execution_count": 4,
   "metadata": {},
   "outputs": [],
   "source": [
    "import json\n",
    "import pandas as pd"
   ]
  },
  {
   "cell_type": "code",
   "execution_count": 5,
   "metadata": {},
   "outputs": [],
   "source": [
    "df = pd.read_csv('../data/recipes.csv', index_col=0)"
   ]
  },
  {
   "cell_type": "code",
   "execution_count": 9,
   "metadata": {},
   "outputs": [
    {
     "output_type": "execute_result",
     "data": {
      "text/plain": [
       "                                                                             title  \\\n",
       "/recepty/zakuski/ogurci-v-ostrom-marinade-16230           Огурцы в остром маринаде   \n",
       "/recepty/zakuski/solenie-limoni-29601                               Соленые лимоны   \n",
       "/recepty/sousy-marinady/marinovannyy-chesnok-so...  Маринованный чеснок со свеклой   \n",
       "/recepty/zagotovki/marinovannye-opyata-94048                    Маринованные опята   \n",
       "/recepty/zakuski/marinovannyy-arbuz-38167                       Маринованный арбуз   \n",
       "...                                                                            ...   \n",
       "/recepty/sousy-marinady/tkemali-iz-krasnoy-smor...    Ткемали из красной смородины   \n",
       "/recepty/sousy-marinady/sous-tkemali-17107                            Соус ткемали   \n",
       "/recepty/sousy-marinady/sous-tkemali--14845                        Соус «Ткемали».   \n",
       "/recepty/sousy-marinady/tkemali-iz-vengerki-45772              Ткемали из венгерки   \n",
       "/recepty/sousy-marinady/tkemali-zelenij-28613                      Ткемали зеленый   \n",
       "\n",
       "                                                                                          ingredients  \\\n",
       "/recepty/zakuski/ogurci-v-ostrom-marinade-16230     [{'id': 13955, 'name': 'Рисовый уксус', 'amoun...   \n",
       "/recepty/zakuski/solenie-limoni-29601               [{'id': 13427, 'name': 'Лимон', 'amount': '1 к...   \n",
       "/recepty/sousy-marinady/marinovannyy-chesnok-so...  [{'id': 13430, 'name': 'Чеснок', 'amount': '4 ...   \n",
       "/recepty/zagotovki/marinovannye-opyata-94048        [{'id': 14584, 'name': 'Опята', 'amount': '1 к...   \n",
       "/recepty/zakuski/marinovannyy-arbuz-38167           [{'id': 13421, 'name': 'Соль', 'amount': '100 ...   \n",
       "...                                                                                               ...   \n",
       "/recepty/sousy-marinady/tkemali-iz-krasnoy-smor...  [{'id': 14674, 'name': 'Красная смородина', 'a...   \n",
       "/recepty/sousy-marinady/sous-tkemali-17107          [{'id': 13430, 'name': 'Чеснок', 'amount': '1 ...   \n",
       "/recepty/sousy-marinady/sous-tkemali--14845         [{'id': 13762, 'name': 'Сливы', 'amount': '500...   \n",
       "/recepty/sousy-marinady/tkemali-iz-vengerki-45772   [{'id': 13762, 'name': 'Сливы', 'amount': '1 к...   \n",
       "/recepty/sousy-marinady/tkemali-zelenij-28613       [{'id': 13630, 'name': 'Кинза', 'amount': '2 п...   \n",
       "\n",
       "                                                                 category  \n",
       "/recepty/zakuski/ogurci-v-ostrom-marinade-16230     Соленья и консервация  \n",
       "/recepty/zakuski/solenie-limoni-29601               Соленья и консервация  \n",
       "/recepty/sousy-marinady/marinovannyy-chesnok-so...  Соленья и консервация  \n",
       "/recepty/zagotovki/marinovannye-opyata-94048        Соленья и консервация  \n",
       "/recepty/zakuski/marinovannyy-arbuz-38167           Соленья и консервация  \n",
       "...                                                                   ...  \n",
       "/recepty/sousy-marinady/tkemali-iz-krasnoy-smor...                Ткемали  \n",
       "/recepty/sousy-marinady/sous-tkemali-17107                        Ткемали  \n",
       "/recepty/sousy-marinady/sous-tkemali--14845                       Ткемали  \n",
       "/recepty/sousy-marinady/tkemali-iz-vengerki-45772                 Ткемали  \n",
       "/recepty/sousy-marinady/tkemali-zelenij-28613                     Ткемали  \n",
       "\n",
       "[31273 rows x 3 columns]"
      ],
      "text/html": "<div>\n<style scoped>\n    .dataframe tbody tr th:only-of-type {\n        vertical-align: middle;\n    }\n\n    .dataframe tbody tr th {\n        vertical-align: top;\n    }\n\n    .dataframe thead th {\n        text-align: right;\n    }\n</style>\n<table border=\"1\" class=\"dataframe\">\n  <thead>\n    <tr style=\"text-align: right;\">\n      <th></th>\n      <th>title</th>\n      <th>ingredients</th>\n      <th>category</th>\n    </tr>\n  </thead>\n  <tbody>\n    <tr>\n      <th>/recepty/zakuski/ogurci-v-ostrom-marinade-16230</th>\n      <td>Огурцы в остром маринаде</td>\n      <td>[{'id': 13955, 'name': 'Рисовый уксус', 'amoun...</td>\n      <td>Соленья и консервация</td>\n    </tr>\n    <tr>\n      <th>/recepty/zakuski/solenie-limoni-29601</th>\n      <td>Соленые лимоны</td>\n      <td>[{'id': 13427, 'name': 'Лимон', 'amount': '1 к...</td>\n      <td>Соленья и консервация</td>\n    </tr>\n    <tr>\n      <th>/recepty/sousy-marinady/marinovannyy-chesnok-so-svekloy-137101</th>\n      <td>Маринованный чеснок со свеклой</td>\n      <td>[{'id': 13430, 'name': 'Чеснок', 'amount': '4 ...</td>\n      <td>Соленья и консервация</td>\n    </tr>\n    <tr>\n      <th>/recepty/zagotovki/marinovannye-opyata-94048</th>\n      <td>Маринованные опята</td>\n      <td>[{'id': 14584, 'name': 'Опята', 'amount': '1 к...</td>\n      <td>Соленья и консервация</td>\n    </tr>\n    <tr>\n      <th>/recepty/zakuski/marinovannyy-arbuz-38167</th>\n      <td>Маринованный арбуз</td>\n      <td>[{'id': 13421, 'name': 'Соль', 'amount': '100 ...</td>\n      <td>Соленья и консервация</td>\n    </tr>\n    <tr>\n      <th>...</th>\n      <td>...</td>\n      <td>...</td>\n      <td>...</td>\n    </tr>\n    <tr>\n      <th>/recepty/sousy-marinady/tkemali-iz-krasnoy-smorodiny-80062</th>\n      <td>Ткемали из красной смородины</td>\n      <td>[{'id': 14674, 'name': 'Красная смородина', 'a...</td>\n      <td>Ткемали</td>\n    </tr>\n    <tr>\n      <th>/recepty/sousy-marinady/sous-tkemali-17107</th>\n      <td>Соус ткемали</td>\n      <td>[{'id': 13430, 'name': 'Чеснок', 'amount': '1 ...</td>\n      <td>Ткемали</td>\n    </tr>\n    <tr>\n      <th>/recepty/sousy-marinady/sous-tkemali--14845</th>\n      <td>Соус «Ткемали».</td>\n      <td>[{'id': 13762, 'name': 'Сливы', 'amount': '500...</td>\n      <td>Ткемали</td>\n    </tr>\n    <tr>\n      <th>/recepty/sousy-marinady/tkemali-iz-vengerki-45772</th>\n      <td>Ткемали из венгерки</td>\n      <td>[{'id': 13762, 'name': 'Сливы', 'amount': '1 к...</td>\n      <td>Ткемали</td>\n    </tr>\n    <tr>\n      <th>/recepty/sousy-marinady/tkemali-zelenij-28613</th>\n      <td>Ткемали зеленый</td>\n      <td>[{'id': 13630, 'name': 'Кинза', 'amount': '2 п...</td>\n      <td>Ткемали</td>\n    </tr>\n  </tbody>\n</table>\n<p>31273 rows × 3 columns</p>\n</div>"
     },
     "metadata": {},
     "execution_count": 9
    }
   ],
   "source": [
    "df"
   ]
  },
  {
   "cell_type": "code",
   "execution_count": 51,
   "metadata": {},
   "outputs": [
    {
     "output_type": "execute_result",
     "data": {
      "text/plain": [
       "\"[{'id': 13955, 'name': 'Рисовый уксус', 'amount': '50 мл'}, {'id': 15137, 'name': 'Огурцы', 'amount': '2 штуки'}, {'id': 13609, 'name': 'Кунжутное масло', 'amount': '50 мл'}, {'id': 13570, 'name': 'Соевый соус', 'amount': '2 столовые ложки'}, {'id': 13506, 'name': 'Перец чили', 'amount': '1 штука'}]\""
      ]
     },
     "metadata": {},
     "execution_count": 51
    }
   ],
   "source": [
    "df.ingredients.values[0]"
   ]
  },
  {
   "cell_type": "code",
   "execution_count": 50,
   "metadata": {},
   "outputs": [
    {
     "output_type": "execute_result",
     "data": {
      "text/plain": [
       "\"{'id': 13955, 'name': 'Рисовый уксус', 'amount': '50 мл'\""
      ]
     },
     "metadata": {},
     "execution_count": 50
    }
   ],
   "source": [
    "df.ingredients.values[0][1:-1].split('}, ')[0]"
   ]
  },
  {
   "cell_type": "code",
   "execution_count": 20,
   "metadata": {},
   "outputs": [
    {
     "output_type": "stream",
     "name": "stdout",
     "text": [
      "<class 'str'>\n"
     ]
    },
    {
     "output_type": "error",
     "ename": "JSONDecodeError",
     "evalue": "Expecting property name enclosed in double quotes: line 1 column 3 (char 2)",
     "traceback": [
      "\u001b[0;31m---------------------------------------------------------------------------\u001b[0m",
      "\u001b[0;31mJSONDecodeError\u001b[0m                           Traceback (most recent call last)",
      "\u001b[0;32m<ipython-input-20-97cb9ec14750>\u001b[0m in \u001b[0;36m<module>\u001b[0;34m\u001b[0m\n\u001b[1;32m      3\u001b[0m \u001b[0;32mfor\u001b[0m \u001b[0mingredient_list\u001b[0m \u001b[0;32min\u001b[0m \u001b[0mingredient_lists\u001b[0m\u001b[0;34m:\u001b[0m\u001b[0;34m\u001b[0m\u001b[0;34m\u001b[0m\u001b[0m\n\u001b[1;32m      4\u001b[0m     \u001b[0mprint\u001b[0m\u001b[0;34m(\u001b[0m\u001b[0mtype\u001b[0m\u001b[0;34m(\u001b[0m\u001b[0mingredient_list\u001b[0m\u001b[0;34m)\u001b[0m\u001b[0;34m)\u001b[0m\u001b[0;34m\u001b[0m\u001b[0;34m\u001b[0m\u001b[0m\n\u001b[0;32m----> 5\u001b[0;31m     \u001b[0mingredient_list\u001b[0m \u001b[0;34m=\u001b[0m \u001b[0mjson\u001b[0m\u001b[0;34m.\u001b[0m\u001b[0mloads\u001b[0m\u001b[0;34m(\u001b[0m\u001b[0mingredient_list\u001b[0m\u001b[0;34m)\u001b[0m\u001b[0;34m\u001b[0m\u001b[0;34m\u001b[0m\u001b[0m\n\u001b[0m\u001b[1;32m      6\u001b[0m     \u001b[0mtemp\u001b[0m \u001b[0;34m=\u001b[0m \u001b[0;34m[\u001b[0m\u001b[0;34m]\u001b[0m\u001b[0;34m\u001b[0m\u001b[0;34m\u001b[0m\u001b[0m\n\u001b[1;32m      7\u001b[0m     \u001b[0;32mfor\u001b[0m \u001b[0mingredient\u001b[0m \u001b[0;32min\u001b[0m \u001b[0mingredient_list\u001b[0m\u001b[0;34m:\u001b[0m\u001b[0;34m\u001b[0m\u001b[0;34m\u001b[0m\u001b[0m\n",
      "\u001b[0;32m/usr/lib/python3.8/json/__init__.py\u001b[0m in \u001b[0;36mloads\u001b[0;34m(s, cls, object_hook, parse_float, parse_int, parse_constant, object_pairs_hook, **kw)\u001b[0m\n\u001b[1;32m    355\u001b[0m             \u001b[0mparse_int\u001b[0m \u001b[0;32mis\u001b[0m \u001b[0;32mNone\u001b[0m \u001b[0;32mand\u001b[0m \u001b[0mparse_float\u001b[0m \u001b[0;32mis\u001b[0m \u001b[0;32mNone\u001b[0m \u001b[0;32mand\u001b[0m\u001b[0;34m\u001b[0m\u001b[0;34m\u001b[0m\u001b[0m\n\u001b[1;32m    356\u001b[0m             parse_constant is None and object_pairs_hook is None and not kw):\n\u001b[0;32m--> 357\u001b[0;31m         \u001b[0;32mreturn\u001b[0m \u001b[0m_default_decoder\u001b[0m\u001b[0;34m.\u001b[0m\u001b[0mdecode\u001b[0m\u001b[0;34m(\u001b[0m\u001b[0ms\u001b[0m\u001b[0;34m)\u001b[0m\u001b[0;34m\u001b[0m\u001b[0;34m\u001b[0m\u001b[0m\n\u001b[0m\u001b[1;32m    358\u001b[0m     \u001b[0;32mif\u001b[0m \u001b[0mcls\u001b[0m \u001b[0;32mis\u001b[0m \u001b[0;32mNone\u001b[0m\u001b[0;34m:\u001b[0m\u001b[0;34m\u001b[0m\u001b[0;34m\u001b[0m\u001b[0m\n\u001b[1;32m    359\u001b[0m         \u001b[0mcls\u001b[0m \u001b[0;34m=\u001b[0m \u001b[0mJSONDecoder\u001b[0m\u001b[0;34m\u001b[0m\u001b[0;34m\u001b[0m\u001b[0m\n",
      "\u001b[0;32m/usr/lib/python3.8/json/decoder.py\u001b[0m in \u001b[0;36mdecode\u001b[0;34m(self, s, _w)\u001b[0m\n\u001b[1;32m    335\u001b[0m \u001b[0;34m\u001b[0m\u001b[0m\n\u001b[1;32m    336\u001b[0m         \"\"\"\n\u001b[0;32m--> 337\u001b[0;31m         \u001b[0mobj\u001b[0m\u001b[0;34m,\u001b[0m \u001b[0mend\u001b[0m \u001b[0;34m=\u001b[0m \u001b[0mself\u001b[0m\u001b[0;34m.\u001b[0m\u001b[0mraw_decode\u001b[0m\u001b[0;34m(\u001b[0m\u001b[0ms\u001b[0m\u001b[0;34m,\u001b[0m \u001b[0midx\u001b[0m\u001b[0;34m=\u001b[0m\u001b[0m_w\u001b[0m\u001b[0;34m(\u001b[0m\u001b[0ms\u001b[0m\u001b[0;34m,\u001b[0m \u001b[0;36m0\u001b[0m\u001b[0;34m)\u001b[0m\u001b[0;34m.\u001b[0m\u001b[0mend\u001b[0m\u001b[0;34m(\u001b[0m\u001b[0;34m)\u001b[0m\u001b[0;34m)\u001b[0m\u001b[0;34m\u001b[0m\u001b[0;34m\u001b[0m\u001b[0m\n\u001b[0m\u001b[1;32m    338\u001b[0m         \u001b[0mend\u001b[0m \u001b[0;34m=\u001b[0m \u001b[0m_w\u001b[0m\u001b[0;34m(\u001b[0m\u001b[0ms\u001b[0m\u001b[0;34m,\u001b[0m \u001b[0mend\u001b[0m\u001b[0;34m)\u001b[0m\u001b[0;34m.\u001b[0m\u001b[0mend\u001b[0m\u001b[0;34m(\u001b[0m\u001b[0;34m)\u001b[0m\u001b[0;34m\u001b[0m\u001b[0;34m\u001b[0m\u001b[0m\n\u001b[1;32m    339\u001b[0m         \u001b[0;32mif\u001b[0m \u001b[0mend\u001b[0m \u001b[0;34m!=\u001b[0m \u001b[0mlen\u001b[0m\u001b[0;34m(\u001b[0m\u001b[0ms\u001b[0m\u001b[0;34m)\u001b[0m\u001b[0;34m:\u001b[0m\u001b[0;34m\u001b[0m\u001b[0;34m\u001b[0m\u001b[0m\n",
      "\u001b[0;32m/usr/lib/python3.8/json/decoder.py\u001b[0m in \u001b[0;36mraw_decode\u001b[0;34m(self, s, idx)\u001b[0m\n\u001b[1;32m    351\u001b[0m         \"\"\"\n\u001b[1;32m    352\u001b[0m         \u001b[0;32mtry\u001b[0m\u001b[0;34m:\u001b[0m\u001b[0;34m\u001b[0m\u001b[0;34m\u001b[0m\u001b[0m\n\u001b[0;32m--> 353\u001b[0;31m             \u001b[0mobj\u001b[0m\u001b[0;34m,\u001b[0m \u001b[0mend\u001b[0m \u001b[0;34m=\u001b[0m \u001b[0mself\u001b[0m\u001b[0;34m.\u001b[0m\u001b[0mscan_once\u001b[0m\u001b[0;34m(\u001b[0m\u001b[0ms\u001b[0m\u001b[0;34m,\u001b[0m \u001b[0midx\u001b[0m\u001b[0;34m)\u001b[0m\u001b[0;34m\u001b[0m\u001b[0;34m\u001b[0m\u001b[0m\n\u001b[0m\u001b[1;32m    354\u001b[0m         \u001b[0;32mexcept\u001b[0m \u001b[0mStopIteration\u001b[0m \u001b[0;32mas\u001b[0m \u001b[0merr\u001b[0m\u001b[0;34m:\u001b[0m\u001b[0;34m\u001b[0m\u001b[0;34m\u001b[0m\u001b[0m\n\u001b[1;32m    355\u001b[0m             \u001b[0;32mraise\u001b[0m \u001b[0mJSONDecodeError\u001b[0m\u001b[0;34m(\u001b[0m\u001b[0;34m\"Expecting value\"\u001b[0m\u001b[0;34m,\u001b[0m \u001b[0ms\u001b[0m\u001b[0;34m,\u001b[0m \u001b[0merr\u001b[0m\u001b[0;34m.\u001b[0m\u001b[0mvalue\u001b[0m\u001b[0;34m)\u001b[0m \u001b[0;32mfrom\u001b[0m \u001b[0;32mNone\u001b[0m\u001b[0;34m\u001b[0m\u001b[0;34m\u001b[0m\u001b[0m\n",
      "\u001b[0;31mJSONDecodeError\u001b[0m: Expecting property name enclosed in double quotes: line 1 column 3 (char 2)"
     ]
    }
   ],
   "source": [
    "ingredients_new = []\n",
    "ingredient_lists = df.ingredients.values\n",
    "for ingredient_list in ingredient_lists:\n",
    "    print(ingredient_list)\n",
    "    ingredient_list = json.loads(ingredient_list)\n",
    "    temp = []\n",
    "    for ingredient in ingredient_list:\n",
    "        print(ingredient)\n",
    "        temp.append(ingredient['name'])\n",
    "    ingredients_new.apppend(temp)"
   ]
  },
  {
   "cell_type": "code",
   "execution_count": 16,
   "metadata": {},
   "outputs": [
    {
     "output_type": "execute_result",
     "data": {
      "text/plain": [
       "[]"
      ]
     },
     "metadata": {},
     "execution_count": 16
    }
   ],
   "source": [
    "ingredients_new"
   ]
  },
  {
   "cell_type": "code",
   "execution_count": null,
   "metadata": {},
   "outputs": [],
   "source": []
  }
 ]
}