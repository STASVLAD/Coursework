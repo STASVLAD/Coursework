{
 "metadata": {
  "language_info": {
   "codemirror_mode": {
    "name": "ipython",
    "version": 3
   },
   "file_extension": ".py",
   "mimetype": "text/x-python",
   "name": "python",
   "nbconvert_exporter": "python",
   "pygments_lexer": "ipython3",
   "version": "3.8.5"
  },
  "orig_nbformat": 2,
  "kernelspec": {
   "name": "python385jvsc74a57bd0e7370f93d1d0cde622a1f8e1c04877d8463912d04d973331ad4851f04de6915a",
   "display_name": "Python 3.8.5 64-bit"
  },
  "metadata": {
   "interpreter": {
    "hash": "e7370f93d1d0cde622a1f8e1c04877d8463912d04d973331ad4851f04de6915a"
   }
  }
 },
 "nbformat": 4,
 "nbformat_minor": 2,
 "cells": [
  {
   "cell_type": "code",
   "execution_count": 1,
   "metadata": {},
   "outputs": [],
   "source": [
    "import nltk\n",
    "import pymorphy2\n",
    "from nltk.corpus import stopwords"
   ]
  },
  {
   "cell_type": "code",
   "execution_count": 2,
   "metadata": {},
   "outputs": [],
   "source": [
    "# nltk.download('averaged_perceptron_tagger_ru')"
   ]
  },
  {
   "cell_type": "code",
   "execution_count": 3,
   "metadata": {},
   "outputs": [],
   "source": [
    "UNITS = ['килограмм', 'грамм', 'литр', 'пакет', 'пакетик', 'бутылка', 'упаковка', 'булка', 'пачка']\n",
    "# 'буханка', "
   ]
  },
  {
   "cell_type": "code",
   "execution_count": 4,
   "metadata": {},
   "outputs": [],
   "source": [
    "stop_words = stopwords.words(\"russian\")\n",
    "stop_words.extend(['добавь', 'список', 'продуктов', 'продукты', 'продукт', 'другую', 'ещё', 'другая', 'купить'])"
   ]
  },
  {
   "cell_type": "code",
   "execution_count": 5,
   "metadata": {},
   "outputs": [],
   "source": [
    "# text = 'Добавь в список продуктов молоко, сметану, 3 булки хлеба, 2 пакета сока и 3 кг картошки, ещё салями, 2 литра воды, петрушку и другую зелень, литр кока-колы'\n",
    "# pure_text = '1 пачку перца сметану 3 пакетика петрушки и картошку кока-колу'\n",
    "# word_pos = {word:i for i, word in enumerate(text.split())}\n",
    "# word_pos"
   ]
  },
  {
   "cell_type": "code",
   "execution_count": 6,
   "metadata": {},
   "outputs": [],
   "source": [
    "tokens = [\"добавь\", \"в\", \"список\", \"покупок\", \"плиз\", \"1\", \"пачку\", \"перца\", \"2\", \"бутылки\", \"оливкого\", \"масла\", \"и\", \"3\", \"пакетика\", \"петрушки\", \"а\", \"ещё\", \"и\", \"килограмм\", \"картошку\", \"потом\", \"надо\", \"купить\", \"ещё\", \"литр\", \"сока\"]"
   ]
  },
  {
   "cell_type": "code",
   "execution_count": 7,
   "metadata": {},
   "outputs": [],
   "source": [
    "def gramma_info(tokens, morph, intent_start, intent_end, remove_stopwords=True):\n",
    "    gramma_info = {}\n",
    "\n",
    "    for i in range(intent_start, intent_end):\n",
    "        if tokens[i] not in stop_words:\n",
    "            p = morph.parse(tokens[i])[0]\n",
    "            if p.normal_form in UNITS:\n",
    "                gramma_info[p.normal_form] = 'UNITS'\n",
    "            elif p.normal_form.isnumeric():\n",
    "                gramma_info[p.normal_form] = 'NUM'\n",
    "            else:\n",
    "                gramma_info[p.normal_form] = str(p.tag.POS)\n",
    "\n",
    "    return gramma_info"
   ]
  },
  {
   "cell_type": "code",
   "execution_count": 8,
   "metadata": {},
   "outputs": [
    {
     "output_type": "execute_result",
     "data": {
      "text/plain": [
       "{'1': 'NUM',\n",
       " 'пачка': 'UNITS',\n",
       " 'перец': 'NOUN',\n",
       " '2': 'NUM',\n",
       " 'бутылка': 'UNITS',\n",
       " 'оливкий': 'ADJF',\n",
       " 'масло': 'NOUN',\n",
       " '3': 'NUM',\n",
       " 'пакетик': 'UNITS',\n",
       " 'петрушка': 'NOUN',\n",
       " 'килограмм': 'UNITS',\n",
       " 'картошка': 'NOUN',\n",
       " 'литр': 'UNITS',\n",
       " 'сок': 'NOUN'}"
      ]
     },
     "metadata": {},
     "execution_count": 8
    }
   ],
   "source": [
    "gr_i = gramma_info(tokens, pymorphy2.MorphAnalyzer(), 5, 27, remove_stopwords=True)\n",
    "gr_i"
   ]
  },
  {
   "cell_type": "code",
   "execution_count": 9,
   "metadata": {},
   "outputs": [],
   "source": [
    "products = []\n",
    "quantities = []\n",
    "units = []\n",
    "no_quantity, no_unit, no_adj = True, True, True\n",
    "\n",
    "for item, pos in gr_i.items():\n",
    "    product = ''\n",
    "    quantity, unit = None, None\n",
    "    if pos == 'NUM':\n",
    "        quantities.append(item)\n",
    "        no_quantity = False\n",
    "    if pos == 'UNITS':\n",
    "        units.append(item)\n",
    "        no_unit = False\n",
    "    if pos == 'ADJF':\n",
    "        product = item + ' '\n",
    "        no_adj = False\n",
    "    if pos == 'NOUN':\n",
    "        product += item\n",
    "        products.append(product)\n",
    "        product = ''\n",
    "        if no_quantity:\n",
    "            quantities.append(1)\n",
    "        if no_unit:\n",
    "            quantities.append(None)\n",
    "        no_quantity, no_unit, no_adj = True, True, True"
   ]
  },
  {
   "cell_type": "code",
   "execution_count": 10,
   "metadata": {},
   "outputs": [
    {
     "output_type": "execute_result",
     "data": {
      "text/plain": [
       "(['перец', 'масло', 'петрушка', 'картошка', 'сок'],\n",
       " ['1', '2', '3', 1, 1],\n",
       " ['пачка', 'бутылка', 'пакетик', 'килограмм', 'литр'])"
      ]
     },
     "metadata": {},
     "execution_count": 10
    }
   ],
   "source": [
    "products, quantities, units"
   ]
  }
 ]
}