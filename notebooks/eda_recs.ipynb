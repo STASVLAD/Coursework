{
 "metadata": {
  "language_info": {
   "codemirror_mode": {
    "name": "ipython",
    "version": 3
   },
   "file_extension": ".py",
   "mimetype": "text/x-python",
   "name": "python",
   "nbconvert_exporter": "python",
   "pygments_lexer": "ipython3",
   "version": "3.8.5"
  },
  "orig_nbformat": 4,
  "kernelspec": {
   "name": "python3",
   "display_name": "Python 3.8.5 64-bit"
  },
  "interpreter": {
   "hash": "31f2aee4e71d21fbe5cf8b01ff0e069b9275f58929596ceb00d14d90e3e16cd6"
  }
 },
 "nbformat": 4,
 "nbformat_minor": 2,
 "cells": [
  {
   "cell_type": "code",
   "execution_count": 1,
   "metadata": {},
   "outputs": [],
   "source": [
    "import pandas as pd\n",
    "import numpy as np\n",
    "from math import isclose\n",
    "import re"
   ]
  },
  {
   "cell_type": "code",
   "execution_count": 2,
   "metadata": {},
   "outputs": [
    {
     "output_type": "execute_result",
     "data": {
      "text/plain": [
       "                                                                             title  \\\n",
       "/recepty/zakuski/ogurci-v-ostrom-marinade-16230           огурцы в остром маринаде   \n",
       "/recepty/zakuski/solenie-limoni-29601                               соленые лимоны   \n",
       "/recepty/sousy-marinady/marinovannyy-chesnok-so...  маринованный чеснок со свеклой   \n",
       "/recepty/zagotovki/marinovannye-opyata-94048                    маринованные опята   \n",
       "/recepty/zakuski/marinovannyy-arbuz-38167                       маринованный арбуз   \n",
       "...                                                                            ...   \n",
       "/recepty/sousy-marinady/tkemali-iz-krasnoy-smor...    ткемали из красной смородины   \n",
       "/recepty/sousy-marinady/sous-tkemali-17107                            соус ткемали   \n",
       "/recepty/sousy-marinady/sous-tkemali--14845                        соус «ткемали».   \n",
       "/recepty/sousy-marinady/tkemali-iz-vengerki-45772              ткемали из венгерки   \n",
       "/recepty/sousy-marinady/tkemali-zelenij-28613                      ткемали зеленый   \n",
       "\n",
       "                                                                                          ingredients  \\\n",
       "/recepty/zakuski/ogurci-v-ostrom-marinade-16230     [рисовый уксус, огурцы, кунжутное масло, соевы...   \n",
       "/recepty/zakuski/solenie-limoni-29601               [лимон, черный перец горошком, лавровый лист, ...   \n",
       "/recepty/sousy-marinady/marinovannyy-chesnok-so...  [чеснок, вода, уксус 9%-ный, соль, черный пере...   \n",
       "/recepty/zagotovki/marinovannye-opyata-94048        [опята, уксус, соль, лавровый лист, сахар, чер...   \n",
       "/recepty/zakuski/marinovannyy-arbuz-38167           [соль, арбуз, стебель сельдерея, чеснок, укроп...   \n",
       "...                                                                                               ...   \n",
       "/recepty/sousy-marinady/tkemali-iz-krasnoy-smor...  [красная смородина, кинза, семена кориандра, т...   \n",
       "/recepty/sousy-marinady/sous-tkemali-17107          [чеснок, сливы ткемали, кинза, укроп, красный ...   \n",
       "/recepty/sousy-marinady/sous-tkemali--14845         [сливы, чеснок, соль, молотый черный перец, ки...   \n",
       "/recepty/sousy-marinady/tkemali-iz-vengerki-45772   [сливы, хмели-сунели, уцхо-сунели, чеснок, сем...   \n",
       "/recepty/sousy-marinady/tkemali-zelenij-28613       [кинза, зеленая алыча, укроп, мята, зеленый ст...   \n",
       "\n",
       "                                                                 category  \n",
       "/recepty/zakuski/ogurci-v-ostrom-marinade-16230     соленья и консервация  \n",
       "/recepty/zakuski/solenie-limoni-29601               соленья и консервация  \n",
       "/recepty/sousy-marinady/marinovannyy-chesnok-so...  соленья и консервация  \n",
       "/recepty/zagotovki/marinovannye-opyata-94048        соленья и консервация  \n",
       "/recepty/zakuski/marinovannyy-arbuz-38167           соленья и консервация  \n",
       "...                                                                   ...  \n",
       "/recepty/sousy-marinady/tkemali-iz-krasnoy-smor...                ткемали  \n",
       "/recepty/sousy-marinady/sous-tkemali-17107                        ткемали  \n",
       "/recepty/sousy-marinady/sous-tkemali--14845                       ткемали  \n",
       "/recepty/sousy-marinady/tkemali-iz-vengerki-45772                 ткемали  \n",
       "/recepty/sousy-marinady/tkemali-zelenij-28613                     ткемали  \n",
       "\n",
       "[30771 rows x 3 columns]"
      ],
      "text/html": "<div>\n<style scoped>\n    .dataframe tbody tr th:only-of-type {\n        vertical-align: middle;\n    }\n\n    .dataframe tbody tr th {\n        vertical-align: top;\n    }\n\n    .dataframe thead th {\n        text-align: right;\n    }\n</style>\n<table border=\"1\" class=\"dataframe\">\n  <thead>\n    <tr style=\"text-align: right;\">\n      <th></th>\n      <th>title</th>\n      <th>ingredients</th>\n      <th>category</th>\n    </tr>\n  </thead>\n  <tbody>\n    <tr>\n      <th>/recepty/zakuski/ogurci-v-ostrom-marinade-16230</th>\n      <td>огурцы в остром маринаде</td>\n      <td>[рисовый уксус, огурцы, кунжутное масло, соевы...</td>\n      <td>соленья и консервация</td>\n    </tr>\n    <tr>\n      <th>/recepty/zakuski/solenie-limoni-29601</th>\n      <td>соленые лимоны</td>\n      <td>[лимон, черный перец горошком, лавровый лист, ...</td>\n      <td>соленья и консервация</td>\n    </tr>\n    <tr>\n      <th>/recepty/sousy-marinady/marinovannyy-chesnok-so-svekloy-137101</th>\n      <td>маринованный чеснок со свеклой</td>\n      <td>[чеснок, вода, уксус 9%-ный, соль, черный пере...</td>\n      <td>соленья и консервация</td>\n    </tr>\n    <tr>\n      <th>/recepty/zagotovki/marinovannye-opyata-94048</th>\n      <td>маринованные опята</td>\n      <td>[опята, уксус, соль, лавровый лист, сахар, чер...</td>\n      <td>соленья и консервация</td>\n    </tr>\n    <tr>\n      <th>/recepty/zakuski/marinovannyy-arbuz-38167</th>\n      <td>маринованный арбуз</td>\n      <td>[соль, арбуз, стебель сельдерея, чеснок, укроп...</td>\n      <td>соленья и консервация</td>\n    </tr>\n    <tr>\n      <th>...</th>\n      <td>...</td>\n      <td>...</td>\n      <td>...</td>\n    </tr>\n    <tr>\n      <th>/recepty/sousy-marinady/tkemali-iz-krasnoy-smorodiny-80062</th>\n      <td>ткемали из красной смородины</td>\n      <td>[красная смородина, кинза, семена кориандра, т...</td>\n      <td>ткемали</td>\n    </tr>\n    <tr>\n      <th>/recepty/sousy-marinady/sous-tkemali-17107</th>\n      <td>соус ткемали</td>\n      <td>[чеснок, сливы ткемали, кинза, укроп, красный ...</td>\n      <td>ткемали</td>\n    </tr>\n    <tr>\n      <th>/recepty/sousy-marinady/sous-tkemali--14845</th>\n      <td>соус «ткемали».</td>\n      <td>[сливы, чеснок, соль, молотый черный перец, ки...</td>\n      <td>ткемали</td>\n    </tr>\n    <tr>\n      <th>/recepty/sousy-marinady/tkemali-iz-vengerki-45772</th>\n      <td>ткемали из венгерки</td>\n      <td>[сливы, хмели-сунели, уцхо-сунели, чеснок, сем...</td>\n      <td>ткемали</td>\n    </tr>\n    <tr>\n      <th>/recepty/sousy-marinady/tkemali-zelenij-28613</th>\n      <td>ткемали зеленый</td>\n      <td>[кинза, зеленая алыча, укроп, мята, зеленый ст...</td>\n      <td>ткемали</td>\n    </tr>\n  </tbody>\n</table>\n<p>30771 rows × 3 columns</p>\n</div>"
     },
     "metadata": {},
     "execution_count": 2
    }
   ],
   "source": [
    "df = pd.read_json('../data/recipes.json')\n",
    "df"
   ]
  },
  {
   "cell_type": "code",
   "execution_count": 3,
   "metadata": {},
   "outputs": [],
   "source": [
    "def custom_intersection(basket, ingredients):\n",
    "    intersec = []\n",
    "    for item in basket:\n",
    "        for ingredient in ingredients:\n",
    "            if item in ingredient.split():\n",
    "                intersec.append(item)\n",
    "                break\n",
    "    return intersec"
   ]
  },
  {
   "cell_type": "code",
   "execution_count": 4,
   "metadata": {},
   "outputs": [],
   "source": [
    "def eval_score(x, basket):\n",
    "    ingredients = set(x)\n",
    "    intersection = custom_intersection(basket, ingredients)\n",
    "    score =  len(intersection) / len(ingredients)\n",
    "    if isclose(score, 1, rel_tol=1e-5):\n",
    "        score = -1\n",
    "    return (score, set(intersection))"
   ]
  },
  {
   "cell_type": "code",
   "execution_count": 5,
   "metadata": {},
   "outputs": [],
   "source": [
    "test_basket = ['куриная грудка', 'помидоры', 'сухарики', 'салат', 'яблоко', 'мука', 'яйцо']\n",
    "test_basket = set(test_basket)"
   ]
  },
  {
   "cell_type": "code",
   "execution_count": 6,
   "metadata": {},
   "outputs": [
    {
     "output_type": "execute_result",
     "data": {
      "text/plain": [
       "/recepty/vypechka-deserty/prostoj-pirog-s-jablokami-16098               (0.75, {яйцо, яблоко, мука})\n",
       "/recepty/vypechka-deserty/bistraja-jablochnaja-sharlotka-30197          (0.75, {яйцо, яблоко, мука})\n",
       "/recepty/vypechka-deserty/pirog-jablochnij-24913                        (0.75, {яйцо, яблоко, мука})\n",
       "/recepty/vypechka-deserty/prostaja-jablochnaja-sharlotka-33102          (0.75, {яйцо, яблоко, мука})\n",
       "/recepty/vypechka-deserty/bistrij-rulet-26786                     (0.6666666666666666, {яйцо, мука})\n",
       "Name: ingredients, dtype: object"
      ]
     },
     "metadata": {},
     "execution_count": 6
    }
   ],
   "source": [
    "df_scores = df['ingredients'].apply(eval_score, args=(test_basket,)).sort_values(ascending=False)\n",
    "df_scores.head()"
   ]
  },
  {
   "cell_type": "code",
   "execution_count": 7,
   "metadata": {},
   "outputs": [
    {
     "output_type": "execute_result",
     "data": {
      "text/plain": [
       "title                               простой пирог с яблоками\n",
       "ingredients    [пшеничная мука, яблоко, сахар, куриное яйцо]\n",
       "category                                              пироги\n",
       "Name: /recepty/vypechka-deserty/prostoj-pirog-s-jablokami-16098, dtype: object"
      ]
     },
     "metadata": {},
     "execution_count": 7
    }
   ],
   "source": [
    "df.loc['/recepty/vypechka-deserty/prostoj-pirog-s-jablokami-16098']"
   ]
  },
  {
   "cell_type": "code",
   "execution_count": 8,
   "metadata": {},
   "outputs": [],
   "source": [
    "test_basket = ['куриная грудка', 'помидоры', 'сухарики', 'салат']"
   ]
  },
  {
   "cell_type": "code",
   "execution_count": 9,
   "metadata": {},
   "outputs": [
    {
     "output_type": "execute_result",
     "data": {
      "text/plain": [
       "/recepty/salaty/salat-cezar-s-chesnochnymi-suharikami-i-mayonezom-20540    (0.6, {салат, помидоры, сухарики})\n",
       "/recepty/salaty/salat-cezar-s-semgoj-43433                                 (0.5, {салат, помидоры, сухарики})\n",
       "/recepty/salaty/salat-iz-morkovi-po-korejski-jablok-pomidorov-26841        (0.5, {салат, помидоры, сухарики})\n",
       "/recepty/salaty/salat-cezar-s-kopchenoy-kuricey-136715                     (0.5, {салат, помидоры, сухарики})\n",
       "/recepty/salaty/salat-cezar-s-chesnokom-51435                              (0.5, {салат, помидоры, сухарики})\n",
       "Name: ingredients, dtype: object"
      ]
     },
     "metadata": {},
     "execution_count": 9
    }
   ],
   "source": [
    "df_scores = df['ingredients'].apply(eval_score, args=(test_basket,)).sort_values(ascending=False)\n",
    "df_scores.head()"
   ]
  },
  {
   "cell_type": "code",
   "execution_count": 10,
   "metadata": {},
   "outputs": [
    {
     "output_type": "execute_result",
     "data": {
      "text/plain": [
       "['помидоры черри',\n",
       " 'куриная грудка',\n",
       " 'зеленый салат',\n",
       " 'сухарики',\n",
       " 'оливковое масло',\n",
       " 'куриное яйцо',\n",
       " 'сыр пармезан']"
      ]
     },
     "metadata": {},
     "execution_count": 10
    }
   ],
   "source": [
    "df.loc['/recepty/salaty/salat-cezar-s-olivkovim-maslom-21287'].ingredients"
   ]
  },
  {
   "cell_type": "code",
   "execution_count": 11,
   "metadata": {},
   "outputs": [],
   "source": [
    "test_basket = ['помидоры', 'сухарики', 'соль']"
   ]
  },
  {
   "cell_type": "code",
   "execution_count": 12,
   "metadata": {},
   "outputs": [],
   "source": [
    "test_basket = {'куриная грудка', 'помидоры', 'сухарики', 'салат', 'яблоко', 'мука', 'яйцо'}"
   ]
  },
  {
   "cell_type": "code",
   "execution_count": 13,
   "metadata": {},
   "outputs": [
    {
     "output_type": "execute_result",
     "data": {
      "text/plain": [
       "/recepty/vypechka-deserty/prostoj-pirog-s-jablokami-16098               (0.75, {яйцо, яблоко, мука})\n",
       "/recepty/vypechka-deserty/bistraja-jablochnaja-sharlotka-30197          (0.75, {яйцо, яблоко, мука})\n",
       "/recepty/vypechka-deserty/pirog-jablochnij-24913                        (0.75, {яйцо, яблоко, мука})\n",
       "/recepty/vypechka-deserty/prostaja-jablochnaja-sharlotka-33102          (0.75, {яйцо, яблоко, мука})\n",
       "/recepty/vypechka-deserty/bistrij-rulet-26786                     (0.6666666666666666, {яйцо, мука})\n",
       "                                                                                 ...                \n",
       "/recepty/sousy-marinady/zamorozhennoe-tomatnoe-pjure-40454                          (-1, {помидоры})\n",
       "/recepty/pasta-picca/originalnoe-testo-dlja-pasti-48333                           (-1, {яйцо, мука})\n",
       "/recepty/zavtraki/jajca-vsmjatku-bez-kipjachenija-15176                                 (-1, {яйцо})\n",
       "/recepty/zakuski/boltunja-v-skorlupe-49931                                              (-1, {яйцо})\n",
       "/recepty/zavtraki/jajca-vsmjatku-30908                                                  (-1, {яйцо})\n",
       "Name: ingredients, Length: 30771, dtype: object"
      ]
     },
     "metadata": {},
     "execution_count": 13
    }
   ],
   "source": [
    "scores = df['ingredients'].apply(eval_score, args=(test_basket,)).sort_values(ascending=False)\n",
    "scores"
   ]
  },
  {
   "cell_type": "code",
   "execution_count": 14,
   "metadata": {},
   "outputs": [],
   "source": [
    "def suggest_items_recipes(df, basket):\n",
    "    scores = df['ingredients'].apply(eval_score, args=(basket,)).sort_values(ascending=False)\n",
    "    best_recipes = []\n",
    "    for best_idx in scores.index:\n",
    "        best_ingredients = scores[best_idx][1]\n",
    "        if (best_ingredients & basket):\n",
    "            best_recipes.append(best_idx)\n",
    "        basket = basket - best_ingredients\n",
    "        if (len(basket) <= 1) or (len(best_recipes) == 10):\n",
    "            break\n",
    "    return best_recipes"
   ]
  },
  {
   "cell_type": "code",
   "execution_count": 20,
   "metadata": {},
   "outputs": [
    {
     "output_type": "stream",
     "name": "stdout",
     "text": [
      "CPU times: user 538 ms, sys: 0 ns, total: 538 ms\nWall time: 537 ms\n"
     ]
    },
    {
     "output_type": "execute_result",
     "data": {
      "text/plain": [
       "['/recepty/vypechka-deserty/prostoj-pirog-s-jablokami-16098',\n",
       " '/recepty/zavtraki/yaichnica-s-pomidorami-28067',\n",
       " '/recepty/salaty/salat-cezar-s-chesnochnymi-suharikami-i-mayonezom-20540']"
      ]
     },
     "metadata": {},
     "execution_count": 20
    }
   ],
   "source": [
    "%%time\n",
    "suggest_items_recipes(df, test_basket)"
   ]
  },
  {
   "cell_type": "code",
   "execution_count": null,
   "metadata": {},
   "outputs": [],
   "source": [
    "test_basket = {'куриная грудка', 'помидоры', 'сухарики', 'салат', 'яблоко', 'мука', 'яйцо'}"
   ]
  }
 ]
}