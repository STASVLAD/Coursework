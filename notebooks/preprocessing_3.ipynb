{
 "metadata": {
  "language_info": {
   "codemirror_mode": {
    "name": "ipython",
    "version": 3
   },
   "file_extension": ".py",
   "mimetype": "text/x-python",
   "name": "python",
   "nbconvert_exporter": "python",
   "pygments_lexer": "ipython3",
   "version": "3.8.5"
  },
  "orig_nbformat": 2,
  "kernelspec": {
   "name": "python385jvsc74a57bd0767d51c1340bd893661ea55ea3124f6de3c7a262a8b4abca0554b478b1e2ff90",
   "display_name": "Python 3.8.5 64-bit ('usr')"
  },
  "metadata": {
   "interpreter": {
    "hash": "767d51c1340bd893661ea55ea3124f6de3c7a262a8b4abca0554b478b1e2ff90"
   }
  }
 },
 "nbformat": 4,
 "nbformat_minor": 2,
 "cells": [
  {
   "cell_type": "code",
   "execution_count": 45,
   "metadata": {},
   "outputs": [],
   "source": [
    "import collections\n",
    "import numpy as np\n",
    "import pandas as pd"
   ]
  },
  {
   "cell_type": "code",
   "execution_count": 12,
   "metadata": {},
   "outputs": [],
   "source": [
    "def binary_encode(shop_list):\n",
    "    binary_recipe = np.zeros(3500, dtype=int)\n",
    "    binary_recipe[shop_list] = 1\n",
    "    binary_recipe = binary_recipe.tolist()\n",
    "    return ''.join(str(b) for b in binary_recipe)"
   ]
  },
  {
   "cell_type": "code",
   "execution_count": 2,
   "metadata": {},
   "outputs": [],
   "source": [
    "with np.load('data/simplified-recipes-1M.npz', allow_pickle=True) as data:\n",
    "    ingredients = data['ingredients']"
   ]
  },
  {
   "cell_type": "code",
   "execution_count": 3,
   "metadata": {},
   "outputs": [],
   "source": [
    "FILENAME = '/media/stasvlad/storage/data/recipes.txt'"
   ]
  },
  {
   "cell_type": "code",
   "execution_count": 4,
   "metadata": {},
   "outputs": [],
   "source": [
    "columns = ['recipe']\n",
    "recipes_df = pd.read_csv(FILENAME, header=None, names=columns, sep=',')"
   ]
  },
  {
   "cell_type": "code",
   "execution_count": 5,
   "metadata": {},
   "outputs": [
    {
     "output_type": "execute_result",
     "data": {
      "text/plain": [
       "1067556"
      ]
     },
     "metadata": {},
     "execution_count": 5
    }
   ],
   "source": [
    "len(recipes_df)"
   ]
  },
  {
   "cell_type": "code",
   "execution_count": 6,
   "metadata": {},
   "outputs": [],
   "source": [
    "ingredients_list = ingredients.tolist()\n",
    "ingredients_map = {ingredient:ingredients_list.index(ingredient) for ingredient in ingredients_list}"
   ]
  },
  {
   "cell_type": "code",
   "execution_count": 8,
   "metadata": {},
   "outputs": [
    {
     "output_type": "execute_result",
     "data": {
      "text/plain": [
       "[15, 69, 13, 980, 54, 178, 8, 495]"
      ]
     },
     "metadata": {},
     "execution_count": 8
    }
   ],
   "source": [
    "shopping_list = ['milk', 'bread', 'eggs', 'pancake', 'sour cream', 'noodles', 'water', 'cucumbers']\n",
    "shopping_list_ids = [ingredients_map[product] for product in shopping_list]\n",
    "shopping_list_ids"
   ]
  },
  {
   "cell_type": "code",
   "execution_count": 31,
   "metadata": {},
   "outputs": [],
   "source": [
    "def metric(shop_list, recipe):\n",
    "    recipe_arr = np.array([*recipe])\n",
    "    intersection_size = collections.Counter(recipe_arr[shop_list])['1']\n",
    "    recipe_size = collections.Counter(recipe_arr)['1']\n",
    "    return intersection_size / recipe_size"
   ]
  },
  {
   "cell_type": "code",
   "execution_count": 59,
   "metadata": {},
   "outputs": [
    {
     "output_type": "execute_result",
     "data": {
      "text/plain": [
       "0.038461538461538464"
      ]
     },
     "metadata": {},
     "execution_count": 59
    }
   ],
   "source": [
    "recipe = recipes_df.loc[2].values[0]\n",
    "shop_list = shopping_list_ids\n",
    "recipe_arr = np.array([*recipe])\n",
    "intersection_size = collections.Counter(recipe_arr[shop_list])['1']\n",
    "recipe_size = collections.Counter(recipe_arr)['1']\n",
    "intersection_size / recipe_size "
   ]
  }
 ]
}