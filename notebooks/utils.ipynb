{
 "metadata": {
  "language_info": {
   "codemirror_mode": {
    "name": "ipython",
    "version": 3
   },
   "file_extension": ".py",
   "mimetype": "text/x-python",
   "name": "python",
   "nbconvert_exporter": "python",
   "pygments_lexer": "ipython3",
   "version": "3.8.5"
  },
  "orig_nbformat": 2,
  "kernelspec": {
   "name": "python38564bit3e67a6be29be4446a12920a532c94f8c",
   "display_name": "Python 3.8.5 64-bit"
  },
  "metadata": {
   "interpreter": {
    "hash": "916dbcbb3f70747c44a77c7bcd40155683ae19c65e1c03b4aa3499c5328201f1"
   }
  }
 },
 "nbformat": 4,
 "nbformat_minor": 2,
 "cells": [
  {
   "cell_type": "code",
   "execution_count": 1,
   "metadata": {},
   "outputs": [],
   "source": [
    "import psycopg2\n",
    "from psycopg2.extras import DictCursor"
   ]
  },
  {
   "cell_type": "code",
   "execution_count": 2,
   "metadata": {},
   "outputs": [],
   "source": [
    "def connect():\n",
    "    return psycopg2.connect(dbname='postgres', user='postgres', password='coursework')"
   ]
  },
  {
   "cell_type": "code",
   "execution_count": 3,
   "metadata": {},
   "outputs": [],
   "source": [
    "def get_items(conn, user_id):\n",
    "    with conn.cursor(cursor_factory=DictCursor) as cursor:\n",
    "        select = f\"SELECT product, quantity FROM shopping_list WHERE user_id = '{user_id}';\"\n",
    "        cursor.execute(select)\n",
    "        records = cursor.fetchall()\n",
    "    return records"
   ]
  },
  {
   "cell_type": "code",
   "execution_count": 4,
   "metadata": {},
   "outputs": [],
   "source": [
    "conn = connect()"
   ]
  },
  {
   "cell_type": "code",
   "execution_count": 5,
   "metadata": {},
   "outputs": [
    {
     "output_type": "execute_result",
     "data": {
      "text/plain": [
       "(['bread', 'milk', 'eggs', 'tea'], [1, 1, 1, 1])"
      ]
     },
     "metadata": {},
     "execution_count": 5
    }
   ],
   "source": [
    "records = list(zip(*get_items(conn, 1)))\n",
    "try:\n",
    "    shopping_list = list(records[0])\n",
    "    quantity_list = list(records[1])\n",
    "except:\n",
    "    shopping_list = []\n",
    "    quantity_list = []\n",
    "shopping_list, quantity_list"
   ]
  },
  {
   "cell_type": "code",
   "execution_count": 6,
   "metadata": {},
   "outputs": [],
   "source": [
    "def add_items(conn, user_id, products, quantity):\n",
    "    with conn.cursor(cursor_factory=DictCursor) as cursor:\n",
    "        rows = list(zip(*(products, quantity)))\n",
    "        VALUES = ', '.join(f\"('{user_id}', '{row[0]}', {row[1]}, current_timestamp(0))\" for row in rows)\n",
    "        insert = f\"\"\"INSERT INTO \n",
    "                        shopping_list (user_id, product, quantity, created_on)\n",
    "                     VALUES \n",
    "                        {VALUES}\n",
    "                     ON CONFLICT ON CONSTRAINT shopping_list_user_id_product_key DO UPDATE\n",
    "                        SET quantity = shopping_list.quantity + excluded.quantity,\n",
    "                            created_on = current_timestamp(0);\"\"\"\n",
    "        cursor.execute(insert)\n",
    "        conn.commit()\n",
    "    return"
   ]
  },
  {
   "cell_type": "code",
   "execution_count": 7,
   "metadata": {},
   "outputs": [],
   "source": [
    "add_items(conn, 1, ['milk', 'bread', 'eggs', 'tea', 'noodles'], [2, 1, 3, 4, 1])"
   ]
  },
  {
   "cell_type": "code",
   "execution_count": null,
   "metadata": {},
   "outputs": [],
   "source": [
    "def del_items(conn, user_id, products, quantity):\n",
    "    with conn.cursor(cursor_factory=DictCursor) as cursor:\n",
    "        rows = list(zip(*(products, quantity)))\n",
    "        VALUES = ', '.join(f\"('{user_id}', '{row[0]}', {row[1]}, current_timestamp(0))\" for row in rows)\n",
    "        insert = f\"\"\"INSERT INTO \n",
    "                        shopping_list (user_id, product, quantity, created_on)\n",
    "                     VALUES \n",
    "                        {VALUES}\n",
    "                     ON CONFLICT ON CONSTRAINT shopping_list_user_id_product_key DO UPDATE\n",
    "                        SET quantity = shopping_list.quantity + excluded.quantity,\n",
    "                            created_on = current_timestamp(0);\"\"\"\n",
    "        cursor.execute(insert)\n",
    "        conn.commit()\n",
    "    return"
   ]
  }
 ]
}