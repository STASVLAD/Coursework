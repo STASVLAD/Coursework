{
 "metadata": {
  "language_info": {
   "codemirror_mode": {
    "name": "ipython",
    "version": 3
   },
   "file_extension": ".py",
   "mimetype": "text/x-python",
   "name": "python",
   "nbconvert_exporter": "python",
   "pygments_lexer": "ipython3",
   "version": "3.8.5"
  },
  "orig_nbformat": 2,
  "kernelspec": {
   "name": "python385jvsc74a57bd0e7370f93d1d0cde622a1f8e1c04877d8463912d04d973331ad4851f04de6915a",
   "display_name": "Python 3.8.5 64-bit"
  },
  "metadata": {
   "interpreter": {
    "hash": "e7370f93d1d0cde622a1f8e1c04877d8463912d04d973331ad4851f04de6915a"
   }
  }
 },
 "nbformat": 4,
 "nbformat_minor": 2,
 "cells": [
  {
   "cell_type": "code",
   "execution_count": 1,
   "metadata": {},
   "outputs": [],
   "source": [
    "import psycopg2\n",
    "from psycopg2.extras import DictCursor"
   ]
  },
  {
   "cell_type": "code",
   "execution_count": 2,
   "metadata": {},
   "outputs": [],
   "source": [
    "def connect():\n",
    "    return psycopg2.connect(dbname='postgres', user='postgres', password='coursework')"
   ]
  },
  {
   "cell_type": "code",
   "execution_count": 3,
   "metadata": {},
   "outputs": [],
   "source": [
    "conn = connect()"
   ]
  },
  {
   "cell_type": "code",
   "execution_count": 4,
   "metadata": {},
   "outputs": [],
   "source": [
    "def purge_items(conn):\n",
    "    with conn.cursor(cursor_factory=DictCursor) as cursor:\n",
    "        truncate = \"TRUNCATE shopping_list\"\n",
    "        cursor.execute(truncate)\n",
    "        conn.commit()\n",
    "    return"
   ]
  },
  {
   "cell_type": "code",
   "execution_count": 5,
   "metadata": {},
   "outputs": [],
   "source": [
    "purge_items(conn)"
   ]
  },
  {
   "cell_type": "code",
   "execution_count": 6,
   "metadata": {},
   "outputs": [],
   "source": [
    "def get_items(conn, user_id):\n",
    "    with conn.cursor(cursor_factory=DictCursor) as cursor:\n",
    "        select = f\"SELECT product, quantity FROM shopping_list WHERE user_id = '{user_id}'\" + \\\n",
    "                 f\"AND quantity <> 0;\"\n",
    "        cursor.execute(select)\n",
    "        records = cursor.fetchall()\n",
    "    return records"
   ]
  },
  {
   "cell_type": "code",
   "execution_count": 7,
   "metadata": {},
   "outputs": [
    {
     "output_type": "stream",
     "name": "stdout",
     "text": [
      "[]\n"
     ]
    },
    {
     "output_type": "execute_result",
     "data": {
      "text/plain": [
       "([], [])"
      ]
     },
     "metadata": {},
     "execution_count": 7
    }
   ],
   "source": [
    "print(get_items(conn, 1))\n",
    "records = list(zip(*get_items(conn, 1)))\n",
    "try:\n",
    "    shopping_list = list(records[0])\n",
    "    quantity_list = list(records[1])\n",
    "except:\n",
    "    shopping_list = []\n",
    "    quantity_list = []\n",
    "shopping_list, quantity_list"
   ]
  },
  {
   "cell_type": "code",
   "execution_count": 8,
   "metadata": {},
   "outputs": [],
   "source": [
    "def add_items(conn, user_id, products, quantity):\n",
    "    with conn.cursor(cursor_factory=DictCursor) as cursor:\n",
    "        rows = list(zip(*(products, quantity)))\n",
    "        VALUES = ', '.join(f\"('{user_id}', '{row[0]}', {row[1]}, current_timestamp(0))\" for row in rows)\n",
    "        insert = f\"\"\"INSERT INTO \n",
    "                        shopping_list (user_id, product, quantity, created_on)\n",
    "                     VALUES \n",
    "                        {VALUES}\n",
    "                     ON CONFLICT ON CONSTRAINT shopping_list_user_id_product_key DO UPDATE\n",
    "                        SET quantity = shopping_list.quantity + excluded.quantity,\n",
    "                            created_on = current_timestamp(0);\"\"\"\n",
    "        cursor.execute(insert)\n",
    "        conn.commit()\n",
    "    return"
   ]
  },
  {
   "cell_type": "code",
   "execution_count": 9,
   "metadata": {},
   "outputs": [],
   "source": [
    "add_items(conn, 1, ['milk', 'bread', 'eggs', 'tea', 'noodles'], [2, 1, 3, 4, 1])"
   ]
  },
  {
   "cell_type": "code",
   "execution_count": 10,
   "metadata": {},
   "outputs": [],
   "source": [
    "def del_items(conn, user_id, products, quantity):\n",
    "    with conn.cursor(cursor_factory=DictCursor) as cursor:\n",
    "        rows = list(zip(*(products, quantity)))\n",
    "        CONDITIONS = '\\n'.join(f\"WHEN product = '{row[0]}'\" +\n",
    "                               f\"THEN GREATEST(quantity - {row[1]}, 0)\" for row in rows)\n",
    "        update = f\"\"\"UPDATE shopping_list\n",
    "                     SET quantity = CASE\n",
    "                        {CONDITIONS}\n",
    "                        ELSE quantity\n",
    "                     END\n",
    "                     WHERE user_id = '{user_id}';\"\"\"\n",
    "        cursor.execute(update)\n",
    "        conn.commit()\n",
    "    return"
   ]
  },
  {
   "cell_type": "code",
   "execution_count": 11,
   "metadata": {},
   "outputs": [],
   "source": [
    "del_items(conn, 1, ['milk', 'eggs', 'tea'], [2, 2, 3])"
   ]
  },
  {
   "cell_type": "code",
   "execution_count": 12,
   "metadata": {},
   "outputs": [
    {
     "output_type": "execute_result",
     "data": {
      "text/plain": [
       "[['bread', 1], ['eggs', 1], ['tea', 1], ['noodles', 1]]"
      ]
     },
     "metadata": {},
     "execution_count": 12
    }
   ],
   "source": [
    "get_items(conn, 1)"
   ]
  }
 ]
}