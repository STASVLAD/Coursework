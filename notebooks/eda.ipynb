{
 "metadata": {
  "language_info": {
   "codemirror_mode": {
    "name": "ipython",
    "version": 3
   },
   "file_extension": ".py",
   "mimetype": "text/x-python",
   "name": "python",
   "nbconvert_exporter": "python",
   "pygments_lexer": "ipython3",
   "version": "3.8.5"
  },
  "orig_nbformat": 2,
  "kernelspec": {
   "name": "python3",
   "display_name": "Python 3.8.5 64-bit"
  },
  "metadata": {
   "interpreter": {
    "hash": "916dbcbb3f70747c44a77c7bcd40155683ae19c65e1c03b4aa3499c5328201f1"
   }
  },
  "interpreter": {
   "hash": "916dbcbb3f70747c44a77c7bcd40155683ae19c65e1c03b4aa3499c5328201f1"
  }
 },
 "nbformat": 4,
 "nbformat_minor": 2,
 "cells": [
  {
   "cell_type": "code",
   "execution_count": 1,
   "metadata": {},
   "outputs": [],
   "source": [
    "import pandas as pd\n",
    "import numpy as np"
   ]
  },
  {
   "cell_type": "code",
   "execution_count": 2,
   "metadata": {},
   "outputs": [],
   "source": [
    "df_orig = pd.read_csv('/media/stasvlad/storage/data/recipes/ingredients_from_eda.ru.csv', delimiter=',')"
   ]
  },
  {
   "cell_type": "code",
   "execution_count": 3,
   "metadata": {},
   "outputs": [
    {
     "output_type": "execute_result",
     "data": {
      "text/plain": [
       "            id            ingredient            amount  \\\n",
       "0        13411                  Вода               1 л   \n",
       "1        13410                 Сахар              90 г   \n",
       "2        13421                  Соль              12 г   \n",
       "3        14585          Уксус 9%-ный            250 мл   \n",
       "4        13436  Белокочанная капуста           1 штука   \n",
       "...        ...                   ...               ...   \n",
       "1159670  13458        Пшеничная мука          1 стакан   \n",
       "1159671  13546                 Какао  2 столовые ложки   \n",
       "1159672  14232                 Ликер  1 столовая ложка   \n",
       "1159673  13412       Сливочное масло             200 г   \n",
       "1159674  13561       Горький шоколад             200 г   \n",
       "\n",
       "                                               name              type  page  \n",
       "0                       kapusta-po-gruzinski-137009         zagotovki     1  \n",
       "1                       kapusta-po-gruzinski-137009         zagotovki     1  \n",
       "2                       kapusta-po-gruzinski-137009         zagotovki     1  \n",
       "3                       kapusta-po-gruzinski-137009         zagotovki     1  \n",
       "4                       kapusta-po-gruzinski-137009         zagotovki     1  \n",
       "...                                             ...               ...   ...  \n",
       "1159670  shokoladno-tvorozhnij-tort-chokochiz-49974  vypechka-deserty  1719  \n",
       "1159671  shokoladno-tvorozhnij-tort-chokochiz-49974  vypechka-deserty  1719  \n",
       "1159672  shokoladno-tvorozhnij-tort-chokochiz-49974  vypechka-deserty  1719  \n",
       "1159673  shokoladno-tvorozhnij-tort-chokochiz-49974  vypechka-deserty  1719  \n",
       "1159674  shokoladno-tvorozhnij-tort-chokochiz-49974  vypechka-deserty  1719  \n",
       "\n",
       "[1159675 rows x 6 columns]"
      ],
      "text/html": "<div>\n<style scoped>\n    .dataframe tbody tr th:only-of-type {\n        vertical-align: middle;\n    }\n\n    .dataframe tbody tr th {\n        vertical-align: top;\n    }\n\n    .dataframe thead th {\n        text-align: right;\n    }\n</style>\n<table border=\"1\" class=\"dataframe\">\n  <thead>\n    <tr style=\"text-align: right;\">\n      <th></th>\n      <th>id</th>\n      <th>ingredient</th>\n      <th>amount</th>\n      <th>name</th>\n      <th>type</th>\n      <th>page</th>\n    </tr>\n  </thead>\n  <tbody>\n    <tr>\n      <th>0</th>\n      <td>13411</td>\n      <td>Вода</td>\n      <td>1 л</td>\n      <td>kapusta-po-gruzinski-137009</td>\n      <td>zagotovki</td>\n      <td>1</td>\n    </tr>\n    <tr>\n      <th>1</th>\n      <td>13410</td>\n      <td>Сахар</td>\n      <td>90 г</td>\n      <td>kapusta-po-gruzinski-137009</td>\n      <td>zagotovki</td>\n      <td>1</td>\n    </tr>\n    <tr>\n      <th>2</th>\n      <td>13421</td>\n      <td>Соль</td>\n      <td>12 г</td>\n      <td>kapusta-po-gruzinski-137009</td>\n      <td>zagotovki</td>\n      <td>1</td>\n    </tr>\n    <tr>\n      <th>3</th>\n      <td>14585</td>\n      <td>Уксус 9%-ный</td>\n      <td>250 мл</td>\n      <td>kapusta-po-gruzinski-137009</td>\n      <td>zagotovki</td>\n      <td>1</td>\n    </tr>\n    <tr>\n      <th>4</th>\n      <td>13436</td>\n      <td>Белокочанная капуста</td>\n      <td>1 штука</td>\n      <td>kapusta-po-gruzinski-137009</td>\n      <td>zagotovki</td>\n      <td>1</td>\n    </tr>\n    <tr>\n      <th>...</th>\n      <td>...</td>\n      <td>...</td>\n      <td>...</td>\n      <td>...</td>\n      <td>...</td>\n      <td>...</td>\n    </tr>\n    <tr>\n      <th>1159670</th>\n      <td>13458</td>\n      <td>Пшеничная мука</td>\n      <td>1 стакан</td>\n      <td>shokoladno-tvorozhnij-tort-chokochiz-49974</td>\n      <td>vypechka-deserty</td>\n      <td>1719</td>\n    </tr>\n    <tr>\n      <th>1159671</th>\n      <td>13546</td>\n      <td>Какао</td>\n      <td>2 столовые ложки</td>\n      <td>shokoladno-tvorozhnij-tort-chokochiz-49974</td>\n      <td>vypechka-deserty</td>\n      <td>1719</td>\n    </tr>\n    <tr>\n      <th>1159672</th>\n      <td>14232</td>\n      <td>Ликер</td>\n      <td>1 столовая ложка</td>\n      <td>shokoladno-tvorozhnij-tort-chokochiz-49974</td>\n      <td>vypechka-deserty</td>\n      <td>1719</td>\n    </tr>\n    <tr>\n      <th>1159673</th>\n      <td>13412</td>\n      <td>Сливочное масло</td>\n      <td>200 г</td>\n      <td>shokoladno-tvorozhnij-tort-chokochiz-49974</td>\n      <td>vypechka-deserty</td>\n      <td>1719</td>\n    </tr>\n    <tr>\n      <th>1159674</th>\n      <td>13561</td>\n      <td>Горький шоколад</td>\n      <td>200 г</td>\n      <td>shokoladno-tvorozhnij-tort-chokochiz-49974</td>\n      <td>vypechka-deserty</td>\n      <td>1719</td>\n    </tr>\n  </tbody>\n</table>\n<p>1159675 rows × 6 columns</p>\n</div>"
     },
     "metadata": {},
     "execution_count": 3
    }
   ],
   "source": [
    "df_orig"
   ]
  },
  {
   "cell_type": "code",
   "execution_count": 4,
   "metadata": {},
   "outputs": [
    {
     "output_type": "execute_result",
     "data": {
      "text/plain": [
       "            id            ingredient            amount  \\\n",
       "0        13411                  вода               1 л   \n",
       "1        13410                 сахар              90 г   \n",
       "2        13421                  соль              12 г   \n",
       "3        14585          уксус 9%-ный            250 мл   \n",
       "4        13436  белокочанная капуста           1 штука   \n",
       "...        ...                   ...               ...   \n",
       "1159670  13458        пшеничная мука          1 стакан   \n",
       "1159671  13546                 какао  2 столовые ложки   \n",
       "1159672  14232                 ликер  1 столовая ложка   \n",
       "1159673  13412       сливочное масло             200 г   \n",
       "1159674  13561       горький шоколад             200 г   \n",
       "\n",
       "                                               name              type  page  \n",
       "0                       kapusta-po-gruzinski-137009         zagotovki     1  \n",
       "1                       kapusta-po-gruzinski-137009         zagotovki     1  \n",
       "2                       kapusta-po-gruzinski-137009         zagotovki     1  \n",
       "3                       kapusta-po-gruzinski-137009         zagotovki     1  \n",
       "4                       kapusta-po-gruzinski-137009         zagotovki     1  \n",
       "...                                             ...               ...   ...  \n",
       "1159670  shokoladno-tvorozhnij-tort-chokochiz-49974  vypechka-deserty  1719  \n",
       "1159671  shokoladno-tvorozhnij-tort-chokochiz-49974  vypechka-deserty  1719  \n",
       "1159672  shokoladno-tvorozhnij-tort-chokochiz-49974  vypechka-deserty  1719  \n",
       "1159673  shokoladno-tvorozhnij-tort-chokochiz-49974  vypechka-deserty  1719  \n",
       "1159674  shokoladno-tvorozhnij-tort-chokochiz-49974  vypechka-deserty  1719  \n",
       "\n",
       "[1159675 rows x 6 columns]"
      ],
      "text/html": "<div>\n<style scoped>\n    .dataframe tbody tr th:only-of-type {\n        vertical-align: middle;\n    }\n\n    .dataframe tbody tr th {\n        vertical-align: top;\n    }\n\n    .dataframe thead th {\n        text-align: right;\n    }\n</style>\n<table border=\"1\" class=\"dataframe\">\n  <thead>\n    <tr style=\"text-align: right;\">\n      <th></th>\n      <th>id</th>\n      <th>ingredient</th>\n      <th>amount</th>\n      <th>name</th>\n      <th>type</th>\n      <th>page</th>\n    </tr>\n  </thead>\n  <tbody>\n    <tr>\n      <th>0</th>\n      <td>13411</td>\n      <td>вода</td>\n      <td>1 л</td>\n      <td>kapusta-po-gruzinski-137009</td>\n      <td>zagotovki</td>\n      <td>1</td>\n    </tr>\n    <tr>\n      <th>1</th>\n      <td>13410</td>\n      <td>сахар</td>\n      <td>90 г</td>\n      <td>kapusta-po-gruzinski-137009</td>\n      <td>zagotovki</td>\n      <td>1</td>\n    </tr>\n    <tr>\n      <th>2</th>\n      <td>13421</td>\n      <td>соль</td>\n      <td>12 г</td>\n      <td>kapusta-po-gruzinski-137009</td>\n      <td>zagotovki</td>\n      <td>1</td>\n    </tr>\n    <tr>\n      <th>3</th>\n      <td>14585</td>\n      <td>уксус 9%-ный</td>\n      <td>250 мл</td>\n      <td>kapusta-po-gruzinski-137009</td>\n      <td>zagotovki</td>\n      <td>1</td>\n    </tr>\n    <tr>\n      <th>4</th>\n      <td>13436</td>\n      <td>белокочанная капуста</td>\n      <td>1 штука</td>\n      <td>kapusta-po-gruzinski-137009</td>\n      <td>zagotovki</td>\n      <td>1</td>\n    </tr>\n    <tr>\n      <th>...</th>\n      <td>...</td>\n      <td>...</td>\n      <td>...</td>\n      <td>...</td>\n      <td>...</td>\n      <td>...</td>\n    </tr>\n    <tr>\n      <th>1159670</th>\n      <td>13458</td>\n      <td>пшеничная мука</td>\n      <td>1 стакан</td>\n      <td>shokoladno-tvorozhnij-tort-chokochiz-49974</td>\n      <td>vypechka-deserty</td>\n      <td>1719</td>\n    </tr>\n    <tr>\n      <th>1159671</th>\n      <td>13546</td>\n      <td>какао</td>\n      <td>2 столовые ложки</td>\n      <td>shokoladno-tvorozhnij-tort-chokochiz-49974</td>\n      <td>vypechka-deserty</td>\n      <td>1719</td>\n    </tr>\n    <tr>\n      <th>1159672</th>\n      <td>14232</td>\n      <td>ликер</td>\n      <td>1 столовая ложка</td>\n      <td>shokoladno-tvorozhnij-tort-chokochiz-49974</td>\n      <td>vypechka-deserty</td>\n      <td>1719</td>\n    </tr>\n    <tr>\n      <th>1159673</th>\n      <td>13412</td>\n      <td>сливочное масло</td>\n      <td>200 г</td>\n      <td>shokoladno-tvorozhnij-tort-chokochiz-49974</td>\n      <td>vypechka-deserty</td>\n      <td>1719</td>\n    </tr>\n    <tr>\n      <th>1159674</th>\n      <td>13561</td>\n      <td>горький шоколад</td>\n      <td>200 г</td>\n      <td>shokoladno-tvorozhnij-tort-chokochiz-49974</td>\n      <td>vypechka-deserty</td>\n      <td>1719</td>\n    </tr>\n  </tbody>\n</table>\n<p>1159675 rows × 6 columns</p>\n</div>"
     },
     "metadata": {},
     "execution_count": 4
    }
   ],
   "source": [
    "ingredients_low = df_orig['ingredient'].apply(lambda x: x.lower()).values\n",
    "df_orig['ingredient'] = ingredients_low\n",
    "df_orig"
   ]
  },
  {
   "cell_type": "code",
   "execution_count": 5,
   "metadata": {},
   "outputs": [],
   "source": [
    "df_orig = df_orig.drop('page', axis='columns').rename(columns={'name': 'recipe'})"
   ]
  },
  {
   "cell_type": "code",
   "execution_count": 6,
   "metadata": {},
   "outputs": [
    {
     "output_type": "execute_result",
     "data": {
      "text/plain": [
       "          id   ingredient   amount  \\\n",
       "8339   15143  черный хлеб  3 куска   \n",
       "13770  15143  черный хлеб    200 г   \n",
       "25178  15143  черный хлеб    200 г   \n",
       "47254  15143  черный хлеб  3 куска   \n",
       "48116  15143  черный хлеб  3 куска   \n",
       "\n",
       "                                              recipe    type  \n",
       "8339    legkij-salat-s-kuricej-fasolju-i-sirom-36579  salaty  \n",
       "13770              salat-171-cezar-187-s-fetoj-26337  salaty  \n",
       "25178  svezhij-salat-s-cherri-apelsinami-fetoj-30589  salaty  \n",
       "47254                salat-s-fasolju-kukuruzoj-30081  salaty  \n",
       "48116                salat-s-fasolju-kukuruzoj-30081  salaty  "
      ],
      "text/html": "<div>\n<style scoped>\n    .dataframe tbody tr th:only-of-type {\n        vertical-align: middle;\n    }\n\n    .dataframe tbody tr th {\n        vertical-align: top;\n    }\n\n    .dataframe thead th {\n        text-align: right;\n    }\n</style>\n<table border=\"1\" class=\"dataframe\">\n  <thead>\n    <tr style=\"text-align: right;\">\n      <th></th>\n      <th>id</th>\n      <th>ingredient</th>\n      <th>amount</th>\n      <th>recipe</th>\n      <th>type</th>\n    </tr>\n  </thead>\n  <tbody>\n    <tr>\n      <th>8339</th>\n      <td>15143</td>\n      <td>черный хлеб</td>\n      <td>3 куска</td>\n      <td>legkij-salat-s-kuricej-fasolju-i-sirom-36579</td>\n      <td>salaty</td>\n    </tr>\n    <tr>\n      <th>13770</th>\n      <td>15143</td>\n      <td>черный хлеб</td>\n      <td>200 г</td>\n      <td>salat-171-cezar-187-s-fetoj-26337</td>\n      <td>salaty</td>\n    </tr>\n    <tr>\n      <th>25178</th>\n      <td>15143</td>\n      <td>черный хлеб</td>\n      <td>200 г</td>\n      <td>svezhij-salat-s-cherri-apelsinami-fetoj-30589</td>\n      <td>salaty</td>\n    </tr>\n    <tr>\n      <th>47254</th>\n      <td>15143</td>\n      <td>черный хлеб</td>\n      <td>3 куска</td>\n      <td>salat-s-fasolju-kukuruzoj-30081</td>\n      <td>salaty</td>\n    </tr>\n    <tr>\n      <th>48116</th>\n      <td>15143</td>\n      <td>черный хлеб</td>\n      <td>3 куска</td>\n      <td>salat-s-fasolju-kukuruzoj-30081</td>\n      <td>salaty</td>\n    </tr>\n  </tbody>\n</table>\n</div>"
     },
     "metadata": {},
     "execution_count": 6
    }
   ],
   "source": [
    "df_orig[df_orig.ingredient.str.lower() == 'черный хлеб'].head()"
   ]
  },
  {
   "cell_type": "code",
   "execution_count": 7,
   "metadata": {},
   "outputs": [],
   "source": [
    "def f(x):\n",
    "    d = {}\n",
    "    d['ingredients'] = list(x['ingredient'])\n",
    "    d['amounts'] = list(x['amount'])\n",
    "    d['type'] = x['type'].unique()[0]\n",
    "    d['ids'] =  list(x['id'])\n",
    "    return pd.Series(d, index=['ingredients', 'amounts', 'type', 'ids'])"
   ]
  },
  {
   "cell_type": "code",
   "execution_count": 8,
   "metadata": {},
   "outputs": [
    {
     "output_type": "execute_result",
     "data": {
      "text/plain": [
       "                                                                                          ingredients  \\\n",
       "recipe                                                                                                  \n",
       "-italyanskiy-rybnyy-sup-kachchukka--138643          [анчоусы, чеснок, фенхель, лук репчатый, сладк...   \n",
       "-ravioli-s-tvorogom-i-grushey-137788                [пшеничная мука, яйцо куриное, творог, сыр пар...   \n",
       "-sup-iz-tykvy-s-sokom-layma-25229                   [сметана, сок лайма, сливочное масло, лук репч...   \n",
       "-zamorozhennyy-yogurt-s-yagodami-i-ovsyankoy-10...  [фруктовый йогурт, овсяная крупа, свежие ягоды...   \n",
       "abhazskaya-adzhika-138219                           [красный перец чили, чеснок, кинза, красный ба...   \n",
       "...                                                                                               ...   \n",
       "zubatka-v-slivochnom-souse-51190                    [зубатка, сливки, рыбный бульон, соль, сухие в...   \n",
       "zubatka-zapechennaja-s-ovoschami-sirom-28846        [филе зубатки, сыр, морковь, лук репчатый, каб...   \n",
       "zubatka-zapechennaja-s-ovoshhami-40684              [морковь, лук репчатый, петрушка, филе зубатки...   \n",
       "zuppa-de-peshe-20816                                [кальмары, мидии в ракушках, ракушки-венерки (...   \n",
       "zur-belish-126638                                   [пшеничная мука, сливочное масло, картофель, л...   \n",
       "\n",
       "                                                                                              amounts  \\\n",
       "recipe                                                                                                  \n",
       "-italyanskiy-rybnyy-sup-kachchukka--138643          [10 г, 2 зубчика, 150 г, ½ головки, 60 г, ½ г,...   \n",
       "-ravioli-s-tvorogom-i-grushey-137788                [300 г, 3 штуки, 200 г, 100 г, ¼ головки, щепо...   \n",
       "-sup-iz-tykvy-s-sokom-layma-25229                   [5 столовых ложек, 1 столовая ложка, 30 г, 2 г...   \n",
       "-zamorozhennyy-yogurt-s-yagodami-i-ovsyankoy-10...  [250 мл, 1 столовая ложка, по вкусу, 1 кг, 2 с...   \n",
       "abhazskaya-adzhika-138219                           [1 кг, 500 г, 250 г, 250 г, 20 г, 20 г, 1 стак...   \n",
       "...                                                                                               ...   \n",
       "zubatka-v-slivochnom-souse-51190                    [500 г, 750 мл, 1 л, 5 столовых ложек, 5 г, по...   \n",
       "zubatka-zapechennaja-s-ovoschami-sirom-28846        [600 г, 100 г, 2 штуки, 1 штука, 1 штука, 1 шт...   \n",
       "zubatka-zapechennaja-s-ovoshhami-40684              [1 штука, 1 штука, 1 пучок, 2 куска, по вкусу,...   \n",
       "zuppa-de-peshe-20816                                [20 г, 30 г, 30 г, 20 г, 20 мл, 1 зубчик, 30 г...   \n",
       "zur-belish-126638                                   [1 кг, 800 г, 1,5 кг, 1,5 кг, по вкусу, по вку...   \n",
       "\n",
       "                                                                type  \\\n",
       "recipe                                                                 \n",
       "-italyanskiy-rybnyy-sup-kachchukka--138643                      supy   \n",
       "-ravioli-s-tvorogom-i-grushey-137788                 osnovnye-blyuda   \n",
       "-sup-iz-tykvy-s-sokom-layma-25229                    osnovnye-blyuda   \n",
       "-zamorozhennyy-yogurt-s-yagodami-i-ovsyankoy-10...  vypechka-deserty   \n",
       "abhazskaya-adzhika-138219                             sousy-marinady   \n",
       "...                                                              ...   \n",
       "zubatka-v-slivochnom-souse-51190                     osnovnye-blyuda   \n",
       "zubatka-zapechennaja-s-ovoschami-sirom-28846         osnovnye-blyuda   \n",
       "zubatka-zapechennaja-s-ovoshhami-40684               osnovnye-blyuda   \n",
       "zuppa-de-peshe-20816                                            supy   \n",
       "zur-belish-126638                                    osnovnye-blyuda   \n",
       "\n",
       "                                                                                                  ids  \n",
       "recipe                                                                                                 \n",
       "-italyanskiy-rybnyy-sup-kachchukka--138643          [13444, 13430, 13738, 13413, 13467, 13679, 135...  \n",
       "-ravioli-s-tvorogom-i-grushey-137788                [13458, 13418, 13493, 15564, 13413, 13420, 134...  \n",
       "-sup-iz-tykvy-s-sokom-layma-25229                   [13485, 13952, 13412, 13413, 13774, 13453, 134...  \n",
       "-zamorozhennyy-yogurt-s-yagodami-i-ovsyankoy-10...  [15171, 13873, 13802, 13447, 13458, 13485, 134...  \n",
       "abhazskaya-adzhika-138219                           [14404, 13430, 13630, 13642, 13425, 13577, 144...  \n",
       "...                                                                                               ...  \n",
       "zubatka-v-slivochnom-souse-51190                    [30971, 13474, 13692, 13421, 14396, 13758, 134...  \n",
       "zubatka-zapechennaja-s-ovoschami-sirom-28846        [16565, 13426, 13449, 13413, 13539, 13449, 134...  \n",
       "zubatka-zapechennaja-s-ovoshhami-40684              [13449, 13413, 13424, 16565, 13421, 13427, 134...  \n",
       "zuppa-de-peshe-20816                                [13694, 14231, 15235, 13674, 13513, 13430, 136...  \n",
       "zur-belish-126638                                   [13458, 13412, 13431, 13413, 13421, 13420, 138...  \n",
       "\n",
       "[22824 rows x 4 columns]"
      ],
      "text/html": "<div>\n<style scoped>\n    .dataframe tbody tr th:only-of-type {\n        vertical-align: middle;\n    }\n\n    .dataframe tbody tr th {\n        vertical-align: top;\n    }\n\n    .dataframe thead th {\n        text-align: right;\n    }\n</style>\n<table border=\"1\" class=\"dataframe\">\n  <thead>\n    <tr style=\"text-align: right;\">\n      <th></th>\n      <th>ingredients</th>\n      <th>amounts</th>\n      <th>type</th>\n      <th>ids</th>\n    </tr>\n    <tr>\n      <th>recipe</th>\n      <th></th>\n      <th></th>\n      <th></th>\n      <th></th>\n    </tr>\n  </thead>\n  <tbody>\n    <tr>\n      <th>-italyanskiy-rybnyy-sup-kachchukka--138643</th>\n      <td>[анчоусы, чеснок, фенхель, лук репчатый, сладк...</td>\n      <td>[10 г, 2 зубчика, 150 г, ½ головки, 60 г, ½ г,...</td>\n      <td>supy</td>\n      <td>[13444, 13430, 13738, 13413, 13467, 13679, 135...</td>\n    </tr>\n    <tr>\n      <th>-ravioli-s-tvorogom-i-grushey-137788</th>\n      <td>[пшеничная мука, яйцо куриное, творог, сыр пар...</td>\n      <td>[300 г, 3 штуки, 200 г, 100 г, ¼ головки, щепо...</td>\n      <td>osnovnye-blyuda</td>\n      <td>[13458, 13418, 13493, 15564, 13413, 13420, 134...</td>\n    </tr>\n    <tr>\n      <th>-sup-iz-tykvy-s-sokom-layma-25229</th>\n      <td>[сметана, сок лайма, сливочное масло, лук репч...</td>\n      <td>[5 столовых ложек, 1 столовая ложка, 30 г, 2 г...</td>\n      <td>osnovnye-blyuda</td>\n      <td>[13485, 13952, 13412, 13413, 13774, 13453, 134...</td>\n    </tr>\n    <tr>\n      <th>-zamorozhennyy-yogurt-s-yagodami-i-ovsyankoy-104254</th>\n      <td>[фруктовый йогурт, овсяная крупа, свежие ягоды...</td>\n      <td>[250 мл, 1 столовая ложка, по вкусу, 1 кг, 2 с...</td>\n      <td>vypechka-deserty</td>\n      <td>[15171, 13873, 13802, 13447, 13458, 13485, 134...</td>\n    </tr>\n    <tr>\n      <th>abhazskaya-adzhika-138219</th>\n      <td>[красный перец чили, чеснок, кинза, красный ба...</td>\n      <td>[1 кг, 500 г, 250 г, 250 г, 20 г, 20 г, 1 стак...</td>\n      <td>sousy-marinady</td>\n      <td>[14404, 13430, 13630, 13642, 13425, 13577, 144...</td>\n    </tr>\n    <tr>\n      <th>...</th>\n      <td>...</td>\n      <td>...</td>\n      <td>...</td>\n      <td>...</td>\n    </tr>\n    <tr>\n      <th>zubatka-v-slivochnom-souse-51190</th>\n      <td>[зубатка, сливки, рыбный бульон, соль, сухие в...</td>\n      <td>[500 г, 750 мл, 1 л, 5 столовых ложек, 5 г, по...</td>\n      <td>osnovnye-blyuda</td>\n      <td>[30971, 13474, 13692, 13421, 14396, 13758, 134...</td>\n    </tr>\n    <tr>\n      <th>zubatka-zapechennaja-s-ovoschami-sirom-28846</th>\n      <td>[филе зубатки, сыр, морковь, лук репчатый, каб...</td>\n      <td>[600 г, 100 г, 2 штуки, 1 штука, 1 штука, 1 шт...</td>\n      <td>osnovnye-blyuda</td>\n      <td>[16565, 13426, 13449, 13413, 13539, 13449, 134...</td>\n    </tr>\n    <tr>\n      <th>zubatka-zapechennaja-s-ovoshhami-40684</th>\n      <td>[морковь, лук репчатый, петрушка, филе зубатки...</td>\n      <td>[1 штука, 1 штука, 1 пучок, 2 куска, по вкусу,...</td>\n      <td>osnovnye-blyuda</td>\n      <td>[13449, 13413, 13424, 16565, 13421, 13427, 134...</td>\n    </tr>\n    <tr>\n      <th>zuppa-de-peshe-20816</th>\n      <td>[кальмары, мидии в ракушках, ракушки-венерки (...</td>\n      <td>[20 г, 30 г, 30 г, 20 г, 20 мл, 1 зубчик, 30 г...</td>\n      <td>supy</td>\n      <td>[13694, 14231, 15235, 13674, 13513, 13430, 136...</td>\n    </tr>\n    <tr>\n      <th>zur-belish-126638</th>\n      <td>[пшеничная мука, сливочное масло, картофель, л...</td>\n      <td>[1 кг, 800 г, 1,5 кг, 1,5 кг, по вкусу, по вку...</td>\n      <td>osnovnye-blyuda</td>\n      <td>[13458, 13412, 13431, 13413, 13421, 13420, 138...</td>\n    </tr>\n  </tbody>\n</table>\n<p>22824 rows × 4 columns</p>\n</div>"
     },
     "metadata": {},
     "execution_count": 8
    }
   ],
   "source": [
    "df = df_orig.groupby('recipe').apply(f)\n",
    "df"
   ]
  },
  {
   "cell_type": "code",
   "execution_count": 47,
   "metadata": {},
   "outputs": [],
   "source": [
    "def custom_intersection(basket, ingredients):\n",
    "    intersec = []\n",
    "    for item in basket:\n",
    "        for ingredient in ingredients:\n",
    "            if item in ingredient:\n",
    "                intersec.append(ingredient)\n",
    "                break\n",
    "    return intersec"
   ]
  },
  {
   "cell_type": "code",
   "execution_count": 48,
   "metadata": {},
   "outputs": [],
   "source": [
    "def eval_score(x, basket):\n",
    "    ingredients = set(x)\n",
    "    intersection = custom_intersection(basket, ingredients)\n",
    "    score =  len(intersection) / len(ingredients)\n",
    "    return score"
   ]
  },
  {
   "cell_type": "code",
   "execution_count": 51,
   "metadata": {},
   "outputs": [
    {
     "output_type": "execute_result",
     "data": {
      "text/plain": [
       "{'куриная грудка',\n",
       " 'мука',\n",
       " 'помидоры',\n",
       " 'салат',\n",
       " 'соль',\n",
       " 'сухарики',\n",
       " 'яблоко',\n",
       " 'яйцо'}"
      ]
     },
     "metadata": {},
     "execution_count": 51
    }
   ],
   "source": [
    "test_basket = ['куриная грудка', 'помидоры', 'сухарики', 'салат', 'яблоко', 'мука', 'соль', 'яйцо']\n",
    "test_basket = set(test_basket)\n",
    "test_basket"
   ]
  },
  {
   "cell_type": "code",
   "execution_count": 65,
   "metadata": {},
   "outputs": [
    {
     "output_type": "execute_result",
     "data": {
      "text/plain": [
       "recipe\n",
       "pechene-leningradskoe-57253                        0.750000\n",
       "saharnoe-pechene-s-nachinkoj-39796                 0.571429\n",
       "omlet-s-zelenim-lukom-i-slivochnim-maslom-15195    0.500000\n",
       "roti-po-lankijski-43977                            0.500000\n",
       "jaichnij-parovoj-omlet-15013                       0.500000\n",
       "galushki-po-domashnemu-47957                       0.500000\n",
       "domashnjaja-lapsha-dlja-supa-26670                 0.500000\n",
       "vozdushnij-omlet-s-brinzoj-43225                   0.500000\n",
       "maca-69162                                         0.500000\n",
       "omlet-v-stakane-27617                              0.500000\n",
       "vanilno-medovoe-vafelnoe-pirozhnoe-46826           0.500000\n",
       "vzbitaja-jaichnica-15185                           0.500000\n",
       "grenki-s-kuricey-i-syrom-35098                     0.500000\n",
       "zavarnye-eklery-55490                              0.500000\n",
       "apfeltatsh-jablochnij-omlet-po-grizonski-16384     0.444444\n",
       "omlet-s-tvorogom-38484                             0.444444\n",
       "bistraja-sharlotka-33034                           0.444444\n",
       "sirniki-s-jablokami-i-suhofruktami-17833           0.444444\n",
       "cirniki-s-jablokami-34421                          0.444444\n",
       "gus-v-teste-farshirovannij-jablokami-35306         0.444444\n",
       "Name: ingredients, dtype: float64"
      ]
     },
     "metadata": {},
     "execution_count": 65
    }
   ],
   "source": [
    "df_scores = df['ingredients'].apply(eval_score, args=(test_basket,)).sort_values(ascending=False)\n",
    "df_scores.head(20)"
   ]
  },
  {
   "cell_type": "code",
   "execution_count": 64,
   "metadata": {},
   "outputs": [
    {
     "output_type": "execute_result",
     "data": {
      "text/plain": [
       "                                                                                       ingredients  \\\n",
       "recipe                                                                                               \n",
       "pechene-leningradskoe-57253                      [сахар, яйцо куриное, пшеничная мука, соль, пш...   \n",
       "saharnoe-pechene-s-nachinkoj-39796               [пшеничная мука, сахар, сливочное масло, яйцо ...   \n",
       "omlet-s-zelenim-lukom-i-slivochnim-maslom-15195  [яйцо куриное, зеленый лук, сливочное масло, м...   \n",
       "roti-po-lankijski-43977                          [пшеничная мука, вода, яйцо куриное, пшеничная...   \n",
       "jaichnij-parovoj-omlet-15013                     [сливочное масло, яйцо куриное, молоко, молоко...   \n",
       "galushki-po-domashnemu-47957                     [пшеничная мука, вода, яйцо куриное, соль, пше...   \n",
       "domashnjaja-lapsha-dlja-supa-26670               [пшеничная мука, вода, яйцо куриное, соль, пше...   \n",
       "vozdushnij-omlet-s-brinzoj-43225                 [молоко, зеленый салат, сыр брынза, соль, пере...   \n",
       "maca-69162                                       [пшеничная мука, вода, яйцо куриное, пшеничная...   \n",
       "omlet-v-stakane-27617                            [яйцо куриное, молоко, сливочное масло, молоко...   \n",
       "vanilno-medovoe-vafelnoe-pirozhnoe-46826         [яйцо куриное, сливочное масло, пшеничная мука...   \n",
       "vzbitaja-jaichnica-15185                         [сливочное масло, яйцо куриное, молоко, соль, ...   \n",
       "grenki-s-kuricey-i-syrom-35098                   [ванилин, сахар, соль, сливочное масло, яйцо к...   \n",
       "zavarnye-eklery-55490                            [пшеничная мука, вода, соль, сливочное масло, ...   \n",
       "apfeltatsh-jablochnij-omlet-po-grizonski-16384   [пшеничная мука, молоко, соль, яблоко, яйцо ку...   \n",
       "omlet-s-tvorogom-38484                           [яйцо куриное, творог, растительное масло, яйц...   \n",
       "bistraja-sharlotka-33034                         [сахар, яйцо куриное, пшеничная мука, яблоко, ...   \n",
       "sirniki-s-jablokami-i-suhofruktami-17833         [творог, сахар, яйцо куриное, пшеничная мука, ...   \n",
       "cirniki-s-jablokami-34421                        [творог, яйцо куриное, яблоко, пшеничная мука,...   \n",
       "gus-v-teste-farshirovannij-jablokami-35306       [гусь, пшеничная мука, яйцо куриное, вода, сол...   \n",
       "\n",
       "                                                                                           amounts  \\\n",
       "recipe                                                                                               \n",
       "pechene-leningradskoe-57253                      [250 г, 3 штуки, 250 г, щепотка, 1,25 стакана,...   \n",
       "saharnoe-pechene-s-nachinkoj-39796               [300 г, 90 г, 100 г, 1 штука, по вкусу, 1 стак...   \n",
       "omlet-s-zelenim-lukom-i-slivochnim-maslom-15195  [3 штуки, 1 пучок, 1 столовая ложка, 1 столова...   \n",
       "roti-po-lankijski-43977                          [150 г, 2 стакана, 1 штука, 2,5 стакана, ¾ ста...   \n",
       "jaichnij-parovoj-omlet-15013                     [10 г, 2 штуки, 60 мл, 75 мл, 20 г, 1 штука, 3...   \n",
       "galushki-po-domashnemu-47957                     [2 стакана, ½ стакана, 1 штука, по вкусу, 2,5 ...   \n",
       "domashnjaja-lapsha-dlja-supa-26670               [250 г, ⅓ стакана, 1 штука, по вкусу, 500 г, 3...   \n",
       "vozdushnij-omlet-s-brinzoj-43225                 [1 стакан, 2 куска, 80 г, щепотка, по вкусу, 1...   \n",
       "maca-69162                                       [½ кг, 250 мл, 4 штуки, 2,5 стакана, ¾ стакана...   \n",
       "omlet-v-stakane-27617                            [2 штуки, 30 мл, 15 г, 75 мл, 20 г, 1 штука, 3...   \n",
       "vanilno-medovoe-vafelnoe-pirozhnoe-46826         [5 штук, 180 г, 1 стакан, 5 столовых ложек, ще...   \n",
       "vzbitaja-jaichnica-15185                         [1 столовая ложка, 3 штуки, 2 столовые ложки, ...   \n",
       "grenki-s-kuricey-i-syrom-35098                   [щепотка, 2 г, щепотка, 1 столовая ложка, 1 шт...   \n",
       "zavarnye-eklery-55490                            [1 стакан, 1 стакан, щепотка, 100 г, 4 штуки, ...   \n",
       "apfeltatsh-jablochnij-omlet-po-grizonski-16384   [250 г, ¼ л, щепотка, 4 штуки, 2 штуки, по вку...   \n",
       "omlet-s-tvorogom-38484                           [3 штуки, ½ стакана, 1 чайная ложка, 2 штуки, ...   \n",
       "bistraja-sharlotka-33034                         [1 стакан, 4 штуки, 1 стакан, 6 штук, по вкусу...   \n",
       "sirniki-s-jablokami-i-suhofruktami-17833         [250 г, 150 г, 2 штуки, 50 г, 1 штука, 60 г, 4...   \n",
       "cirniki-s-jablokami-34421                        [250 г, 1 штука, 1 штука, 2 столовые ложки, 2 ...   \n",
       "gus-v-teste-farshirovannij-jablokami-35306       [1 штука, 700 г, 1 штука, 1 стакан, по вкусу, ...   \n",
       "\n",
       "                                                             type  \\\n",
       "recipe                                                              \n",
       "pechene-leningradskoe-57253                      vypechka-deserty   \n",
       "saharnoe-pechene-s-nachinkoj-39796               vypechka-deserty   \n",
       "omlet-s-zelenim-lukom-i-slivochnim-maslom-15195          zavtraki   \n",
       "roti-po-lankijski-43977                           osnovnye-blyuda   \n",
       "jaichnij-parovoj-omlet-15013                             zavtraki   \n",
       "galushki-po-domashnemu-47957                      osnovnye-blyuda   \n",
       "domashnjaja-lapsha-dlja-supa-26670                    pasta-picca   \n",
       "vozdushnij-omlet-s-brinzoj-43225                         zavtraki   \n",
       "maca-69162                                        osnovnye-blyuda   \n",
       "omlet-v-stakane-27617                                    zavtraki   \n",
       "vanilno-medovoe-vafelnoe-pirozhnoe-46826         vypechka-deserty   \n",
       "vzbitaja-jaichnica-15185                                 zavtraki   \n",
       "grenki-s-kuricey-i-syrom-35098                   vypechka-deserty   \n",
       "zavarnye-eklery-55490                            vypechka-deserty   \n",
       "apfeltatsh-jablochnij-omlet-po-grizonski-16384           zavtraki   \n",
       "omlet-s-tvorogom-38484                                   zavtraki   \n",
       "bistraja-sharlotka-33034                         vypechka-deserty   \n",
       "sirniki-s-jablokami-i-suhofruktami-17833                 zavtraki   \n",
       "cirniki-s-jablokami-34421                                zavtraki   \n",
       "gus-v-teste-farshirovannij-jablokami-35306        osnovnye-blyuda   \n",
       "\n",
       "                                                                                               ids  \n",
       "recipe                                                                                              \n",
       "pechene-leningradskoe-57253                      [13410, 13418, 13458, 13421, 13458, 13410, 134...  \n",
       "saharnoe-pechene-s-nachinkoj-39796               [13458, 13410, 13412, 13418, 13555, 13410, 134...  \n",
       "omlet-s-zelenim-lukom-i-slivochnim-maslom-15195  [13418, 13535, 13412, 13453, 13453, 13412, 134...  \n",
       "roti-po-lankijski-43977                          [13458, 13411, 13418, 13458, 13411, 13421, 134...  \n",
       "jaichnij-parovoj-omlet-15013                     [13412, 13418, 13453, 13453, 13412, 13418, 134...  \n",
       "galushki-po-domashnemu-47957                     [13458, 13411, 13418, 13421, 13458, 13411, 134...  \n",
       "domashnjaja-lapsha-dlja-supa-26670               [13458, 13411, 13418, 13421, 13458, 13418, 134...  \n",
       "vozdushnij-omlet-s-brinzoj-43225                 [13453, 13414, 13483, 13421, 13420, 13412, 134...  \n",
       "maca-69162                                       [13458, 13411, 13418, 13458, 13411, 13418, 134...  \n",
       "omlet-v-stakane-27617                            [13418, 13453, 13412, 13453, 13412, 13418, 134...  \n",
       "vanilno-medovoe-vafelnoe-pirozhnoe-46826         [13418, 13412, 13458, 13410, 13671, 13672, 134...  \n",
       "vzbitaja-jaichnica-15185                         [13412, 13418, 13453, 13421, 13453, 13412, 134...  \n",
       "grenki-s-kuricey-i-syrom-35098                   [13671, 13410, 13421, 13412, 13418, 13458, 156...  \n",
       "zavarnye-eklery-55490                            [13458, 13411, 13421, 13412, 13418, 13658, 134...  \n",
       "apfeltatsh-jablochnij-omlet-po-grizonski-16384   [13458, 13453, 13421, 13447, 13418, 13410, 134...  \n",
       "omlet-s-tvorogom-38484                           [13418, 13493, 13423, 13418, 13421, 13423, 134...  \n",
       "bistraja-sharlotka-33034                         [13410, 13418, 13458, 13447, 13421, 13412, 134...  \n",
       "sirniki-s-jablokami-i-suhofruktami-17833         [13493, 13410, 13418, 13458, 13447, 13806, 134...  \n",
       "cirniki-s-jablokami-34421                        [13493, 13418, 13447, 13458, 13410, 13522, 134...  \n",
       "gus-v-teste-farshirovannij-jablokami-35306       [13828, 13458, 13418, 13411, 13421, 13447, 134...  "
      ],
      "text/html": "<div>\n<style scoped>\n    .dataframe tbody tr th:only-of-type {\n        vertical-align: middle;\n    }\n\n    .dataframe tbody tr th {\n        vertical-align: top;\n    }\n\n    .dataframe thead th {\n        text-align: right;\n    }\n</style>\n<table border=\"1\" class=\"dataframe\">\n  <thead>\n    <tr style=\"text-align: right;\">\n      <th></th>\n      <th>ingredients</th>\n      <th>amounts</th>\n      <th>type</th>\n      <th>ids</th>\n    </tr>\n    <tr>\n      <th>recipe</th>\n      <th></th>\n      <th></th>\n      <th></th>\n      <th></th>\n    </tr>\n  </thead>\n  <tbody>\n    <tr>\n      <th>pechene-leningradskoe-57253</th>\n      <td>[сахар, яйцо куриное, пшеничная мука, соль, пш...</td>\n      <td>[250 г, 3 штуки, 250 г, щепотка, 1,25 стакана,...</td>\n      <td>vypechka-deserty</td>\n      <td>[13410, 13418, 13458, 13421, 13458, 13410, 134...</td>\n    </tr>\n    <tr>\n      <th>saharnoe-pechene-s-nachinkoj-39796</th>\n      <td>[пшеничная мука, сахар, сливочное масло, яйцо ...</td>\n      <td>[300 г, 90 г, 100 г, 1 штука, по вкусу, 1 стак...</td>\n      <td>vypechka-deserty</td>\n      <td>[13458, 13410, 13412, 13418, 13555, 13410, 134...</td>\n    </tr>\n    <tr>\n      <th>omlet-s-zelenim-lukom-i-slivochnim-maslom-15195</th>\n      <td>[яйцо куриное, зеленый лук, сливочное масло, м...</td>\n      <td>[3 штуки, 1 пучок, 1 столовая ложка, 1 столова...</td>\n      <td>zavtraki</td>\n      <td>[13418, 13535, 13412, 13453, 13453, 13412, 134...</td>\n    </tr>\n    <tr>\n      <th>roti-po-lankijski-43977</th>\n      <td>[пшеничная мука, вода, яйцо куриное, пшеничная...</td>\n      <td>[150 г, 2 стакана, 1 штука, 2,5 стакана, ¾ ста...</td>\n      <td>osnovnye-blyuda</td>\n      <td>[13458, 13411, 13418, 13458, 13411, 13421, 134...</td>\n    </tr>\n    <tr>\n      <th>jaichnij-parovoj-omlet-15013</th>\n      <td>[сливочное масло, яйцо куриное, молоко, молоко...</td>\n      <td>[10 г, 2 штуки, 60 мл, 75 мл, 20 г, 1 штука, 3...</td>\n      <td>zavtraki</td>\n      <td>[13412, 13418, 13453, 13453, 13412, 13418, 134...</td>\n    </tr>\n    <tr>\n      <th>galushki-po-domashnemu-47957</th>\n      <td>[пшеничная мука, вода, яйцо куриное, соль, пше...</td>\n      <td>[2 стакана, ½ стакана, 1 штука, по вкусу, 2,5 ...</td>\n      <td>osnovnye-blyuda</td>\n      <td>[13458, 13411, 13418, 13421, 13458, 13411, 134...</td>\n    </tr>\n    <tr>\n      <th>domashnjaja-lapsha-dlja-supa-26670</th>\n      <td>[пшеничная мука, вода, яйцо куриное, соль, пше...</td>\n      <td>[250 г, ⅓ стакана, 1 штука, по вкусу, 500 г, 3...</td>\n      <td>pasta-picca</td>\n      <td>[13458, 13411, 13418, 13421, 13458, 13418, 134...</td>\n    </tr>\n    <tr>\n      <th>vozdushnij-omlet-s-brinzoj-43225</th>\n      <td>[молоко, зеленый салат, сыр брынза, соль, пере...</td>\n      <td>[1 стакан, 2 куска, 80 г, щепотка, по вкусу, 1...</td>\n      <td>zavtraki</td>\n      <td>[13453, 13414, 13483, 13421, 13420, 13412, 134...</td>\n    </tr>\n    <tr>\n      <th>maca-69162</th>\n      <td>[пшеничная мука, вода, яйцо куриное, пшеничная...</td>\n      <td>[½ кг, 250 мл, 4 штуки, 2,5 стакана, ¾ стакана...</td>\n      <td>osnovnye-blyuda</td>\n      <td>[13458, 13411, 13418, 13458, 13411, 13418, 134...</td>\n    </tr>\n    <tr>\n      <th>omlet-v-stakane-27617</th>\n      <td>[яйцо куриное, молоко, сливочное масло, молоко...</td>\n      <td>[2 штуки, 30 мл, 15 г, 75 мл, 20 г, 1 штука, 3...</td>\n      <td>zavtraki</td>\n      <td>[13418, 13453, 13412, 13453, 13412, 13418, 134...</td>\n    </tr>\n    <tr>\n      <th>vanilno-medovoe-vafelnoe-pirozhnoe-46826</th>\n      <td>[яйцо куриное, сливочное масло, пшеничная мука...</td>\n      <td>[5 штук, 180 г, 1 стакан, 5 столовых ложек, ще...</td>\n      <td>vypechka-deserty</td>\n      <td>[13418, 13412, 13458, 13410, 13671, 13672, 134...</td>\n    </tr>\n    <tr>\n      <th>vzbitaja-jaichnica-15185</th>\n      <td>[сливочное масло, яйцо куриное, молоко, соль, ...</td>\n      <td>[1 столовая ложка, 3 штуки, 2 столовые ложки, ...</td>\n      <td>zavtraki</td>\n      <td>[13412, 13418, 13453, 13421, 13453, 13412, 134...</td>\n    </tr>\n    <tr>\n      <th>grenki-s-kuricey-i-syrom-35098</th>\n      <td>[ванилин, сахар, соль, сливочное масло, яйцо к...</td>\n      <td>[щепотка, 2 г, щепотка, 1 столовая ложка, 1 шт...</td>\n      <td>vypechka-deserty</td>\n      <td>[13671, 13410, 13421, 13412, 13418, 13458, 156...</td>\n    </tr>\n    <tr>\n      <th>zavarnye-eklery-55490</th>\n      <td>[пшеничная мука, вода, соль, сливочное масло, ...</td>\n      <td>[1 стакан, 1 стакан, щепотка, 100 г, 4 штуки, ...</td>\n      <td>vypechka-deserty</td>\n      <td>[13458, 13411, 13421, 13412, 13418, 13658, 134...</td>\n    </tr>\n    <tr>\n      <th>apfeltatsh-jablochnij-omlet-po-grizonski-16384</th>\n      <td>[пшеничная мука, молоко, соль, яблоко, яйцо ку...</td>\n      <td>[250 г, ¼ л, щепотка, 4 штуки, 2 штуки, по вку...</td>\n      <td>zavtraki</td>\n      <td>[13458, 13453, 13421, 13447, 13418, 13410, 134...</td>\n    </tr>\n    <tr>\n      <th>omlet-s-tvorogom-38484</th>\n      <td>[яйцо куриное, творог, растительное масло, яйц...</td>\n      <td>[3 штуки, ½ стакана, 1 чайная ложка, 2 штуки, ...</td>\n      <td>zavtraki</td>\n      <td>[13418, 13493, 13423, 13418, 13421, 13423, 134...</td>\n    </tr>\n    <tr>\n      <th>bistraja-sharlotka-33034</th>\n      <td>[сахар, яйцо куриное, пшеничная мука, яблоко, ...</td>\n      <td>[1 стакан, 4 штуки, 1 стакан, 6 штук, по вкусу...</td>\n      <td>vypechka-deserty</td>\n      <td>[13410, 13418, 13458, 13447, 13421, 13412, 134...</td>\n    </tr>\n    <tr>\n      <th>sirniki-s-jablokami-i-suhofruktami-17833</th>\n      <td>[творог, сахар, яйцо куриное, пшеничная мука, ...</td>\n      <td>[250 г, 150 г, 2 штуки, 50 г, 1 штука, 60 г, 4...</td>\n      <td>zavtraki</td>\n      <td>[13493, 13410, 13418, 13458, 13447, 13806, 134...</td>\n    </tr>\n    <tr>\n      <th>cirniki-s-jablokami-34421</th>\n      <td>[творог, яйцо куриное, яблоко, пшеничная мука,...</td>\n      <td>[250 г, 1 штука, 1 штука, 2 столовые ложки, 2 ...</td>\n      <td>zavtraki</td>\n      <td>[13493, 13418, 13447, 13458, 13410, 13522, 134...</td>\n    </tr>\n    <tr>\n      <th>gus-v-teste-farshirovannij-jablokami-35306</th>\n      <td>[гусь, пшеничная мука, яйцо куриное, вода, сол...</td>\n      <td>[1 штука, 700 г, 1 штука, 1 стакан, по вкусу, ...</td>\n      <td>osnovnye-blyuda</td>\n      <td>[13828, 13458, 13418, 13411, 13421, 13447, 134...</td>\n    </tr>\n  </tbody>\n</table>\n</div>"
     },
     "metadata": {},
     "execution_count": 64
    }
   ],
   "source": [
    "best_recipes = list(df_scores[:20].index)\n",
    "df.loc[best_recipes]"
   ]
  },
  {
   "cell_type": "code",
   "execution_count": 67,
   "metadata": {},
   "outputs": [],
   "source": [
    "# взешенные скоры по граммовкам\n",
    "# не больше 2 рецептов из каждой категории \n",
    "# поиск кластеров в списке продуктов"
   ]
  },
  {
   "cell_type": "code",
   "execution_count": null,
   "metadata": {},
   "outputs": [],
   "source": []
  }
 ]
}