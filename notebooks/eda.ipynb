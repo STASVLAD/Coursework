{
 "metadata": {
  "language_info": {
   "codemirror_mode": {
    "name": "ipython",
    "version": 3
   },
   "file_extension": ".py",
   "mimetype": "text/x-python",
   "name": "python",
   "nbconvert_exporter": "python",
   "pygments_lexer": "ipython3",
   "version": "3.8.5"
  },
  "orig_nbformat": 2,
  "kernelspec": {
   "name": "python3",
   "display_name": "Python 3.8.5 64-bit"
  },
  "metadata": {
   "interpreter": {
    "hash": "916dbcbb3f70747c44a77c7bcd40155683ae19c65e1c03b4aa3499c5328201f1"
   }
  },
  "interpreter": {
   "hash": "916dbcbb3f70747c44a77c7bcd40155683ae19c65e1c03b4aa3499c5328201f1"
  }
 },
 "nbformat": 4,
 "nbformat_minor": 2,
 "cells": [
  {
   "cell_type": "code",
   "execution_count": 1,
   "metadata": {},
   "outputs": [],
   "source": [
    "import pandas as pd\n",
    "import numpy as np"
   ]
  },
  {
   "cell_type": "code",
   "execution_count": 2,
   "metadata": {},
   "outputs": [],
   "source": [
    "df_orig = pd.read_csv('/media/stasvlad/storage/data/recipes/ingredients_from_eda.ru.csv', delimiter=',')"
   ]
  },
  {
   "cell_type": "code",
   "execution_count": 3,
   "metadata": {},
   "outputs": [
    {
     "output_type": "execute_result",
     "data": {
      "text/plain": [
       "            id            ingredient            amount  \\\n",
       "0        13411                  Вода               1 л   \n",
       "1        13410                 Сахар              90 г   \n",
       "2        13421                  Соль              12 г   \n",
       "3        14585          Уксус 9%-ный            250 мл   \n",
       "4        13436  Белокочанная капуста           1 штука   \n",
       "...        ...                   ...               ...   \n",
       "1159670  13458        Пшеничная мука          1 стакан   \n",
       "1159671  13546                 Какао  2 столовые ложки   \n",
       "1159672  14232                 Ликер  1 столовая ложка   \n",
       "1159673  13412       Сливочное масло             200 г   \n",
       "1159674  13561       Горький шоколад             200 г   \n",
       "\n",
       "                                               name              type  page  \n",
       "0                       kapusta-po-gruzinski-137009         zagotovki     1  \n",
       "1                       kapusta-po-gruzinski-137009         zagotovki     1  \n",
       "2                       kapusta-po-gruzinski-137009         zagotovki     1  \n",
       "3                       kapusta-po-gruzinski-137009         zagotovki     1  \n",
       "4                       kapusta-po-gruzinski-137009         zagotovki     1  \n",
       "...                                             ...               ...   ...  \n",
       "1159670  shokoladno-tvorozhnij-tort-chokochiz-49974  vypechka-deserty  1719  \n",
       "1159671  shokoladno-tvorozhnij-tort-chokochiz-49974  vypechka-deserty  1719  \n",
       "1159672  shokoladno-tvorozhnij-tort-chokochiz-49974  vypechka-deserty  1719  \n",
       "1159673  shokoladno-tvorozhnij-tort-chokochiz-49974  vypechka-deserty  1719  \n",
       "1159674  shokoladno-tvorozhnij-tort-chokochiz-49974  vypechka-deserty  1719  \n",
       "\n",
       "[1159675 rows x 6 columns]"
      ],
      "text/html": "<div>\n<style scoped>\n    .dataframe tbody tr th:only-of-type {\n        vertical-align: middle;\n    }\n\n    .dataframe tbody tr th {\n        vertical-align: top;\n    }\n\n    .dataframe thead th {\n        text-align: right;\n    }\n</style>\n<table border=\"1\" class=\"dataframe\">\n  <thead>\n    <tr style=\"text-align: right;\">\n      <th></th>\n      <th>id</th>\n      <th>ingredient</th>\n      <th>amount</th>\n      <th>name</th>\n      <th>type</th>\n      <th>page</th>\n    </tr>\n  </thead>\n  <tbody>\n    <tr>\n      <th>0</th>\n      <td>13411</td>\n      <td>Вода</td>\n      <td>1 л</td>\n      <td>kapusta-po-gruzinski-137009</td>\n      <td>zagotovki</td>\n      <td>1</td>\n    </tr>\n    <tr>\n      <th>1</th>\n      <td>13410</td>\n      <td>Сахар</td>\n      <td>90 г</td>\n      <td>kapusta-po-gruzinski-137009</td>\n      <td>zagotovki</td>\n      <td>1</td>\n    </tr>\n    <tr>\n      <th>2</th>\n      <td>13421</td>\n      <td>Соль</td>\n      <td>12 г</td>\n      <td>kapusta-po-gruzinski-137009</td>\n      <td>zagotovki</td>\n      <td>1</td>\n    </tr>\n    <tr>\n      <th>3</th>\n      <td>14585</td>\n      <td>Уксус 9%-ный</td>\n      <td>250 мл</td>\n      <td>kapusta-po-gruzinski-137009</td>\n      <td>zagotovki</td>\n      <td>1</td>\n    </tr>\n    <tr>\n      <th>4</th>\n      <td>13436</td>\n      <td>Белокочанная капуста</td>\n      <td>1 штука</td>\n      <td>kapusta-po-gruzinski-137009</td>\n      <td>zagotovki</td>\n      <td>1</td>\n    </tr>\n    <tr>\n      <th>...</th>\n      <td>...</td>\n      <td>...</td>\n      <td>...</td>\n      <td>...</td>\n      <td>...</td>\n      <td>...</td>\n    </tr>\n    <tr>\n      <th>1159670</th>\n      <td>13458</td>\n      <td>Пшеничная мука</td>\n      <td>1 стакан</td>\n      <td>shokoladno-tvorozhnij-tort-chokochiz-49974</td>\n      <td>vypechka-deserty</td>\n      <td>1719</td>\n    </tr>\n    <tr>\n      <th>1159671</th>\n      <td>13546</td>\n      <td>Какао</td>\n      <td>2 столовые ложки</td>\n      <td>shokoladno-tvorozhnij-tort-chokochiz-49974</td>\n      <td>vypechka-deserty</td>\n      <td>1719</td>\n    </tr>\n    <tr>\n      <th>1159672</th>\n      <td>14232</td>\n      <td>Ликер</td>\n      <td>1 столовая ложка</td>\n      <td>shokoladno-tvorozhnij-tort-chokochiz-49974</td>\n      <td>vypechka-deserty</td>\n      <td>1719</td>\n    </tr>\n    <tr>\n      <th>1159673</th>\n      <td>13412</td>\n      <td>Сливочное масло</td>\n      <td>200 г</td>\n      <td>shokoladno-tvorozhnij-tort-chokochiz-49974</td>\n      <td>vypechka-deserty</td>\n      <td>1719</td>\n    </tr>\n    <tr>\n      <th>1159674</th>\n      <td>13561</td>\n      <td>Горький шоколад</td>\n      <td>200 г</td>\n      <td>shokoladno-tvorozhnij-tort-chokochiz-49974</td>\n      <td>vypechka-deserty</td>\n      <td>1719</td>\n    </tr>\n  </tbody>\n</table>\n<p>1159675 rows × 6 columns</p>\n</div>"
     },
     "metadata": {},
     "execution_count": 3
    }
   ],
   "source": [
    "df_orig"
   ]
  },
  {
   "cell_type": "code",
   "execution_count": 4,
   "metadata": {},
   "outputs": [
    {
     "output_type": "execute_result",
     "data": {
      "text/plain": [
       "            id            ingredient            amount  \\\n",
       "0        13411                  вода               1 л   \n",
       "1        13410                 сахар              90 г   \n",
       "2        13421                  соль              12 г   \n",
       "3        14585          уксус 9%-ный            250 мл   \n",
       "4        13436  белокочанная капуста           1 штука   \n",
       "...        ...                   ...               ...   \n",
       "1159670  13458        пшеничная мука          1 стакан   \n",
       "1159671  13546                 какао  2 столовые ложки   \n",
       "1159672  14232                 ликер  1 столовая ложка   \n",
       "1159673  13412       сливочное масло             200 г   \n",
       "1159674  13561       горький шоколад             200 г   \n",
       "\n",
       "                                               name              type  page  \n",
       "0                       kapusta-po-gruzinski-137009         zagotovki     1  \n",
       "1                       kapusta-po-gruzinski-137009         zagotovki     1  \n",
       "2                       kapusta-po-gruzinski-137009         zagotovki     1  \n",
       "3                       kapusta-po-gruzinski-137009         zagotovki     1  \n",
       "4                       kapusta-po-gruzinski-137009         zagotovki     1  \n",
       "...                                             ...               ...   ...  \n",
       "1159670  shokoladno-tvorozhnij-tort-chokochiz-49974  vypechka-deserty  1719  \n",
       "1159671  shokoladno-tvorozhnij-tort-chokochiz-49974  vypechka-deserty  1719  \n",
       "1159672  shokoladno-tvorozhnij-tort-chokochiz-49974  vypechka-deserty  1719  \n",
       "1159673  shokoladno-tvorozhnij-tort-chokochiz-49974  vypechka-deserty  1719  \n",
       "1159674  shokoladno-tvorozhnij-tort-chokochiz-49974  vypechka-deserty  1719  \n",
       "\n",
       "[1159675 rows x 6 columns]"
      ],
      "text/html": "<div>\n<style scoped>\n    .dataframe tbody tr th:only-of-type {\n        vertical-align: middle;\n    }\n\n    .dataframe tbody tr th {\n        vertical-align: top;\n    }\n\n    .dataframe thead th {\n        text-align: right;\n    }\n</style>\n<table border=\"1\" class=\"dataframe\">\n  <thead>\n    <tr style=\"text-align: right;\">\n      <th></th>\n      <th>id</th>\n      <th>ingredient</th>\n      <th>amount</th>\n      <th>name</th>\n      <th>type</th>\n      <th>page</th>\n    </tr>\n  </thead>\n  <tbody>\n    <tr>\n      <th>0</th>\n      <td>13411</td>\n      <td>вода</td>\n      <td>1 л</td>\n      <td>kapusta-po-gruzinski-137009</td>\n      <td>zagotovki</td>\n      <td>1</td>\n    </tr>\n    <tr>\n      <th>1</th>\n      <td>13410</td>\n      <td>сахар</td>\n      <td>90 г</td>\n      <td>kapusta-po-gruzinski-137009</td>\n      <td>zagotovki</td>\n      <td>1</td>\n    </tr>\n    <tr>\n      <th>2</th>\n      <td>13421</td>\n      <td>соль</td>\n      <td>12 г</td>\n      <td>kapusta-po-gruzinski-137009</td>\n      <td>zagotovki</td>\n      <td>1</td>\n    </tr>\n    <tr>\n      <th>3</th>\n      <td>14585</td>\n      <td>уксус 9%-ный</td>\n      <td>250 мл</td>\n      <td>kapusta-po-gruzinski-137009</td>\n      <td>zagotovki</td>\n      <td>1</td>\n    </tr>\n    <tr>\n      <th>4</th>\n      <td>13436</td>\n      <td>белокочанная капуста</td>\n      <td>1 штука</td>\n      <td>kapusta-po-gruzinski-137009</td>\n      <td>zagotovki</td>\n      <td>1</td>\n    </tr>\n    <tr>\n      <th>...</th>\n      <td>...</td>\n      <td>...</td>\n      <td>...</td>\n      <td>...</td>\n      <td>...</td>\n      <td>...</td>\n    </tr>\n    <tr>\n      <th>1159670</th>\n      <td>13458</td>\n      <td>пшеничная мука</td>\n      <td>1 стакан</td>\n      <td>shokoladno-tvorozhnij-tort-chokochiz-49974</td>\n      <td>vypechka-deserty</td>\n      <td>1719</td>\n    </tr>\n    <tr>\n      <th>1159671</th>\n      <td>13546</td>\n      <td>какао</td>\n      <td>2 столовые ложки</td>\n      <td>shokoladno-tvorozhnij-tort-chokochiz-49974</td>\n      <td>vypechka-deserty</td>\n      <td>1719</td>\n    </tr>\n    <tr>\n      <th>1159672</th>\n      <td>14232</td>\n      <td>ликер</td>\n      <td>1 столовая ложка</td>\n      <td>shokoladno-tvorozhnij-tort-chokochiz-49974</td>\n      <td>vypechka-deserty</td>\n      <td>1719</td>\n    </tr>\n    <tr>\n      <th>1159673</th>\n      <td>13412</td>\n      <td>сливочное масло</td>\n      <td>200 г</td>\n      <td>shokoladno-tvorozhnij-tort-chokochiz-49974</td>\n      <td>vypechka-deserty</td>\n      <td>1719</td>\n    </tr>\n    <tr>\n      <th>1159674</th>\n      <td>13561</td>\n      <td>горький шоколад</td>\n      <td>200 г</td>\n      <td>shokoladno-tvorozhnij-tort-chokochiz-49974</td>\n      <td>vypechka-deserty</td>\n      <td>1719</td>\n    </tr>\n  </tbody>\n</table>\n<p>1159675 rows × 6 columns</p>\n</div>"
     },
     "metadata": {},
     "execution_count": 4
    }
   ],
   "source": [
    "ingredients_low = df_orig['ingredient'].apply(lambda x: x.lower()).values\n",
    "df_orig['ingredient'] = ingredients_low\n",
    "df_orig"
   ]
  },
  {
   "cell_type": "code",
   "execution_count": 5,
   "metadata": {},
   "outputs": [],
   "source": [
    "df_orig = df_orig.drop('page', axis='columns').rename(columns={'name': 'recipe'})"
   ]
  },
  {
   "cell_type": "code",
   "execution_count": 6,
   "metadata": {},
   "outputs": [
    {
     "output_type": "execute_result",
     "data": {
      "text/plain": [
       "          id   ingredient   amount  \\\n",
       "8339   15143  черный хлеб  3 куска   \n",
       "13770  15143  черный хлеб    200 г   \n",
       "25178  15143  черный хлеб    200 г   \n",
       "47254  15143  черный хлеб  3 куска   \n",
       "48116  15143  черный хлеб  3 куска   \n",
       "\n",
       "                                              recipe    type  \n",
       "8339    legkij-salat-s-kuricej-fasolju-i-sirom-36579  salaty  \n",
       "13770              salat-171-cezar-187-s-fetoj-26337  salaty  \n",
       "25178  svezhij-salat-s-cherri-apelsinami-fetoj-30589  salaty  \n",
       "47254                salat-s-fasolju-kukuruzoj-30081  salaty  \n",
       "48116                salat-s-fasolju-kukuruzoj-30081  salaty  "
      ],
      "text/html": "<div>\n<style scoped>\n    .dataframe tbody tr th:only-of-type {\n        vertical-align: middle;\n    }\n\n    .dataframe tbody tr th {\n        vertical-align: top;\n    }\n\n    .dataframe thead th {\n        text-align: right;\n    }\n</style>\n<table border=\"1\" class=\"dataframe\">\n  <thead>\n    <tr style=\"text-align: right;\">\n      <th></th>\n      <th>id</th>\n      <th>ingredient</th>\n      <th>amount</th>\n      <th>recipe</th>\n      <th>type</th>\n    </tr>\n  </thead>\n  <tbody>\n    <tr>\n      <th>8339</th>\n      <td>15143</td>\n      <td>черный хлеб</td>\n      <td>3 куска</td>\n      <td>legkij-salat-s-kuricej-fasolju-i-sirom-36579</td>\n      <td>salaty</td>\n    </tr>\n    <tr>\n      <th>13770</th>\n      <td>15143</td>\n      <td>черный хлеб</td>\n      <td>200 г</td>\n      <td>salat-171-cezar-187-s-fetoj-26337</td>\n      <td>salaty</td>\n    </tr>\n    <tr>\n      <th>25178</th>\n      <td>15143</td>\n      <td>черный хлеб</td>\n      <td>200 г</td>\n      <td>svezhij-salat-s-cherri-apelsinami-fetoj-30589</td>\n      <td>salaty</td>\n    </tr>\n    <tr>\n      <th>47254</th>\n      <td>15143</td>\n      <td>черный хлеб</td>\n      <td>3 куска</td>\n      <td>salat-s-fasolju-kukuruzoj-30081</td>\n      <td>salaty</td>\n    </tr>\n    <tr>\n      <th>48116</th>\n      <td>15143</td>\n      <td>черный хлеб</td>\n      <td>3 куска</td>\n      <td>salat-s-fasolju-kukuruzoj-30081</td>\n      <td>salaty</td>\n    </tr>\n  </tbody>\n</table>\n</div>"
     },
     "metadata": {},
     "execution_count": 6
    }
   ],
   "source": [
    "df_orig[df_orig.ingredient.str.lower() == 'черный хлеб'].head()"
   ]
  },
  {
   "cell_type": "code",
   "execution_count": 7,
   "metadata": {},
   "outputs": [],
   "source": [
    "def f(x):\n",
    "    d = {}\n",
    "    d['ingredients'] = list(x['ingredient'])\n",
    "    d['amounts'] = list(x['amount'])\n",
    "    d['type'] = x['type'].unique()[0]\n",
    "    d['ids'] =  list(x['id'])\n",
    "    return pd.Series(d, index=['ingredients', 'amounts', 'type', 'ids'])"
   ]
  },
  {
   "cell_type": "code",
   "execution_count": 8,
   "metadata": {},
   "outputs": [
    {
     "output_type": "execute_result",
     "data": {
      "text/plain": [
       "                                                                                          ingredients  \\\n",
       "recipe                                                                                                  \n",
       "-italyanskiy-rybnyy-sup-kachchukka--138643          [анчоусы, чеснок, фенхель, лук репчатый, сладк...   \n",
       "-ravioli-s-tvorogom-i-grushey-137788                [пшеничная мука, яйцо куриное, творог, сыр пар...   \n",
       "-sup-iz-tykvy-s-sokom-layma-25229                   [сметана, сок лайма, сливочное масло, лук репч...   \n",
       "-zamorozhennyy-yogurt-s-yagodami-i-ovsyankoy-10...  [фруктовый йогурт, овсяная крупа, свежие ягоды...   \n",
       "abhazskaya-adzhika-138219                           [красный перец чили, чеснок, кинза, красный ба...   \n",
       "...                                                                                               ...   \n",
       "zubatka-v-slivochnom-souse-51190                    [зубатка, сливки, рыбный бульон, соль, сухие в...   \n",
       "zubatka-zapechennaja-s-ovoschami-sirom-28846        [филе зубатки, сыр, морковь, лук репчатый, каб...   \n",
       "zubatka-zapechennaja-s-ovoshhami-40684              [морковь, лук репчатый, петрушка, филе зубатки...   \n",
       "zuppa-de-peshe-20816                                [кальмары, мидии в ракушках, ракушки-венерки (...   \n",
       "zur-belish-126638                                   [пшеничная мука, сливочное масло, картофель, л...   \n",
       "\n",
       "                                                                                              amounts  \\\n",
       "recipe                                                                                                  \n",
       "-italyanskiy-rybnyy-sup-kachchukka--138643          [10 г, 2 зубчика, 150 г, ½ головки, 60 г, ½ г,...   \n",
       "-ravioli-s-tvorogom-i-grushey-137788                [300 г, 3 штуки, 200 г, 100 г, ¼ головки, щепо...   \n",
       "-sup-iz-tykvy-s-sokom-layma-25229                   [5 столовых ложек, 1 столовая ложка, 30 г, 2 г...   \n",
       "-zamorozhennyy-yogurt-s-yagodami-i-ovsyankoy-10...  [250 мл, 1 столовая ложка, по вкусу, 1 кг, 2 с...   \n",
       "abhazskaya-adzhika-138219                           [1 кг, 500 г, 250 г, 250 г, 20 г, 20 г, 1 стак...   \n",
       "...                                                                                               ...   \n",
       "zubatka-v-slivochnom-souse-51190                    [500 г, 750 мл, 1 л, 5 столовых ложек, 5 г, по...   \n",
       "zubatka-zapechennaja-s-ovoschami-sirom-28846        [600 г, 100 г, 2 штуки, 1 штука, 1 штука, 1 шт...   \n",
       "zubatka-zapechennaja-s-ovoshhami-40684              [1 штука, 1 штука, 1 пучок, 2 куска, по вкусу,...   \n",
       "zuppa-de-peshe-20816                                [20 г, 30 г, 30 г, 20 г, 20 мл, 1 зубчик, 30 г...   \n",
       "zur-belish-126638                                   [1 кг, 800 г, 1,5 кг, 1,5 кг, по вкусу, по вку...   \n",
       "\n",
       "                                                                type  \\\n",
       "recipe                                                                 \n",
       "-italyanskiy-rybnyy-sup-kachchukka--138643                      supy   \n",
       "-ravioli-s-tvorogom-i-grushey-137788                 osnovnye-blyuda   \n",
       "-sup-iz-tykvy-s-sokom-layma-25229                    osnovnye-blyuda   \n",
       "-zamorozhennyy-yogurt-s-yagodami-i-ovsyankoy-10...  vypechka-deserty   \n",
       "abhazskaya-adzhika-138219                             sousy-marinady   \n",
       "...                                                              ...   \n",
       "zubatka-v-slivochnom-souse-51190                     osnovnye-blyuda   \n",
       "zubatka-zapechennaja-s-ovoschami-sirom-28846         osnovnye-blyuda   \n",
       "zubatka-zapechennaja-s-ovoshhami-40684               osnovnye-blyuda   \n",
       "zuppa-de-peshe-20816                                            supy   \n",
       "zur-belish-126638                                    osnovnye-blyuda   \n",
       "\n",
       "                                                                                                  ids  \n",
       "recipe                                                                                                 \n",
       "-italyanskiy-rybnyy-sup-kachchukka--138643          [13444, 13430, 13738, 13413, 13467, 13679, 135...  \n",
       "-ravioli-s-tvorogom-i-grushey-137788                [13458, 13418, 13493, 15564, 13413, 13420, 134...  \n",
       "-sup-iz-tykvy-s-sokom-layma-25229                   [13485, 13952, 13412, 13413, 13774, 13453, 134...  \n",
       "-zamorozhennyy-yogurt-s-yagodami-i-ovsyankoy-10...  [15171, 13873, 13802, 13447, 13458, 13485, 134...  \n",
       "abhazskaya-adzhika-138219                           [14404, 13430, 13630, 13642, 13425, 13577, 144...  \n",
       "...                                                                                               ...  \n",
       "zubatka-v-slivochnom-souse-51190                    [30971, 13474, 13692, 13421, 14396, 13758, 134...  \n",
       "zubatka-zapechennaja-s-ovoschami-sirom-28846        [16565, 13426, 13449, 13413, 13539, 13449, 134...  \n",
       "zubatka-zapechennaja-s-ovoshhami-40684              [13449, 13413, 13424, 16565, 13421, 13427, 134...  \n",
       "zuppa-de-peshe-20816                                [13694, 14231, 15235, 13674, 13513, 13430, 136...  \n",
       "zur-belish-126638                                   [13458, 13412, 13431, 13413, 13421, 13420, 138...  \n",
       "\n",
       "[22824 rows x 4 columns]"
      ],
      "text/html": "<div>\n<style scoped>\n    .dataframe tbody tr th:only-of-type {\n        vertical-align: middle;\n    }\n\n    .dataframe tbody tr th {\n        vertical-align: top;\n    }\n\n    .dataframe thead th {\n        text-align: right;\n    }\n</style>\n<table border=\"1\" class=\"dataframe\">\n  <thead>\n    <tr style=\"text-align: right;\">\n      <th></th>\n      <th>ingredients</th>\n      <th>amounts</th>\n      <th>type</th>\n      <th>ids</th>\n    </tr>\n    <tr>\n      <th>recipe</th>\n      <th></th>\n      <th></th>\n      <th></th>\n      <th></th>\n    </tr>\n  </thead>\n  <tbody>\n    <tr>\n      <th>-italyanskiy-rybnyy-sup-kachchukka--138643</th>\n      <td>[анчоусы, чеснок, фенхель, лук репчатый, сладк...</td>\n      <td>[10 г, 2 зубчика, 150 г, ½ головки, 60 г, ½ г,...</td>\n      <td>supy</td>\n      <td>[13444, 13430, 13738, 13413, 13467, 13679, 135...</td>\n    </tr>\n    <tr>\n      <th>-ravioli-s-tvorogom-i-grushey-137788</th>\n      <td>[пшеничная мука, яйцо куриное, творог, сыр пар...</td>\n      <td>[300 г, 3 штуки, 200 г, 100 г, ¼ головки, щепо...</td>\n      <td>osnovnye-blyuda</td>\n      <td>[13458, 13418, 13493, 15564, 13413, 13420, 134...</td>\n    </tr>\n    <tr>\n      <th>-sup-iz-tykvy-s-sokom-layma-25229</th>\n      <td>[сметана, сок лайма, сливочное масло, лук репч...</td>\n      <td>[5 столовых ложек, 1 столовая ложка, 30 г, 2 г...</td>\n      <td>osnovnye-blyuda</td>\n      <td>[13485, 13952, 13412, 13413, 13774, 13453, 134...</td>\n    </tr>\n    <tr>\n      <th>-zamorozhennyy-yogurt-s-yagodami-i-ovsyankoy-104254</th>\n      <td>[фруктовый йогурт, овсяная крупа, свежие ягоды...</td>\n      <td>[250 мл, 1 столовая ложка, по вкусу, 1 кг, 2 с...</td>\n      <td>vypechka-deserty</td>\n      <td>[15171, 13873, 13802, 13447, 13458, 13485, 134...</td>\n    </tr>\n    <tr>\n      <th>abhazskaya-adzhika-138219</th>\n      <td>[красный перец чили, чеснок, кинза, красный ба...</td>\n      <td>[1 кг, 500 г, 250 г, 250 г, 20 г, 20 г, 1 стак...</td>\n      <td>sousy-marinady</td>\n      <td>[14404, 13430, 13630, 13642, 13425, 13577, 144...</td>\n    </tr>\n    <tr>\n      <th>...</th>\n      <td>...</td>\n      <td>...</td>\n      <td>...</td>\n      <td>...</td>\n    </tr>\n    <tr>\n      <th>zubatka-v-slivochnom-souse-51190</th>\n      <td>[зубатка, сливки, рыбный бульон, соль, сухие в...</td>\n      <td>[500 г, 750 мл, 1 л, 5 столовых ложек, 5 г, по...</td>\n      <td>osnovnye-blyuda</td>\n      <td>[30971, 13474, 13692, 13421, 14396, 13758, 134...</td>\n    </tr>\n    <tr>\n      <th>zubatka-zapechennaja-s-ovoschami-sirom-28846</th>\n      <td>[филе зубатки, сыр, морковь, лук репчатый, каб...</td>\n      <td>[600 г, 100 г, 2 штуки, 1 штука, 1 штука, 1 шт...</td>\n      <td>osnovnye-blyuda</td>\n      <td>[16565, 13426, 13449, 13413, 13539, 13449, 134...</td>\n    </tr>\n    <tr>\n      <th>zubatka-zapechennaja-s-ovoshhami-40684</th>\n      <td>[морковь, лук репчатый, петрушка, филе зубатки...</td>\n      <td>[1 штука, 1 штука, 1 пучок, 2 куска, по вкусу,...</td>\n      <td>osnovnye-blyuda</td>\n      <td>[13449, 13413, 13424, 16565, 13421, 13427, 134...</td>\n    </tr>\n    <tr>\n      <th>zuppa-de-peshe-20816</th>\n      <td>[кальмары, мидии в ракушках, ракушки-венерки (...</td>\n      <td>[20 г, 30 г, 30 г, 20 г, 20 мл, 1 зубчик, 30 г...</td>\n      <td>supy</td>\n      <td>[13694, 14231, 15235, 13674, 13513, 13430, 136...</td>\n    </tr>\n    <tr>\n      <th>zur-belish-126638</th>\n      <td>[пшеничная мука, сливочное масло, картофель, л...</td>\n      <td>[1 кг, 800 г, 1,5 кг, 1,5 кг, по вкусу, по вку...</td>\n      <td>osnovnye-blyuda</td>\n      <td>[13458, 13412, 13431, 13413, 13421, 13420, 138...</td>\n    </tr>\n  </tbody>\n</table>\n<p>22824 rows × 4 columns</p>\n</div>"
     },
     "metadata": {},
     "execution_count": 8
    }
   ],
   "source": [
    "df = df_orig.groupby('recipe').apply(f)\n",
    "df"
   ]
  },
  {
   "cell_type": "code",
   "execution_count": 9,
   "metadata": {},
   "outputs": [],
   "source": [
    "def custom_intersection(basket, ingredients):\n",
    "    intersec = []\n",
    "    for b in basket:\n",
    "        for ingredient in ingredients:\n",
    "            if b in ingredient:\n",
    "                intersec.append(ingredient)\n",
    "                break\n",
    "    return intersec"
   ]
  },
  {
   "cell_type": "code",
   "execution_count": 10,
   "metadata": {},
   "outputs": [],
   "source": [
    "def get_recs(x, basket):\n",
    "    ingredients = set(x)\n",
    "    intersection = set(custom_intersection(basket, ingredients))\n",
    "    return ingredients - intersection"
   ]
  },
  {
   "cell_type": "code",
   "execution_count": 11,
   "metadata": {},
   "outputs": [],
   "source": [
    "def eval_score(x, basket):\n",
    "    ingredients = set(x)\n",
    "    intersection = custom_intersection(basket, ingredients)\n",
    "    score =  len(intersection) / len(ingredients)\n",
    "    return score, get_recs(x, basket)"
   ]
  },
  {
   "cell_type": "code",
   "execution_count": 12,
   "metadata": {},
   "outputs": [
    {
     "output_type": "execute_result",
     "data": {
      "text/plain": [
       "{'вода', 'гречка', 'курица', 'молоко', 'сметана', 'хлеб', 'яйцо'}"
      ]
     },
     "metadata": {},
     "execution_count": 12
    }
   ],
   "source": [
    "test_basket = ['молоко', 'яйцо', 'хлеб', 'вода', 'курица', 'гречка', 'сметана']\n",
    "test_basket = set(test_basket)\n",
    "test_basket"
   ]
  },
  {
   "cell_type": "code",
   "execution_count": 13,
   "metadata": {},
   "outputs": [
    {
     "output_type": "execute_result",
     "data": {
      "text/plain": [
       "recipe\n",
       "jaichnica-s-gribami-25451                                                (0.75, {маслята})\n",
       "jajca-vsmjatku-30908                                                     (0.75, {маслята})\n",
       "omlet-po-japonski-39151                                                  (0.75, {майонез})\n",
       "klassicheskie-jajca-v-meshochek-15178                                    (0.75, {маслята})\n",
       "jajca-vsmjatku-bez-kipjachenija-15176                                    (0.75, {маслята})\n",
       "jajca-vkrutuju-15180                                                     (0.75, {маслята})\n",
       "jaicnica-s-kuricej-v-soevom-souse-47506                 (0.6, {соевый соус, куриное филе})\n",
       "jajca-pashot-v-bulochke-44592                     (0.6, {булочка для гамбургеров, специи})\n",
       "jajca-zapechennie-v-duhovke-s-kolbaskami-34674                  (0.6, {колбаски, паприка})\n",
       "jaichnica-s-seldju-15188                                           (0.6, {сельдь, зелень})\n",
       "Name: ingredients, dtype: object"
      ]
     },
     "metadata": {},
     "execution_count": 13
    }
   ],
   "source": [
    "df_scores = df['ingredients'].apply(eval_score, args=(test_basket,)).sort_values(ascending=False)\n",
    "df_scores.head(10)"
   ]
  },
  {
   "cell_type": "code",
   "execution_count": 14,
   "metadata": {},
   "outputs": [
    {
     "output_type": "execute_result",
     "data": {
      "text/plain": [
       "                                                                                      ingredients  \\\n",
       "recipe                                                                                              \n",
       "jaichnica-s-gribami-25451                       [яйцо куриное, маслята, яйцо куриное, молоко, ...   \n",
       "jajca-vsmjatku-30908                            [яйцо куриное, молоко, яйцо куриное, белый хле...   \n",
       "omlet-po-japonski-39151                         [яйцо куриное, майонез, яйцо куриное, молоко, ...   \n",
       "klassicheskie-jajca-v-meshochek-15178           [яйцо куриное, молоко, яйцо куриное, белый хле...   \n",
       "jajca-vsmjatku-bez-kipjachenija-15176           [яйцо куриное, молоко, яйцо куриное, белый хле...   \n",
       "jajca-vkrutuju-15180                            [яйцо куриное, молоко, яйцо куриное, белый хле...   \n",
       "jaicnica-s-kuricej-v-soevom-souse-47506         [яйцо куриное, куриное филе, соевый соус, яйцо...   \n",
       "jajca-pashot-v-bulochke-44592                   [яйцо куриное, булочка для гамбургеров, специи...   \n",
       "jajca-zapechennie-v-duhovke-s-kolbaskami-34674  [яйцо куриное, колбаски, паприка, молоко, яйцо...   \n",
       "jaichnica-s-seldju-15188                        [яйцо куриное, зелень, сельдь, яйцо куриное, м...   \n",
       "\n",
       "                                                                                          amounts  \\\n",
       "recipe                                                                                              \n",
       "jaichnica-s-gribami-25451                       [5 штук, 10 штук, 2 штуки, 20 мл, 1 штука, 1 к...   \n",
       "jajca-vsmjatku-30908                            [2 штуки, 20 мл, 1 штука, 1 кусок, 5 штук, 10 ...   \n",
       "omlet-po-japonski-39151                         [3 штуки, 3 столовые ложки, 2 штуки, 20 мл, 1 ...   \n",
       "klassicheskie-jajca-v-meshochek-15178           [2 штуки, 20 мл, 1 штука, 1 кусок, 5 штук, 10 ...   \n",
       "jajca-vsmjatku-bez-kipjachenija-15176           [2 штуки, 20 мл, 1 штука, 1 кусок, 5 штук, 10 ...   \n",
       "jajca-vkrutuju-15180                            [2 штуки, 20 мл, 1 штука, 1 кусок, 5 штук, 10 ...   \n",
       "jaicnica-s-kuricej-v-soevom-souse-47506         [3 штуки, 1 кусок, по вкусу, 2 штуки, 20 мл, 1...   \n",
       "jajca-pashot-v-bulochke-44592                   [2 штуки, 2 штуки, по вкусу, 20 мл, 1 штука, 1...   \n",
       "jajca-zapechennie-v-duhovke-s-kolbaskami-34674  [2 штуки, 2 штуки, по вкусу, 20 мл, 1 штука, 1...   \n",
       "jaichnica-s-seldju-15188                        [5 штук, по вкусу, 1 штука, 2 штуки, 20 мл, 1 ...   \n",
       "\n",
       "                                                    type  \\\n",
       "recipe                                                     \n",
       "jaichnica-s-gribami-25451                       zavtraki   \n",
       "jajca-vsmjatku-30908                            zavtraki   \n",
       "omlet-po-japonski-39151                         zavtraki   \n",
       "klassicheskie-jajca-v-meshochek-15178           zavtraki   \n",
       "jajca-vsmjatku-bez-kipjachenija-15176           zavtraki   \n",
       "jajca-vkrutuju-15180                            zavtraki   \n",
       "jaicnica-s-kuricej-v-soevom-souse-47506         zavtraki   \n",
       "jajca-pashot-v-bulochke-44592                   zavtraki   \n",
       "jajca-zapechennie-v-duhovke-s-kolbaskami-34674  zavtraki   \n",
       "jaichnica-s-seldju-15188                        zavtraki   \n",
       "\n",
       "                                                                                              ids  \n",
       "recipe                                                                                             \n",
       "jaichnica-s-gribami-25451                              [13418, 16091, 13418, 13453, 13418, 13454]  \n",
       "jajca-vsmjatku-30908                                   [13418, 13453, 13418, 13454, 13418, 16091]  \n",
       "omlet-po-japonski-39151                                [13418, 13440, 13418, 13453, 13418, 13454]  \n",
       "klassicheskie-jajca-v-meshochek-15178                  [13418, 13453, 13418, 13454, 13418, 16091]  \n",
       "jajca-vsmjatku-bez-kipjachenija-15176                  [13418, 13453, 13418, 13454, 13418, 16091]  \n",
       "jajca-vkrutuju-15180                                   [13418, 13453, 13418, 13454, 13418, 16091]  \n",
       "jaicnica-s-kuricej-v-soevom-souse-47506         [13418, 13544, 13570, 13418, 13453, 13418, 13454]  \n",
       "jajca-pashot-v-bulochke-44592                          [13418, 18914, 14139, 13453, 13418, 13454]  \n",
       "jajca-zapechennie-v-duhovke-s-kolbaskami-34674         [13418, 13703, 13592, 13453, 13418, 13454]  \n",
       "jaichnica-s-seldju-15188                        [13418, 13586, 13918, 13418, 13453, 13418, 13454]  "
      ],
      "text/html": "<div>\n<style scoped>\n    .dataframe tbody tr th:only-of-type {\n        vertical-align: middle;\n    }\n\n    .dataframe tbody tr th {\n        vertical-align: top;\n    }\n\n    .dataframe thead th {\n        text-align: right;\n    }\n</style>\n<table border=\"1\" class=\"dataframe\">\n  <thead>\n    <tr style=\"text-align: right;\">\n      <th></th>\n      <th>ingredients</th>\n      <th>amounts</th>\n      <th>type</th>\n      <th>ids</th>\n    </tr>\n    <tr>\n      <th>recipe</th>\n      <th></th>\n      <th></th>\n      <th></th>\n      <th></th>\n    </tr>\n  </thead>\n  <tbody>\n    <tr>\n      <th>jaichnica-s-gribami-25451</th>\n      <td>[яйцо куриное, маслята, яйцо куриное, молоко, ...</td>\n      <td>[5 штук, 10 штук, 2 штуки, 20 мл, 1 штука, 1 к...</td>\n      <td>zavtraki</td>\n      <td>[13418, 16091, 13418, 13453, 13418, 13454]</td>\n    </tr>\n    <tr>\n      <th>jajca-vsmjatku-30908</th>\n      <td>[яйцо куриное, молоко, яйцо куриное, белый хле...</td>\n      <td>[2 штуки, 20 мл, 1 штука, 1 кусок, 5 штук, 10 ...</td>\n      <td>zavtraki</td>\n      <td>[13418, 13453, 13418, 13454, 13418, 16091]</td>\n    </tr>\n    <tr>\n      <th>omlet-po-japonski-39151</th>\n      <td>[яйцо куриное, майонез, яйцо куриное, молоко, ...</td>\n      <td>[3 штуки, 3 столовые ложки, 2 штуки, 20 мл, 1 ...</td>\n      <td>zavtraki</td>\n      <td>[13418, 13440, 13418, 13453, 13418, 13454]</td>\n    </tr>\n    <tr>\n      <th>klassicheskie-jajca-v-meshochek-15178</th>\n      <td>[яйцо куриное, молоко, яйцо куриное, белый хле...</td>\n      <td>[2 штуки, 20 мл, 1 штука, 1 кусок, 5 штук, 10 ...</td>\n      <td>zavtraki</td>\n      <td>[13418, 13453, 13418, 13454, 13418, 16091]</td>\n    </tr>\n    <tr>\n      <th>jajca-vsmjatku-bez-kipjachenija-15176</th>\n      <td>[яйцо куриное, молоко, яйцо куриное, белый хле...</td>\n      <td>[2 штуки, 20 мл, 1 штука, 1 кусок, 5 штук, 10 ...</td>\n      <td>zavtraki</td>\n      <td>[13418, 13453, 13418, 13454, 13418, 16091]</td>\n    </tr>\n    <tr>\n      <th>jajca-vkrutuju-15180</th>\n      <td>[яйцо куриное, молоко, яйцо куриное, белый хле...</td>\n      <td>[2 штуки, 20 мл, 1 штука, 1 кусок, 5 штук, 10 ...</td>\n      <td>zavtraki</td>\n      <td>[13418, 13453, 13418, 13454, 13418, 16091]</td>\n    </tr>\n    <tr>\n      <th>jaicnica-s-kuricej-v-soevom-souse-47506</th>\n      <td>[яйцо куриное, куриное филе, соевый соус, яйцо...</td>\n      <td>[3 штуки, 1 кусок, по вкусу, 2 штуки, 20 мл, 1...</td>\n      <td>zavtraki</td>\n      <td>[13418, 13544, 13570, 13418, 13453, 13418, 13454]</td>\n    </tr>\n    <tr>\n      <th>jajca-pashot-v-bulochke-44592</th>\n      <td>[яйцо куриное, булочка для гамбургеров, специи...</td>\n      <td>[2 штуки, 2 штуки, по вкусу, 20 мл, 1 штука, 1...</td>\n      <td>zavtraki</td>\n      <td>[13418, 18914, 14139, 13453, 13418, 13454]</td>\n    </tr>\n    <tr>\n      <th>jajca-zapechennie-v-duhovke-s-kolbaskami-34674</th>\n      <td>[яйцо куриное, колбаски, паприка, молоко, яйцо...</td>\n      <td>[2 штуки, 2 штуки, по вкусу, 20 мл, 1 штука, 1...</td>\n      <td>zavtraki</td>\n      <td>[13418, 13703, 13592, 13453, 13418, 13454]</td>\n    </tr>\n    <tr>\n      <th>jaichnica-s-seldju-15188</th>\n      <td>[яйцо куриное, зелень, сельдь, яйцо куриное, м...</td>\n      <td>[5 штук, по вкусу, 1 штука, 2 штуки, 20 мл, 1 ...</td>\n      <td>zavtraki</td>\n      <td>[13418, 13586, 13918, 13418, 13453, 13418, 13454]</td>\n    </tr>\n  </tbody>\n</table>\n</div>"
     },
     "metadata": {},
     "execution_count": 14
    }
   ],
   "source": [
    "best_recipes = list(df_scores[:10].index)\n",
    "df.loc[best_recipes]"
   ]
  },
  {
   "cell_type": "code",
   "execution_count": 15,
   "metadata": {},
   "outputs": [
    {
     "output_type": "execute_result",
     "data": {
      "text/plain": [
       "array([{'маслята'}, {'маслята'}, {'майонез'}, {'маслята'}, {'маслята'},\n",
       "       {'маслята'}, {'соевый соус', 'куриное филе'},\n",
       "       {'булочка для гамбургеров', 'специи'}, {'колбаски', 'паприка'},\n",
       "       {'сельдь', 'зелень'}], dtype=object)"
      ]
     },
     "metadata": {},
     "execution_count": 15
    }
   ],
   "source": [
    "recs = df.loc[best_recipes]['ingredients'].apply(get_recs, args=(test_basket,)).values\n",
    "recs"
   ]
  },
  {
   "cell_type": "code",
   "execution_count": 16,
   "metadata": {},
   "outputs": [
    {
     "output_type": "execute_result",
     "data": {
      "text/plain": [
       "['маслята',\n",
       " 'майонез',\n",
       " 'соевый соус',\n",
       " 'куриное филе',\n",
       " 'булочка для гамбургеров',\n",
       " 'специи',\n",
       " 'колбаски',\n",
       " 'паприка',\n",
       " 'сельдь',\n",
       " 'зелень']"
      ]
     },
     "metadata": {},
     "execution_count": 16
    }
   ],
   "source": [
    "uniq_recs = []\n",
    "for rec in recs:\n",
    "    for ingr in rec:\n",
    "        if ingr not in uniq_recs:\n",
    "            uniq_recs.append(ingr)\n",
    "uniq_recs"
   ]
  }
 ]
}